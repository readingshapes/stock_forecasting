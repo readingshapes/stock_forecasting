{
 "cells": [
  {
   "cell_type": "code",
   "execution_count": 1,
   "metadata": {},
   "outputs": [],
   "source": [
    "import yfinance as yf\n",
    "import pandas as pd\n",
    "\n",
    "import mysql.connector\n",
    "from stockstats import StockDataFrame as ss\n",
    "\n",
    "import numpy as np\n",
    "\n",
    "import matplotlib.pyplot as plt\n",
    "\n",
    "import pytz\n",
    "import warnings\n",
    "warnings.filterwarnings(\"ignore\")\n",
    "\n",
    "import time\n",
    "import random\n",
    "import statistics\n",
    "import pydoc\n",
    "import mysql.connector\n",
    "import os\n",
    "\n",
    "from pandas.io import gbq"
   ]
  },
  {
   "cell_type": "code",
   "execution_count": 2,
   "metadata": {},
   "outputs": [
    {
     "name": "stdout",
     "output_type": "stream",
     "text": [
      "[*********************100%%**********************]  1 of 1 completed\n",
      "                  open        high         low       close   adj close  \\\n",
      "Date                                                                     \n",
      "2004-01-02    0.384821    0.388393    0.378214    0.380000    0.322118   \n",
      "2004-01-05    0.382500    0.399821    0.382500    0.395893    0.335591   \n",
      "2004-01-06    0.397321    0.400357    0.387679    0.394464    0.334379   \n",
      "2004-01-07    0.394643    0.407679    0.391607    0.403393    0.341948   \n",
      "2004-01-08    0.407857    0.423750    0.404464    0.417143    0.353604   \n",
      "...                ...         ...         ...         ...         ...   \n",
      "2023-12-08  194.199997  195.990005  193.669998  195.710007  195.710007   \n",
      "2023-12-11  193.110001  193.490005  191.419998  193.179993  193.179993   \n",
      "2023-12-12  193.080002  194.720001  191.720001  194.710007  194.710007   \n",
      "2023-12-13  195.089996  198.000000  194.850006  197.960007  197.960007   \n",
      "2023-12-14  198.020004  199.619995  196.160004  198.110001  198.110001   \n",
      "\n",
      "               volume   stochrsi      macd       mfi  \n",
      "Date                                                  \n",
      "2004-01-02  144642400        NaN  0.000000  0.500000  \n",
      "2004-01-05  395018400        NaN  0.000357  0.500000  \n",
      "2004-01-06  509348000   0.000000  0.000410  0.500000  \n",
      "2004-01-07  586874400  37.266910  0.000747  0.500000  \n",
      "2004-01-08  460303200  61.228630  0.001461  0.500000  \n",
      "...               ...        ...       ...       ...  \n",
      "2023-12-08   53377300  74.552677  3.550769  0.617513  \n",
      "2023-12-11   60943700  11.107491  3.418540  0.529438  \n",
      "2023-12-12   52696900  35.894397  3.398036  0.599291  \n",
      "2023-12-13   70404200  94.151739  3.602507  0.618600  \n",
      "2023-12-14   63717772  96.400180  3.733616  0.673875  \n",
      "\n",
      "[5023 rows x 9 columns]\n",
      "<bound method TickerBase.get_capital_gains of yfinance.Ticker object <AAPL>>\n"
     ]
    }
   ],
   "source": [
    "apple_ticker = yf.Ticker(\"AAPL\")\n",
    "apple_data = yf.download(\"AAPL\", start = '2004-01-01', interval = '1d')\n",
    "apple_df = ss.retype(apple_data)\n",
    "\n",
    "apple_data[['stochrsi', 'macd', 'mfi']] = apple_df[['stochrsi', 'macd', 'mfi']]\n",
    "print(apple_data)\n",
    "print(apple_ticker.get_capital_gains)"
   ]
  },
  {
   "cell_type": "code",
   "execution_count": 3,
   "metadata": {},
   "outputs": [
    {
     "ename": "FileNotFoundError",
     "evalue": "[Errno 2] No such file or directory: 'black-vehicle-406619-be180ef31762.json'",
     "output_type": "error",
     "traceback": [
      "\u001b[1;31m---------------------------------------------------------------------------\u001b[0m",
      "\u001b[1;31mFileNotFoundError\u001b[0m                         Traceback (most recent call last)",
      "\u001b[1;32mc:\\Users\\kevcr\\Desktop\\Stock Forecasting\\stock_forecasting\\stock_forecasting_kevin.ipynb Cell 3\u001b[0m line \u001b[0;36m1\n\u001b[0;32m      <a href='vscode-notebook-cell:/c%3A/Users/kevcr/Desktop/Stock%20Forecasting/stock_forecasting/stock_forecasting_kevin.ipynb#W2sZmlsZQ%3D%3D?line=8'>9</a>\u001b[0m \u001b[39mfrom\u001b[39;00m \u001b[39mgoogle\u001b[39;00m\u001b[39m.\u001b[39;00m\u001b[39moauth2\u001b[39;00m \u001b[39mimport\u001b[39;00m service_account\n\u001b[0;32m     <a href='vscode-notebook-cell:/c%3A/Users/kevcr/Desktop/Stock%20Forecasting/stock_forecasting/stock_forecasting_kevin.ipynb#W2sZmlsZQ%3D%3D?line=9'>10</a>\u001b[0m \u001b[39mfrom\u001b[39;00m \u001b[39mgoogle\u001b[39;00m\u001b[39m.\u001b[39;00m\u001b[39mcloud\u001b[39;00m \u001b[39mimport\u001b[39;00m bigquery\n\u001b[1;32m---> <a href='vscode-notebook-cell:/c%3A/Users/kevcr/Desktop/Stock%20Forecasting/stock_forecasting/stock_forecasting_kevin.ipynb#W2sZmlsZQ%3D%3D?line=10'>11</a>\u001b[0m credentials \u001b[39m=\u001b[39m service_account\u001b[39m.\u001b[39;49mCredentials\u001b[39m.\u001b[39;49mfrom_service_account_file(\n\u001b[0;32m     <a href='vscode-notebook-cell:/c%3A/Users/kevcr/Desktop/Stock%20Forecasting/stock_forecasting/stock_forecasting_kevin.ipynb#W2sZmlsZQ%3D%3D?line=11'>12</a>\u001b[0m     \u001b[39m\"\u001b[39;49m\u001b[39mblack-vehicle-406619-be180ef31762.json\u001b[39;49m\u001b[39m\"\u001b[39;49m)\n",
      "File \u001b[1;32mc:\\Users\\kevcr\\Desktop\\Stock Forecasting\\stock_forecasting\\.venv\\Lib\\site-packages\\google\\oauth2\\service_account.py:257\u001b[0m, in \u001b[0;36mCredentials.from_service_account_file\u001b[1;34m(cls, filename, **kwargs)\u001b[0m\n\u001b[0;32m    245\u001b[0m \u001b[39m@classmethod\u001b[39m\n\u001b[0;32m    246\u001b[0m \u001b[39mdef\u001b[39;00m \u001b[39mfrom_service_account_file\u001b[39m(\u001b[39mcls\u001b[39m, filename, \u001b[39m*\u001b[39m\u001b[39m*\u001b[39mkwargs):\n\u001b[0;32m    247\u001b[0m \u001b[39m    \u001b[39m\u001b[39m\"\"\"Creates a Credentials instance from a service account json file.\u001b[39;00m\n\u001b[0;32m    248\u001b[0m \n\u001b[0;32m    249\u001b[0m \u001b[39m    Args:\u001b[39;00m\n\u001b[1;32m   (...)\u001b[0m\n\u001b[0;32m    255\u001b[0m \u001b[39m            credentials.\u001b[39;00m\n\u001b[0;32m    256\u001b[0m \u001b[39m    \"\"\"\u001b[39;00m\n\u001b[1;32m--> 257\u001b[0m     info, signer \u001b[39m=\u001b[39m _service_account_info\u001b[39m.\u001b[39;49mfrom_filename(\n\u001b[0;32m    258\u001b[0m         filename, require\u001b[39m=\u001b[39;49m[\u001b[39m\"\u001b[39;49m\u001b[39mclient_email\u001b[39;49m\u001b[39m\"\u001b[39;49m, \u001b[39m\"\u001b[39;49m\u001b[39mtoken_uri\u001b[39;49m\u001b[39m\"\u001b[39;49m]\n\u001b[0;32m    259\u001b[0m     )\n\u001b[0;32m    260\u001b[0m     \u001b[39mreturn\u001b[39;00m \u001b[39mcls\u001b[39m\u001b[39m.\u001b[39m_from_signer_and_info(signer, info, \u001b[39m*\u001b[39m\u001b[39m*\u001b[39mkwargs)\n",
      "File \u001b[1;32mc:\\Users\\kevcr\\Desktop\\Stock Forecasting\\stock_forecasting\\.venv\\Lib\\site-packages\\google\\auth\\_service_account_info.py:78\u001b[0m, in \u001b[0;36mfrom_filename\u001b[1;34m(filename, require, use_rsa_signer)\u001b[0m\n\u001b[0;32m     64\u001b[0m \u001b[39mdef\u001b[39;00m \u001b[39mfrom_filename\u001b[39m(filename, require\u001b[39m=\u001b[39m\u001b[39mNone\u001b[39;00m, use_rsa_signer\u001b[39m=\u001b[39m\u001b[39mTrue\u001b[39;00m):\n\u001b[0;32m     65\u001b[0m \u001b[39m    \u001b[39m\u001b[39m\"\"\"Reads a Google service account JSON file and returns its parsed info.\u001b[39;00m\n\u001b[0;32m     66\u001b[0m \n\u001b[0;32m     67\u001b[0m \u001b[39m    Args:\u001b[39;00m\n\u001b[1;32m   (...)\u001b[0m\n\u001b[0;32m     76\u001b[0m \u001b[39m            info and a signer instance.\u001b[39;00m\n\u001b[0;32m     77\u001b[0m \u001b[39m    \"\"\"\u001b[39;00m\n\u001b[1;32m---> 78\u001b[0m     \u001b[39mwith\u001b[39;00m io\u001b[39m.\u001b[39;49mopen(filename, \u001b[39m\"\u001b[39;49m\u001b[39mr\u001b[39;49m\u001b[39m\"\u001b[39;49m, encoding\u001b[39m=\u001b[39;49m\u001b[39m\"\u001b[39;49m\u001b[39mutf-8\u001b[39;49m\u001b[39m\"\u001b[39;49m) \u001b[39mas\u001b[39;00m json_file:\n\u001b[0;32m     79\u001b[0m         data \u001b[39m=\u001b[39m json\u001b[39m.\u001b[39mload(json_file)\n\u001b[0;32m     80\u001b[0m         \u001b[39mreturn\u001b[39;00m data, from_dict(data, require\u001b[39m=\u001b[39mrequire, use_rsa_signer\u001b[39m=\u001b[39muse_rsa_signer)\n",
      "\u001b[1;31mFileNotFoundError\u001b[0m: [Errno 2] No such file or directory: 'black-vehicle-406619-be180ef31762.json'"
     ]
    }
   ],
   "source": [
    "##!pip install google-auth\n",
    "##!pip install google-cloud-bigquery\n",
    "\n",
    "SCOPES = [\n",
    "    'https://www.googleapis.com/auth/cloud-platform',\n",
    "    'https://www.googleapis.com/auth/drive',\n",
    "]\n",
    "\n",
    "from google.oauth2 import service_account\n",
    "from google.cloud import bigquery\n",
    "credentials = service_account.Credentials.from_service_account_file(\n",
    "    \"black-vehicle-406619-be180ef31762.json\")\n"
   ]
  },
  {
   "cell_type": "code",
   "execution_count": null,
   "metadata": {},
   "outputs": [],
   "source": [
    "project_id = 'black-vehicle-406619'\n",
    "dataset = 'stock_ds'\n",
    "table_id = '20yrs_stockdata'\n",
    "client = bigquery.Client(credentials=credentials, project=project_id)"
   ]
  },
  {
   "cell_type": "code",
   "execution_count": 21,
   "metadata": {},
   "outputs": [
    {
     "ename": "NotFound",
     "evalue": "404 Not found: Dataset black-vehicle-406619:stock_ds was not found in location US\n\nLocation: US\nJob ID: e3e986d7-adba-4132-8951-e3d68250d0e4\n",
     "output_type": "error",
     "traceback": [
      "\u001b[1;31m---------------------------------------------------------------------------\u001b[0m",
      "\u001b[1;31mNotFound\u001b[0m                                  Traceback (most recent call last)",
      "\u001b[1;32mc:\\Users\\kevcr\\Desktop\\Stock Forecasting\\stock_forecasting\\stock_forecasting_kevin.ipynb Cell 5\u001b[0m line \u001b[0;36m1\n\u001b[0;32m     <a href='vscode-notebook-cell:/c%3A/Users/kevcr/Desktop/Stock%20Forecasting/stock_forecasting/stock_forecasting_kevin.ipynb#W6sZmlsZQ%3D%3D?line=13'>14</a>\u001b[0m query_job \u001b[39m=\u001b[39m client\u001b[39m.\u001b[39mquery(sql, job_config\u001b[39m=\u001b[39mquery_config)\n\u001b[0;32m     <a href='vscode-notebook-cell:/c%3A/Users/kevcr/Desktop/Stock%20Forecasting/stock_forecasting/stock_forecasting_kevin.ipynb#W6sZmlsZQ%3D%3D?line=16'>17</a>\u001b[0m \u001b[39m# Execute the query and fetch the results\u001b[39;00m\n\u001b[1;32m---> <a href='vscode-notebook-cell:/c%3A/Users/kevcr/Desktop/Stock%20Forecasting/stock_forecasting/stock_forecasting_kevin.ipynb#W6sZmlsZQ%3D%3D?line=17'>18</a>\u001b[0m df \u001b[39m=\u001b[39m query_job\u001b[39m.\u001b[39;49mto_dataframe()\n\u001b[0;32m     <a href='vscode-notebook-cell:/c%3A/Users/kevcr/Desktop/Stock%20Forecasting/stock_forecasting/stock_forecasting_kevin.ipynb#W6sZmlsZQ%3D%3D?line=19'>20</a>\u001b[0m df\u001b[39m.\u001b[39mhead()\n",
      "File \u001b[1;32mc:\\Users\\kevcr\\Desktop\\Stock Forecasting\\stock_forecasting\\.venv\\Lib\\site-packages\\google\\cloud\\bigquery\\job\\query.py:1859\u001b[0m, in \u001b[0;36mQueryJob.to_dataframe\u001b[1;34m(self, bqstorage_client, dtypes, progress_bar_type, create_bqstorage_client, max_results, geography_as_object, bool_dtype, int_dtype, float_dtype, string_dtype, date_dtype, datetime_dtype, time_dtype, timestamp_dtype)\u001b[0m\n\u001b[0;32m   1693\u001b[0m \u001b[39mdef\u001b[39;00m \u001b[39mto_dataframe\u001b[39m(\n\u001b[0;32m   1694\u001b[0m     \u001b[39mself\u001b[39m,\n\u001b[0;32m   1695\u001b[0m     bqstorage_client: Optional[\u001b[39m\"\u001b[39m\u001b[39mbigquery_storage.BigQueryReadClient\u001b[39m\u001b[39m\"\u001b[39m] \u001b[39m=\u001b[39m \u001b[39mNone\u001b[39;00m,\n\u001b[1;32m   (...)\u001b[0m\n\u001b[0;32m   1708\u001b[0m     timestamp_dtype: Union[Any, \u001b[39mNone\u001b[39;00m] \u001b[39m=\u001b[39m \u001b[39mNone\u001b[39;00m,\n\u001b[0;32m   1709\u001b[0m ) \u001b[39m-\u001b[39m\u001b[39m>\u001b[39m \u001b[39m\"\u001b[39m\u001b[39mpandas.DataFrame\u001b[39m\u001b[39m\"\u001b[39m:\n\u001b[0;32m   1710\u001b[0m \u001b[39m    \u001b[39m\u001b[39m\"\"\"Return a pandas DataFrame from a QueryJob\u001b[39;00m\n\u001b[0;32m   1711\u001b[0m \n\u001b[0;32m   1712\u001b[0m \u001b[39m    Args:\u001b[39;00m\n\u001b[1;32m   (...)\u001b[0m\n\u001b[0;32m   1857\u001b[0m \u001b[39m            :mod:`shapely` library cannot be imported.\u001b[39;00m\n\u001b[0;32m   1858\u001b[0m \u001b[39m    \"\"\"\u001b[39;00m\n\u001b[1;32m-> 1859\u001b[0m     query_result \u001b[39m=\u001b[39m wait_for_query(\u001b[39mself\u001b[39;49m, progress_bar_type, max_results\u001b[39m=\u001b[39;49mmax_results)\n\u001b[0;32m   1860\u001b[0m     \u001b[39mreturn\u001b[39;00m query_result\u001b[39m.\u001b[39mto_dataframe(\n\u001b[0;32m   1861\u001b[0m         bqstorage_client\u001b[39m=\u001b[39mbqstorage_client,\n\u001b[0;32m   1862\u001b[0m         dtypes\u001b[39m=\u001b[39mdtypes,\n\u001b[1;32m   (...)\u001b[0m\n\u001b[0;32m   1873\u001b[0m         timestamp_dtype\u001b[39m=\u001b[39mtimestamp_dtype,\n\u001b[0;32m   1874\u001b[0m     )\n",
      "File \u001b[1;32mc:\\Users\\kevcr\\Desktop\\Stock Forecasting\\stock_forecasting\\.venv\\Lib\\site-packages\\google\\cloud\\bigquery\\_tqdm_helpers.py:104\u001b[0m, in \u001b[0;36mwait_for_query\u001b[1;34m(query_job, progress_bar_type, max_results)\u001b[0m\n\u001b[0;32m    100\u001b[0m progress_bar \u001b[39m=\u001b[39m get_progress_bar(\n\u001b[0;32m    101\u001b[0m     progress_bar_type, \u001b[39m\"\u001b[39m\u001b[39mQuery is running\u001b[39m\u001b[39m\"\u001b[39m, default_total, \u001b[39m\"\u001b[39m\u001b[39mquery\u001b[39m\u001b[39m\"\u001b[39m\n\u001b[0;32m    102\u001b[0m )\n\u001b[0;32m    103\u001b[0m \u001b[39mif\u001b[39;00m progress_bar \u001b[39mis\u001b[39;00m \u001b[39mNone\u001b[39;00m:\n\u001b[1;32m--> 104\u001b[0m     \u001b[39mreturn\u001b[39;00m query_job\u001b[39m.\u001b[39;49mresult(max_results\u001b[39m=\u001b[39;49mmax_results)\n\u001b[0;32m    106\u001b[0m i \u001b[39m=\u001b[39m \u001b[39m0\u001b[39m\n\u001b[0;32m    107\u001b[0m \u001b[39mwhile\u001b[39;00m \u001b[39mTrue\u001b[39;00m:\n",
      "File \u001b[1;32mc:\\Users\\kevcr\\Desktop\\Stock Forecasting\\stock_forecasting\\.venv\\Lib\\site-packages\\google\\cloud\\bigquery\\job\\query.py:1580\u001b[0m, in \u001b[0;36mQueryJob.result\u001b[1;34m(self, page_size, max_results, retry, timeout, start_index, job_retry)\u001b[0m\n\u001b[0;32m   1577\u001b[0m     \u001b[39mif\u001b[39;00m retry_do_query \u001b[39mis\u001b[39;00m \u001b[39mnot\u001b[39;00m \u001b[39mNone\u001b[39;00m \u001b[39mand\u001b[39;00m job_retry \u001b[39mis\u001b[39;00m \u001b[39mnot\u001b[39;00m \u001b[39mNone\u001b[39;00m:\n\u001b[0;32m   1578\u001b[0m         do_get_result \u001b[39m=\u001b[39m job_retry(do_get_result)\n\u001b[1;32m-> 1580\u001b[0m     do_get_result()\n\u001b[0;32m   1582\u001b[0m \u001b[39mexcept\u001b[39;00m exceptions\u001b[39m.\u001b[39mGoogleAPICallError \u001b[39mas\u001b[39;00m exc:\n\u001b[0;32m   1583\u001b[0m     exc\u001b[39m.\u001b[39mmessage \u001b[39m=\u001b[39m _EXCEPTION_FOOTER_TEMPLATE\u001b[39m.\u001b[39mformat(\n\u001b[0;32m   1584\u001b[0m         message\u001b[39m=\u001b[39mexc\u001b[39m.\u001b[39mmessage, location\u001b[39m=\u001b[39m\u001b[39mself\u001b[39m\u001b[39m.\u001b[39mlocation, job_id\u001b[39m=\u001b[39m\u001b[39mself\u001b[39m\u001b[39m.\u001b[39mjob_id\n\u001b[0;32m   1585\u001b[0m     )\n",
      "File \u001b[1;32mc:\\Users\\kevcr\\Desktop\\Stock Forecasting\\stock_forecasting\\.venv\\Lib\\site-packages\\google\\api_core\\retry.py:372\u001b[0m, in \u001b[0;36mRetry.__call__.<locals>.retry_wrapped_func\u001b[1;34m(*args, **kwargs)\u001b[0m\n\u001b[0;32m    368\u001b[0m target \u001b[39m=\u001b[39m functools\u001b[39m.\u001b[39mpartial(func, \u001b[39m*\u001b[39margs, \u001b[39m*\u001b[39m\u001b[39m*\u001b[39mkwargs)\n\u001b[0;32m    369\u001b[0m sleep_generator \u001b[39m=\u001b[39m exponential_sleep_generator(\n\u001b[0;32m    370\u001b[0m     \u001b[39mself\u001b[39m\u001b[39m.\u001b[39m_initial, \u001b[39mself\u001b[39m\u001b[39m.\u001b[39m_maximum, multiplier\u001b[39m=\u001b[39m\u001b[39mself\u001b[39m\u001b[39m.\u001b[39m_multiplier\n\u001b[0;32m    371\u001b[0m )\n\u001b[1;32m--> 372\u001b[0m \u001b[39mreturn\u001b[39;00m retry_target(\n\u001b[0;32m    373\u001b[0m     target,\n\u001b[0;32m    374\u001b[0m     \u001b[39mself\u001b[39;49m\u001b[39m.\u001b[39;49m_predicate,\n\u001b[0;32m    375\u001b[0m     sleep_generator,\n\u001b[0;32m    376\u001b[0m     \u001b[39mself\u001b[39;49m\u001b[39m.\u001b[39;49m_timeout,\n\u001b[0;32m    377\u001b[0m     on_error\u001b[39m=\u001b[39;49mon_error,\n\u001b[0;32m    378\u001b[0m )\n",
      "File \u001b[1;32mc:\\Users\\kevcr\\Desktop\\Stock Forecasting\\stock_forecasting\\.venv\\Lib\\site-packages\\google\\api_core\\retry.py:207\u001b[0m, in \u001b[0;36mretry_target\u001b[1;34m(target, predicate, sleep_generator, timeout, on_error, **kwargs)\u001b[0m\n\u001b[0;32m    205\u001b[0m \u001b[39mfor\u001b[39;00m sleep \u001b[39min\u001b[39;00m sleep_generator:\n\u001b[0;32m    206\u001b[0m     \u001b[39mtry\u001b[39;00m:\n\u001b[1;32m--> 207\u001b[0m         result \u001b[39m=\u001b[39m target()\n\u001b[0;32m    208\u001b[0m         \u001b[39mif\u001b[39;00m inspect\u001b[39m.\u001b[39misawaitable(result):\n\u001b[0;32m    209\u001b[0m             warnings\u001b[39m.\u001b[39mwarn(_ASYNC_RETRY_WARNING)\n",
      "File \u001b[1;32mc:\\Users\\kevcr\\Desktop\\Stock Forecasting\\stock_forecasting\\.venv\\Lib\\site-packages\\google\\cloud\\bigquery\\job\\query.py:1570\u001b[0m, in \u001b[0;36mQueryJob.result.<locals>.do_get_result\u001b[1;34m()\u001b[0m\n\u001b[0;32m   1567\u001b[0m     \u001b[39mself\u001b[39m\u001b[39m.\u001b[39m_retry_do_query \u001b[39m=\u001b[39m retry_do_query\n\u001b[0;32m   1568\u001b[0m     \u001b[39mself\u001b[39m\u001b[39m.\u001b[39m_job_retry \u001b[39m=\u001b[39m job_retry\n\u001b[1;32m-> 1570\u001b[0m \u001b[39msuper\u001b[39;49m(QueryJob, \u001b[39mself\u001b[39;49m)\u001b[39m.\u001b[39;49mresult(retry\u001b[39m=\u001b[39;49mretry, timeout\u001b[39m=\u001b[39;49mtimeout)\n\u001b[0;32m   1572\u001b[0m \u001b[39m# Since the job could already be \"done\" (e.g. got a finished job\u001b[39;00m\n\u001b[0;32m   1573\u001b[0m \u001b[39m# via client.get_job), the superclass call to done() might not\u001b[39;00m\n\u001b[0;32m   1574\u001b[0m \u001b[39m# set the self._query_results cache.\u001b[39;00m\n\u001b[0;32m   1575\u001b[0m \u001b[39mself\u001b[39m\u001b[39m.\u001b[39m_reload_query_results(retry\u001b[39m=\u001b[39mretry, timeout\u001b[39m=\u001b[39mtimeout)\n",
      "File \u001b[1;32mc:\\Users\\kevcr\\Desktop\\Stock Forecasting\\stock_forecasting\\.venv\\Lib\\site-packages\\google\\cloud\\bigquery\\job\\base.py:922\u001b[0m, in \u001b[0;36m_AsyncJob.result\u001b[1;34m(self, retry, timeout)\u001b[0m\n\u001b[0;32m    919\u001b[0m     \u001b[39mself\u001b[39m\u001b[39m.\u001b[39m_begin(retry\u001b[39m=\u001b[39mretry, timeout\u001b[39m=\u001b[39mtimeout)\n\u001b[0;32m    921\u001b[0m kwargs \u001b[39m=\u001b[39m {} \u001b[39mif\u001b[39;00m retry \u001b[39mis\u001b[39;00m DEFAULT_RETRY \u001b[39melse\u001b[39;00m {\u001b[39m\"\u001b[39m\u001b[39mretry\u001b[39m\u001b[39m\"\u001b[39m: retry}\n\u001b[1;32m--> 922\u001b[0m \u001b[39mreturn\u001b[39;00m \u001b[39msuper\u001b[39;49m(_AsyncJob, \u001b[39mself\u001b[39;49m)\u001b[39m.\u001b[39;49mresult(timeout\u001b[39m=\u001b[39;49mtimeout, \u001b[39m*\u001b[39;49m\u001b[39m*\u001b[39;49mkwargs)\n",
      "File \u001b[1;32mc:\\Users\\kevcr\\Desktop\\Stock Forecasting\\stock_forecasting\\.venv\\Lib\\site-packages\\google\\api_core\\future\\polling.py:261\u001b[0m, in \u001b[0;36mPollingFuture.result\u001b[1;34m(self, timeout, retry, polling)\u001b[0m\n\u001b[0;32m    256\u001b[0m \u001b[39mself\u001b[39m\u001b[39m.\u001b[39m_blocking_poll(timeout\u001b[39m=\u001b[39mtimeout, retry\u001b[39m=\u001b[39mretry, polling\u001b[39m=\u001b[39mpolling)\n\u001b[0;32m    258\u001b[0m \u001b[39mif\u001b[39;00m \u001b[39mself\u001b[39m\u001b[39m.\u001b[39m_exception \u001b[39mis\u001b[39;00m \u001b[39mnot\u001b[39;00m \u001b[39mNone\u001b[39;00m:\n\u001b[0;32m    259\u001b[0m     \u001b[39m# pylint: disable=raising-bad-type\u001b[39;00m\n\u001b[0;32m    260\u001b[0m     \u001b[39m# Pylint doesn't recognize that this is valid in this case.\u001b[39;00m\n\u001b[1;32m--> 261\u001b[0m     \u001b[39mraise\u001b[39;00m \u001b[39mself\u001b[39m\u001b[39m.\u001b[39m_exception\n\u001b[0;32m    263\u001b[0m \u001b[39mreturn\u001b[39;00m \u001b[39mself\u001b[39m\u001b[39m.\u001b[39m_result\n",
      "\u001b[1;31mNotFound\u001b[0m: 404 Not found: Dataset black-vehicle-406619:stock_ds was not found in location US\n\nLocation: US\nJob ID: e3e986d7-adba-4132-8951-e3d68250d0e4\n"
     ]
    }
   ],
   "source": [
    "import pandas_gbq\n",
    "data_date = '2024-12-07'  # Replace with your actual date\n",
    "sql = \"\"\"\n",
    "   SELECT *\n",
    "   FROM `black-vehicle-406619.stock_ds.20yrs_stockdata`\n",
    "   WHERE jakarta_data_date = @data_date\n",
    "\"\"\"\n",
    "parameters = {'data_date': data_date}\n",
    "\n",
    "# Set up the query job configuration\n",
    "query_config = bigquery.QueryJobConfig(query_parameters=[bigquery.ScalarQueryParameter(\"data_date\", \"STRING\", data_date)])\n",
    "\n",
    "# Set up the query job\n",
    "query_job = client.query(sql, job_config=query_config)\n",
    "\n",
    "\n",
    "# Execute the query and fetch the results\n",
    "df = query_job.to_dataframe()\n",
    "\n",
    "df.head()"
   ]
  },
  {
   "cell_type": "code",
   "execution_count": 4,
   "metadata": {},
   "outputs": [],
   "source": [
    "import os\n",
    "\n",
    "os.environ[\"GOOGLE_APPLICATION_CREDENTIALS\"] = r\"C:\\Users\\kevcr\\Downloads\\black-vehicle-406619-be180ef31762.json\"\n"
   ]
  },
  {
   "cell_type": "code",
   "execution_count": 11,
   "metadata": {},
   "outputs": [
    {
     "ename": "GenericGBQException",
     "evalue": "Reason: 404 Not found: Dataset black-vehicle-406619:stock_ds was not found in location US\n\nLocation: US\nJob ID: 29742fb8-0e47-4eb7-b5bf-81c6dead14ad\n",
     "output_type": "error",
     "traceback": [
      "\u001b[1;31m---------------------------------------------------------------------------\u001b[0m",
      "\u001b[1;31mNotFound\u001b[0m                                  Traceback (most recent call last)",
      "File \u001b[1;32mc:\\Users\\kevcr\\Desktop\\Stock Forecasting\\stock_forecasting\\.venv\\Lib\\site-packages\\pandas_gbq\\gbq.py:527\u001b[0m, in \u001b[0;36mGbqConnector.run_query\u001b[1;34m(self, query, max_results, progress_bar_type, **kwargs)\u001b[0m\n\u001b[0;32m    526\u001b[0m \u001b[39mtry\u001b[39;00m:\n\u001b[1;32m--> 527\u001b[0m     query_reply\u001b[39m.\u001b[39;49mresult()\n\u001b[0;32m    528\u001b[0m \u001b[39mexcept\u001b[39;00m \u001b[39mself\u001b[39m\u001b[39m.\u001b[39mhttp_error \u001b[39mas\u001b[39;00m ex:\n",
      "File \u001b[1;32mc:\\Users\\kevcr\\Desktop\\Stock Forecasting\\stock_forecasting\\.venv\\Lib\\site-packages\\google\\cloud\\bigquery\\job\\query.py:1580\u001b[0m, in \u001b[0;36mQueryJob.result\u001b[1;34m(self, page_size, max_results, retry, timeout, start_index, job_retry)\u001b[0m\n\u001b[0;32m   1578\u001b[0m         do_get_result \u001b[39m=\u001b[39m job_retry(do_get_result)\n\u001b[1;32m-> 1580\u001b[0m     do_get_result()\n\u001b[0;32m   1582\u001b[0m \u001b[39mexcept\u001b[39;00m exceptions\u001b[39m.\u001b[39mGoogleAPICallError \u001b[39mas\u001b[39;00m exc:\n",
      "File \u001b[1;32mc:\\Users\\kevcr\\Desktop\\Stock Forecasting\\stock_forecasting\\.venv\\Lib\\site-packages\\google\\api_core\\retry.py:372\u001b[0m, in \u001b[0;36mRetry.__call__.<locals>.retry_wrapped_func\u001b[1;34m(*args, **kwargs)\u001b[0m\n\u001b[0;32m    369\u001b[0m sleep_generator \u001b[39m=\u001b[39m exponential_sleep_generator(\n\u001b[0;32m    370\u001b[0m     \u001b[39mself\u001b[39m\u001b[39m.\u001b[39m_initial, \u001b[39mself\u001b[39m\u001b[39m.\u001b[39m_maximum, multiplier\u001b[39m=\u001b[39m\u001b[39mself\u001b[39m\u001b[39m.\u001b[39m_multiplier\n\u001b[0;32m    371\u001b[0m )\n\u001b[1;32m--> 372\u001b[0m \u001b[39mreturn\u001b[39;00m retry_target(\n\u001b[0;32m    373\u001b[0m     target,\n\u001b[0;32m    374\u001b[0m     \u001b[39mself\u001b[39;49m\u001b[39m.\u001b[39;49m_predicate,\n\u001b[0;32m    375\u001b[0m     sleep_generator,\n\u001b[0;32m    376\u001b[0m     \u001b[39mself\u001b[39;49m\u001b[39m.\u001b[39;49m_timeout,\n\u001b[0;32m    377\u001b[0m     on_error\u001b[39m=\u001b[39;49mon_error,\n\u001b[0;32m    378\u001b[0m )\n",
      "File \u001b[1;32mc:\\Users\\kevcr\\Desktop\\Stock Forecasting\\stock_forecasting\\.venv\\Lib\\site-packages\\google\\api_core\\retry.py:207\u001b[0m, in \u001b[0;36mretry_target\u001b[1;34m(target, predicate, sleep_generator, timeout, on_error, **kwargs)\u001b[0m\n\u001b[0;32m    206\u001b[0m \u001b[39mtry\u001b[39;00m:\n\u001b[1;32m--> 207\u001b[0m     result \u001b[39m=\u001b[39m target()\n\u001b[0;32m    208\u001b[0m     \u001b[39mif\u001b[39;00m inspect\u001b[39m.\u001b[39misawaitable(result):\n",
      "File \u001b[1;32mc:\\Users\\kevcr\\Desktop\\Stock Forecasting\\stock_forecasting\\.venv\\Lib\\site-packages\\google\\cloud\\bigquery\\job\\query.py:1570\u001b[0m, in \u001b[0;36mQueryJob.result.<locals>.do_get_result\u001b[1;34m()\u001b[0m\n\u001b[0;32m   1568\u001b[0m     \u001b[39mself\u001b[39m\u001b[39m.\u001b[39m_job_retry \u001b[39m=\u001b[39m job_retry\n\u001b[1;32m-> 1570\u001b[0m \u001b[39msuper\u001b[39;49m(QueryJob, \u001b[39mself\u001b[39;49m)\u001b[39m.\u001b[39;49mresult(retry\u001b[39m=\u001b[39;49mretry, timeout\u001b[39m=\u001b[39;49mtimeout)\n\u001b[0;32m   1572\u001b[0m \u001b[39m# Since the job could already be \"done\" (e.g. got a finished job\u001b[39;00m\n\u001b[0;32m   1573\u001b[0m \u001b[39m# via client.get_job), the superclass call to done() might not\u001b[39;00m\n\u001b[0;32m   1574\u001b[0m \u001b[39m# set the self._query_results cache.\u001b[39;00m\n",
      "File \u001b[1;32mc:\\Users\\kevcr\\Desktop\\Stock Forecasting\\stock_forecasting\\.venv\\Lib\\site-packages\\google\\cloud\\bigquery\\job\\base.py:922\u001b[0m, in \u001b[0;36m_AsyncJob.result\u001b[1;34m(self, retry, timeout)\u001b[0m\n\u001b[0;32m    921\u001b[0m kwargs \u001b[39m=\u001b[39m {} \u001b[39mif\u001b[39;00m retry \u001b[39mis\u001b[39;00m DEFAULT_RETRY \u001b[39melse\u001b[39;00m {\u001b[39m\"\u001b[39m\u001b[39mretry\u001b[39m\u001b[39m\"\u001b[39m: retry}\n\u001b[1;32m--> 922\u001b[0m \u001b[39mreturn\u001b[39;00m \u001b[39msuper\u001b[39;49m(_AsyncJob, \u001b[39mself\u001b[39;49m)\u001b[39m.\u001b[39;49mresult(timeout\u001b[39m=\u001b[39;49mtimeout, \u001b[39m*\u001b[39;49m\u001b[39m*\u001b[39;49mkwargs)\n",
      "File \u001b[1;32mc:\\Users\\kevcr\\Desktop\\Stock Forecasting\\stock_forecasting\\.venv\\Lib\\site-packages\\google\\api_core\\future\\polling.py:261\u001b[0m, in \u001b[0;36mPollingFuture.result\u001b[1;34m(self, timeout, retry, polling)\u001b[0m\n\u001b[0;32m    258\u001b[0m \u001b[39mif\u001b[39;00m \u001b[39mself\u001b[39m\u001b[39m.\u001b[39m_exception \u001b[39mis\u001b[39;00m \u001b[39mnot\u001b[39;00m \u001b[39mNone\u001b[39;00m:\n\u001b[0;32m    259\u001b[0m     \u001b[39m# pylint: disable=raising-bad-type\u001b[39;00m\n\u001b[0;32m    260\u001b[0m     \u001b[39m# Pylint doesn't recognize that this is valid in this case.\u001b[39;00m\n\u001b[1;32m--> 261\u001b[0m     \u001b[39mraise\u001b[39;00m \u001b[39mself\u001b[39m\u001b[39m.\u001b[39m_exception\n\u001b[0;32m    263\u001b[0m \u001b[39mreturn\u001b[39;00m \u001b[39mself\u001b[39m\u001b[39m.\u001b[39m_result\n",
      "\u001b[1;31mNotFound\u001b[0m: 404 Not found: Dataset black-vehicle-406619:stock_ds was not found in location US\n\nLocation: US\nJob ID: 29742fb8-0e47-4eb7-b5bf-81c6dead14ad\n",
      "\nThe above exception was the direct cause of the following exception:\n",
      "\u001b[1;31mGenericGBQException\u001b[0m                       Traceback (most recent call last)",
      "\u001b[1;32mc:\\Users\\kevcr\\Desktop\\Stock Forecasting\\stock_forecasting\\stock_forecasting_kevin.ipynb Cell 6\u001b[0m line \u001b[0;36m4\n\u001b[0;32m      <a href='vscode-notebook-cell:/c%3A/Users/kevcr/Desktop/Stock%20Forecasting/stock_forecasting/stock_forecasting_kevin.ipynb#W4sZmlsZQ%3D%3D?line=0'>1</a>\u001b[0m \u001b[39m##!pip install --upgrade pandas-gbq google-auth google-auth-oauthlib google-auth-httplib2\u001b[39;00m\n\u001b[1;32m----> <a href='vscode-notebook-cell:/c%3A/Users/kevcr/Desktop/Stock%20Forecasting/stock_forecasting/stock_forecasting_kevin.ipynb#W4sZmlsZQ%3D%3D?line=3'>4</a>\u001b[0m df \u001b[39m=\u001b[39m pd\u001b[39m.\u001b[39;49mread_gbq(\n\u001b[0;32m      <a href='vscode-notebook-cell:/c%3A/Users/kevcr/Desktop/Stock%20Forecasting/stock_forecasting/stock_forecasting_kevin.ipynb#W4sZmlsZQ%3D%3D?line=4'>5</a>\u001b[0m     \u001b[39m\"\u001b[39;49m\u001b[39mSELECT my_col FROM `black-vehicle-406619.stock_ds.20yrs_stockdata`\u001b[39;49m\u001b[39m\"\u001b[39;49m,\n\u001b[0;32m      <a href='vscode-notebook-cell:/c%3A/Users/kevcr/Desktop/Stock%20Forecasting/stock_forecasting/stock_forecasting_kevin.ipynb#W4sZmlsZQ%3D%3D?line=5'>6</a>\u001b[0m     project_id\u001b[39m=\u001b[39;49m\u001b[39m'\u001b[39;49m\u001b[39mblack-vehicle-406619\u001b[39;49m\u001b[39m'\u001b[39;49m,\n\u001b[0;32m      <a href='vscode-notebook-cell:/c%3A/Users/kevcr/Desktop/Stock%20Forecasting/stock_forecasting/stock_forecasting_kevin.ipynb#W4sZmlsZQ%3D%3D?line=6'>7</a>\u001b[0m     credentials\u001b[39m=\u001b[39;49mcredentials,\n\u001b[0;32m      <a href='vscode-notebook-cell:/c%3A/Users/kevcr/Desktop/Stock%20Forecasting/stock_forecasting/stock_forecasting_kevin.ipynb#W4sZmlsZQ%3D%3D?line=7'>8</a>\u001b[0m     location \u001b[39m=\u001b[39;49m \u001b[39m'\u001b[39;49m\u001b[39mUS\u001b[39;49m\u001b[39m'\u001b[39;49m,\n\u001b[0;32m      <a href='vscode-notebook-cell:/c%3A/Users/kevcr/Desktop/Stock%20Forecasting/stock_forecasting/stock_forecasting_kevin.ipynb#W4sZmlsZQ%3D%3D?line=8'>9</a>\u001b[0m )\n",
      "File \u001b[1;32mc:\\Users\\kevcr\\Desktop\\Stock Forecasting\\stock_forecasting\\.venv\\Lib\\site-packages\\pandas\\io\\gbq.py:194\u001b[0m, in \u001b[0;36mread_gbq\u001b[1;34m(query, project_id, index_col, col_order, reauth, auth_local_webserver, dialect, location, configuration, credentials, use_bqstorage_api, max_results, progress_bar_type)\u001b[0m\n\u001b[0;32m    191\u001b[0m kwargs[\u001b[39m\"\u001b[39m\u001b[39mprogress_bar_type\u001b[39m\u001b[39m\"\u001b[39m] \u001b[39m=\u001b[39m progress_bar_type\n\u001b[0;32m    192\u001b[0m \u001b[39m# END: new kwargs\u001b[39;00m\n\u001b[1;32m--> 194\u001b[0m \u001b[39mreturn\u001b[39;00m pandas_gbq\u001b[39m.\u001b[39;49mread_gbq(\n\u001b[0;32m    195\u001b[0m     query,\n\u001b[0;32m    196\u001b[0m     project_id\u001b[39m=\u001b[39;49mproject_id,\n\u001b[0;32m    197\u001b[0m     index_col\u001b[39m=\u001b[39;49mindex_col,\n\u001b[0;32m    198\u001b[0m     col_order\u001b[39m=\u001b[39;49mcol_order,\n\u001b[0;32m    199\u001b[0m     reauth\u001b[39m=\u001b[39;49mreauth,\n\u001b[0;32m    200\u001b[0m     auth_local_webserver\u001b[39m=\u001b[39;49mauth_local_webserver,\n\u001b[0;32m    201\u001b[0m     dialect\u001b[39m=\u001b[39;49mdialect,\n\u001b[0;32m    202\u001b[0m     location\u001b[39m=\u001b[39;49mlocation,\n\u001b[0;32m    203\u001b[0m     configuration\u001b[39m=\u001b[39;49mconfiguration,\n\u001b[0;32m    204\u001b[0m     credentials\u001b[39m=\u001b[39;49mcredentials,\n\u001b[0;32m    205\u001b[0m     \u001b[39m*\u001b[39;49m\u001b[39m*\u001b[39;49mkwargs,\n\u001b[0;32m    206\u001b[0m )\n",
      "File \u001b[1;32mc:\\Users\\kevcr\\Desktop\\Stock Forecasting\\stock_forecasting\\.venv\\Lib\\site-packages\\pandas_gbq\\gbq.py:943\u001b[0m, in \u001b[0;36mread_gbq\u001b[1;34m(query_or_table, project_id, index_col, col_order, reauth, auth_local_webserver, dialect, location, configuration, credentials, use_bqstorage_api, max_results, verbose, private_key, progress_bar_type, dtypes, auth_redirect_uri, client_id, client_secret)\u001b[0m\n\u001b[0;32m    928\u001b[0m connector \u001b[39m=\u001b[39m GbqConnector(\n\u001b[0;32m    929\u001b[0m     project_id,\n\u001b[0;32m    930\u001b[0m     reauth\u001b[39m=\u001b[39mreauth,\n\u001b[1;32m   (...)\u001b[0m\n\u001b[0;32m    939\u001b[0m     client_secret\u001b[39m=\u001b[39mclient_secret,\n\u001b[0;32m    940\u001b[0m )\n\u001b[0;32m    942\u001b[0m \u001b[39mif\u001b[39;00m _is_query(query_or_table):\n\u001b[1;32m--> 943\u001b[0m     final_df \u001b[39m=\u001b[39m connector\u001b[39m.\u001b[39;49mrun_query(\n\u001b[0;32m    944\u001b[0m         query_or_table,\n\u001b[0;32m    945\u001b[0m         configuration\u001b[39m=\u001b[39;49mconfiguration,\n\u001b[0;32m    946\u001b[0m         max_results\u001b[39m=\u001b[39;49mmax_results,\n\u001b[0;32m    947\u001b[0m         progress_bar_type\u001b[39m=\u001b[39;49mprogress_bar_type,\n\u001b[0;32m    948\u001b[0m         dtypes\u001b[39m=\u001b[39;49mdtypes,\n\u001b[0;32m    949\u001b[0m     )\n\u001b[0;32m    950\u001b[0m \u001b[39melse\u001b[39;00m:\n\u001b[0;32m    951\u001b[0m     final_df \u001b[39m=\u001b[39m connector\u001b[39m.\u001b[39mdownload_table(\n\u001b[0;32m    952\u001b[0m         query_or_table,\n\u001b[0;32m    953\u001b[0m         max_results\u001b[39m=\u001b[39mmax_results,\n\u001b[0;32m    954\u001b[0m         progress_bar_type\u001b[39m=\u001b[39mprogress_bar_type,\n\u001b[0;32m    955\u001b[0m         dtypes\u001b[39m=\u001b[39mdtypes,\n\u001b[0;32m    956\u001b[0m     )\n",
      "File \u001b[1;32mc:\\Users\\kevcr\\Desktop\\Stock Forecasting\\stock_forecasting\\.venv\\Lib\\site-packages\\pandas_gbq\\gbq.py:529\u001b[0m, in \u001b[0;36mGbqConnector.run_query\u001b[1;34m(self, query, max_results, progress_bar_type, **kwargs)\u001b[0m\n\u001b[0;32m    527\u001b[0m     query_reply\u001b[39m.\u001b[39mresult()\n\u001b[0;32m    528\u001b[0m \u001b[39mexcept\u001b[39;00m \u001b[39mself\u001b[39m\u001b[39m.\u001b[39mhttp_error \u001b[39mas\u001b[39;00m ex:\n\u001b[1;32m--> 529\u001b[0m     \u001b[39mself\u001b[39;49m\u001b[39m.\u001b[39;49mprocess_http_error(ex)\n\u001b[0;32m    531\u001b[0m \u001b[39m# Avoid attempting to download results from DML queries, which have no\u001b[39;00m\n\u001b[0;32m    532\u001b[0m \u001b[39m# destination.\u001b[39;00m\n\u001b[0;32m    533\u001b[0m \u001b[39mif\u001b[39;00m query_reply\u001b[39m.\u001b[39mdestination \u001b[39mis\u001b[39;00m \u001b[39mNone\u001b[39;00m:\n",
      "File \u001b[1;32mc:\\Users\\kevcr\\Desktop\\Stock Forecasting\\stock_forecasting\\.venv\\Lib\\site-packages\\pandas_gbq\\gbq.py:396\u001b[0m, in \u001b[0;36mGbqConnector.process_http_error\u001b[1;34m(ex)\u001b[0m\n\u001b[0;32m    394\u001b[0m     \u001b[39mraise\u001b[39;00m TableCreationError(\u001b[39mf\u001b[39m\u001b[39m\"\u001b[39m\u001b[39mReason: \u001b[39m\u001b[39m{\u001b[39;00merror_message\u001b[39m}\u001b[39;00m\u001b[39m\"\u001b[39m)\n\u001b[0;32m    395\u001b[0m \u001b[39melse\u001b[39;00m:\n\u001b[1;32m--> 396\u001b[0m     \u001b[39mraise\u001b[39;00m GenericGBQException(\u001b[39m\"\u001b[39m\u001b[39mReason: \u001b[39m\u001b[39m{0}\u001b[39;00m\u001b[39m\"\u001b[39m\u001b[39m.\u001b[39mformat(ex)) \u001b[39mfrom\u001b[39;00m \u001b[39mex\u001b[39;00m\n",
      "\u001b[1;31mGenericGBQException\u001b[0m: Reason: 404 Not found: Dataset black-vehicle-406619:stock_ds was not found in location US\n\nLocation: US\nJob ID: 29742fb8-0e47-4eb7-b5bf-81c6dead14ad\n"
     ]
    }
   ],
   "source": [
    "##!pip install --upgrade pandas-gbq google-auth google-auth-oauthlib google-auth-httplib2\n",
    "\n",
    "\n",
    "df = pd.read_gbq(\n",
    "    \"SELECT my_col FROM `black-vehicle-406619.stock_ds.20yrs_stockdata`\",\n",
    "    project_id='black-vehicle-406619',\n",
    "    credentials=credentials,\n",
    "    location = 'US',\n",
    ")"
   ]
  }
 ],
 "metadata": {
  "kernelspec": {
   "display_name": ".venv",
   "language": "python",
   "name": "python3"
  },
  "language_info": {
   "codemirror_mode": {
    "name": "ipython",
    "version": 3
   },
   "file_extension": ".py",
   "mimetype": "text/x-python",
   "name": "python",
   "nbconvert_exporter": "python",
   "pygments_lexer": "ipython3",
   "version": "3.12.0"
  }
 },
 "nbformat": 4,
 "nbformat_minor": 2
}
