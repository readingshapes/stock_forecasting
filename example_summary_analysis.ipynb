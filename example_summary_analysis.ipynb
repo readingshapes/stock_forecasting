{
 "cells": [
  {
   "cell_type": "markdown",
   "metadata": {},
   "source": [
    "# What Your Audience Cares About:\n",
    "1. can you help me do a thing?\n",
    "2. how can your thing help me do better at my thing?\n",
    "3. how can i trust your recommendation?\n",
    "4. prove your recommendation in a way i understand\n"
   ]
  },
  {
   "cell_type": "markdown",
   "metadata": {},
   "source": [
    "# title\n",
    "\n",
    "## summary\n",
    "### question\n",
    "    - answer\n",
    "### why the answer\n",
    "    - parameters for selection:\n",
    "        1. accurate (for use case)\n",
    "        2. faster\n",
    "        3. compute resource usage considerations\n",
    "        4. reproduceability\n",
    "        5. other\n",
    "    - selected model x because:\n",
    "        - faster\n",
    "        - more accurate\n",
    "        - less resource use\n",
    "    - model y, z weren't as good because:\n",
    "        - slower\n",
    "        - less accurate\n",
    "        - more resource intensive\n",
    "#### a little more detail about why not other answers and methods (context)\n",
    "    - time series prediction vs other machine learning tasks\n",
    "    - specifics of these models - which ones work better and why\n",
    "    - model x\n",
    "    - model y, z, etc"
   ]
  },
  {
   "cell_type": "markdown",
   "metadata": {},
   "source": [
    "## how\n",
    "- high level: describe final process\n",
    "based on data set A, used model x, packages [b,c,d] to create E, then visuzalized using package [f]"
   ]
  },
  {
   "cell_type": "code",
   "execution_count": null,
   "metadata": {},
   "outputs": [],
   "source": [
    "# demonstrate HOW\n",
    "\n",
    "# import packages\n",
    "\n",
    "# read in data\n",
    "\n",
    "# check data before processing\n",
    "\n",
    "# process data\n",
    "\n",
    "# adjust model as needed\n",
    "\n",
    "# run\n",
    "\n",
    "# assess output\n",
    "\n",
    "# visualize\n",
    "\n",
    "# output data and charts somewhere"
   ]
  },
  {
   "cell_type": "markdown",
   "metadata": {},
   "source": []
  },
  {
   "cell_type": "code",
   "execution_count": null,
   "metadata": {},
   "outputs": [],
   "source": []
  },
  {
   "cell_type": "code",
   "execution_count": null,
   "metadata": {},
   "outputs": [],
   "source": []
  }
 ],
 "metadata": {
  "kernelspec": {
   "display_name": "Python 3",
   "language": "python",
   "name": "python3"
  },
  "language_info": {
   "name": "python",
   "version": "3.11.1"
  }
 },
 "nbformat": 4,
 "nbformat_minor": 2
}
