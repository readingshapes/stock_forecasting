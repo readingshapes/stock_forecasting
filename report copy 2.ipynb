{
 "cells": [
  {
   "cell_type": "markdown",
   "metadata": {},
   "source": [
    "# Stock Forecasting with the SARIMA Model\n",
    "\n",
    "## Summary\n",
    "\n",
    "**SARIMA Model:** Seasonal Autoregressive Integrated Moving Average (SARIMA) model, a time series forecasting method, is implemented to capture the underlying patterns and trends in the stock price data.\n",
    "\n",
    "The Seasonal Autoregressive Integrated Moving Average (SARIMA) model provides a robust framework for predicting stock prices. SARIMA's ability to capture seasonal patterns and cyclic behavior inherent in sequential data, along with its foundation in statistical time series analysis principles, lends credibility to our predictions. The model's interpretable parameters allow for a deeper understanding of the underlying dynamics driving stock price movements. However, it's important to note SARIMA's limitation in capturing external factors such as news events or sudden market shocks, which may impact stock prices but are not directly incorporated into the model. Despite this consideration, SARIMA remains a valuable tool for predicting stock prices based on historical patterns and internal data dynamics.\n",
    "\n",
    "For this project, four time ranges of historical data were evaluated for the accuracy of the SARIMA models' predictions for three different stocks (AAPL, TSLA, NVDA).\n",
    "\n",
    "Predicted Dates: 06-01-2024 to 06-11-2024\n",
    "\n",
    "Historical Data Time Ranges:\n",
    "\n",
    "1. 01-01-2015 to 5-31-2024\n",
    "2. 01-01-2017 to 5-31-2024\n",
    "3. 01-01-2029 to 5-31-2024\n",
    "4. 01-01-2021 to 5-31-2024\n",
    "\n",
    "From these time ranges, it was determined how much historical data provided the most accurate predictions through the use of comparison metrics (R-squared, p-value, RMSE, MSE, MAPE, AIC, BIC).\n",
    "\n",
    "### Question: Is the SARIMA model useful for a company's stock prediction? Can a company use this tool to make informed decisions with excellent accuracy?\n",
    "This tool would allow a company to make informed decisions based on future stock behavior, as this tool has excellent accuracy (on average, 96.8% accuracy for the recent time ranges (2019, 2021)).\n",
    "\n",
    "Parameters for Selection:\n",
    "1. Accuracy (RMSE, MSE, MAPE)\n",
    "2. Speed\n",
    "3. Compute resource usage considerations\n",
    "4. Reproducibility\n",
    "5. World Events\n",
    "6. Other factors\n",
    "\n",
    "**Selected Model:** The SARIMA models with the most recent historical data time range (2021) were chosen because:\n",
    "- The more recent models demonstrated high accuracy in capturing seasonal trends and underlying patterns in stock data.\n",
    "- The more recent models provided interpretable parameters that offer insights into stock price movements.\n",
    "Other time ranges (2015, 2017) weren't as effective because:\n",
    "- These time ranges showed slower computation times.\n",
    "- These time ranges had lower accuracy metrics compared to recent time ranges.\n",
    "- These time ranges required more computational resources, making them less practical for real-time stock prediction.\n",
    "\n",
    "### A Little More Detail About Why Not Other Answers and Methods (Context)\n",
    "\n",
    "Time Series Prediction vs. Other Machine Learning Tasks: SARIMA specifically excels in time series analysis, making it well-suited for stock price predictions where historical data is crucial. In contrast, other machine learning models may not capture the temporal dependencies as effectively.\n",
    "\n",
    "Specifics of the Model:\n",
    "SARIMA: Captures seasonality and trends in data, making it robust for stocks with clear patterns (e.g., AAPL and TSLA).\n",
    "Other Models (like ARIMA or regression-based models): While they may also predict stock prices, they often fail to account for seasonal variations, leading to less accurate forecasts.\n",
    "Contextual Effectiveness:\n",
    "The SARIMA model's ability to utilize recent historical data proved beneficial for stable stocks like AAPL, while its effectiveness varied with more volatile stocks like NVDA and TSLA, which required longer historical data for accurate predictions.\n",
    "\n",
    "### Why Not Other Models?\n",
    "\n",
    "1. **ARIMA (Autoregressive Integrated Moving Average)**:\n",
    "   - While ARIMA is effective for univariate time series data, it lacks the capability to model seasonal patterns as effectively as SARIMA. SARIMA extends ARIMA by incorporating seasonal components, making it more suitable for datasets with clear seasonal trends, such as stock prices.\n",
    "\n",
    "2. **GARCH (Generalized Autoregressive Conditional Heteroskedasticity)**:\n",
    "   - GARCH models focus primarily on modeling volatility and are useful for forecasting the variance of returns rather than predicting actual prices. They are not designed for point forecasts of stock prices, limiting their applicability for direct price prediction tasks.\n",
    "\n",
    "3. **XGBoost**:\n",
    "   - XGBoost is a powerful machine learning algorithm that excels in classification and regression tasks. However, it does not inherently account for the temporal dependencies in time series data. Without careful feature engineering to incorporate time-based features, it may not perform as well for stock price predictions as SARIMA, which directly models these temporal relationships.\n",
    "\n",
    "4. **Random Forest**:\n",
    "   - Like XGBoost, Random Forest is a robust model for various prediction tasks but does not leverage the sequential nature of time series data. While it can provide accurate predictions with sufficient data, it typically requires extensive feature engineering to capture the temporal dynamics, which is automatically handled by SARIMA.\n",
    "\n",
    "5. **TBATS (Trigonometric, Box-Cox Transformation, ARMA Errors, Trend, and Seasonal Components)**:\n",
    "   - TBATS is designed for complex seasonal patterns, but it can be computationally intensive and may require tuning of multiple parameters. In contrast, SARIMA offers a more straightforward framework for seasonal data without needing as much computational overhead.\n",
    "\n",
    "6. **Prophet**:\n",
    "   - Prophet is user-friendly and effective for forecasting time series data with strong seasonal effects and missing values. However, it may not be as robust for datasets with less clear seasonal patterns or when high-frequency forecasting is needed. SARIMA, with its statistical basis, can provide more granular control over the model parameters for precise forecasting.\n",
    "\n",
    "### Summary\n",
    "While each of these models has its strengths, they may not capture the intricate seasonal patterns and temporal relationships present in stock price data as effectively as SARIMA. SARIMA’s design specifically caters to time series forecasting, allowing for more reliable predictions in financial contexts, particularly when historical data plays a critical role.\n",
    "\n",
    "## How\n",
    "\n",
    "### High-Level Description of Final Process for AAPL, NVDA, and TSLA\n",
    "\n",
    "Based on the dataset comprising historical stock prices from 2021 (AAPL, TSLA) and 2019 (NVDA), the SARIMA model was utilized, leveraging packages such as statsmodels, pandas, and matplotlib to create the most accurate predictions. The results were visualized using the matplotlib package.\n",
    "\n",
    "This dataset employs definitions for Mean Squared Error (MSE), Root Mean Squared Error (RMSE), and prediction accuracy.\n",
    "\n",
    "**Definition of Accuracy:** Accuracy in this context refers to the degree to which the predicted values from the SARIMA model align with actual observed values, as indicated by the low MSE, RMSE, and MAPE metrics.\n",
    "\n",
    "### Demonstration of How to Implement SARIMA Model\n",
    "\n"
   ]
  },
  {
   "cell_type": "code",
   "execution_count": 12,
   "metadata": {},
   "outputs": [],
   "source": [
    "# Step 1: Import packages\n",
    "# % pip install pandas\n",
    "# % pip install numpy\n",
    "# %%! pip install plt\n",
    "import pandas as pd\n",
    "import numpy as np\n",
    "import matplotlib.pyplot as plt\n",
    "from sklearn.model_selection import train_test_split\n",
    "from sklearn.linear_model import LinearRegression\n",
    "from sklearn.metrics import mean_squared_error\n",
    "import yfinance as yf\n",
    "from sklearn.model_selection import train_test_split\n",
    "from sklearn.preprocessing import StandardScaler\n",
    "import pmdarima as pm"
   ]
  },
  {
   "cell_type": "code",
   "execution_count": 13,
   "metadata": {},
   "outputs": [
    {
     "name": "stderr",
     "output_type": "stream",
     "text": [
      "[*********************100%%**********************]  1 of 1 completed\n"
     ]
    }
   ],
   "source": [
    "# Step 2: User input for stock ticker\n",
    "stock_select_str1 = input(\"Enter stock ticker: \")\n",
    "\n",
    "# Initial load run\n",
    "stock_data = yf.download(stock_select_str1, start='2021-01-01', end='2024-05-31', interval='1d')\n"
   ]
  },
  {
   "cell_type": "code",
   "execution_count": 14,
   "metadata": {},
   "outputs": [
    {
     "name": "stdout",
     "output_type": "stream",
     "text": [
      "                  Open        High         Low       Close   Adj Close  \\\n",
      "Date                                                                     \n",
      "2021-01-04  133.520004  133.610001  126.760002  129.410004  126.683441   \n",
      "2021-01-05  128.889999  131.740005  128.429993  131.009995  128.249695   \n",
      "2021-01-06  127.720001  131.050003  126.379997  126.599998  123.932648   \n",
      "2021-01-07  128.360001  131.630005  127.860001  130.919998  128.161621   \n",
      "2021-01-08  132.429993  132.630005  130.229996  132.050003  129.267822   \n",
      "\n",
      "               Volume  \n",
      "Date                   \n",
      "2021-01-04  143301900  \n",
      "2021-01-05   97664900  \n",
      "2021-01-06  155088000  \n",
      "2021-01-07  109578200  \n",
      "2021-01-08  105158200  \n",
      "<class 'pandas.core.frame.DataFrame'>\n",
      "DatetimeIndex: 857 entries, 2021-01-04 to 2024-05-30\n",
      "Data columns (total 6 columns):\n",
      " #   Column     Non-Null Count  Dtype  \n",
      "---  ------     --------------  -----  \n",
      " 0   Open       857 non-null    float64\n",
      " 1   High       857 non-null    float64\n",
      " 2   Low        857 non-null    float64\n",
      " 3   Close      857 non-null    float64\n",
      " 4   Adj Close  857 non-null    float64\n",
      " 5   Volume     857 non-null    int64  \n",
      "dtypes: float64(5), int64(1)\n",
      "memory usage: 46.9 KB\n",
      "None\n",
      "             Open        High         Low       Close   Adj Close  \\\n",
      "count  857.000000  857.000000  857.000000  857.000000  857.000000   \n",
      "mean   158.865963  160.564808  157.292415  158.995519  157.336171   \n",
      "std     20.422276   20.367330   20.476360   20.424938   20.876941   \n",
      "min    119.029999  120.400002  116.209999  116.360001  114.078606   \n",
      "25%    143.250000  144.899994  141.509995  143.240005  141.423065   \n",
      "50%    158.860001  160.710007  156.320007  157.960007  156.419525   \n",
      "75%    174.910004  176.649994  173.449997  175.059998  173.284119   \n",
      "max    198.020004  199.619995  197.000000  198.110001  197.361084   \n",
      "\n",
      "             Volume  \n",
      "count  8.570000e+02  \n",
      "mean   7.697864e+07  \n",
      "std    2.777241e+07  \n",
      "min    2.404830e+07  \n",
      "25%    5.596280e+07  \n",
      "50%    7.137960e+07  \n",
      "75%    9.095670e+07  \n",
      "max    1.954327e+08  \n"
     ]
    }
   ],
   "source": [
    "# Step 3: Check data before processing\n",
    "print(stock_data.head())\n",
    "print(stock_data.info())\n",
    "print(stock_data.describe())"
   ]
  },
  {
   "cell_type": "code",
   "execution_count": 15,
   "metadata": {},
   "outputs": [],
   "source": [
    "# Step 4: Process data\n",
    "# Ensure the index is a DateTimeIndex for easy filtering\n",
    "stock_data.index = pd.to_datetime(stock_data.index)\n",
    "\n",
    "# Filter out weekends\n",
    "stock_data = stock_data[stock_data.index.to_series().dt.dayofweek < 5]\n",
    "\n",
    "# Step 5: Define the process_model function\n",
    "def process_model(stock_transformed):\n",
    "    print(\"Processing SARIMA model...\\n\")\n",
    "    \n",
    "    sarima_model = pm.auto_arima(stock_transformed[\"Close\"], start_p=1, start_q=1,\n",
    "                                  test='adf',\n",
    "                                  max_p=3, max_q=3,\n",
    "                                  m=12,  # 12 is the frequency of the cycle (yearly)\n",
    "                                  start_P=0,\n",
    "                                  seasonal=True,  # Set to seasonal\n",
    "                                  d=None,\n",
    "                                  D=1,  # Order of the seasonal differencing\n",
    "                                  trace=False,\n",
    "                                  error_action='ignore',\n",
    "                                  suppress_warnings=True,\n",
    "                                  stepwise=True)\n",
    "    \n",
    "    return sarima_model\n",
    "\n"
   ]
  },
  {
   "cell_type": "code",
   "execution_count": 16,
   "metadata": {},
   "outputs": [
    {
     "name": "stdout",
     "output_type": "stream",
     "text": [
      "Processing SARIMA model...\n",
      "\n"
     ]
    }
   ],
   "source": [
    "# Fit the SARIMA model\n",
    "sarima_model = process_model(stock_data)"
   ]
  },
  {
   "cell_type": "code",
   "execution_count": 17,
   "metadata": {},
   "outputs": [
    {
     "name": "stderr",
     "output_type": "stream",
     "text": [
      "/Users/juliawilliams/.pyenv/versions/3.9.2/lib/python3.9/site-packages/statsmodels/tsa/base/tsa_model.py:836: ValueWarning: No supported index is available. Prediction results will be given with an integer index beginning at `start`.\n",
      "  return get_prediction_index(\n",
      "/Users/juliawilliams/.pyenv/versions/3.9.2/lib/python3.9/site-packages/statsmodels/tsa/base/tsa_model.py:836: FutureWarning: No supported index is available. In the next version, calling this method in a model without a supported index will result in an exception.\n",
      "  return get_prediction_index(\n"
     ]
    }
   ],
   "source": [
    "# Step 6: Run predictions\n",
    "n_forecast = 11  # Number of days to forecast (e.g., June 1 to June 11)\n",
    "forecast, conf_int = sarima_model.predict(n_periods=n_forecast, return_conf_int=True)"
   ]
  },
  {
   "cell_type": "code",
   "execution_count": 18,
   "metadata": {},
   "outputs": [
    {
     "name": "stdout",
     "output_type": "stream",
     "text": [
      "Forecasted values: 857    190.232941\n",
      "858    194.139061\n",
      "859    192.892013\n",
      "860    190.775811\n",
      "861    190.969225\n",
      "862    194.251514\n",
      "863    192.371979\n",
      "864    190.208748\n",
      "865    191.141531\n",
      "866    191.699281\n",
      "867    191.464948\n",
      "dtype: float64\n",
      "Confidence intervals: [[184.29482144 196.17105987]\n",
      " [185.90509671 202.37302556]\n",
      " [183.00155174 202.7824738 ]\n",
      " [179.57203303 201.97958826]\n",
      " [178.67745407 203.2609957 ]\n",
      " [181.03502514 207.46800325]\n",
      " [178.35623483 206.38772338]\n",
      " [175.49396126 204.92353478]\n",
      " [175.80995915 206.47310285]\n",
      " [175.81981577 207.5787461 ]\n",
      " [175.09618076 207.83371461]]\n"
     ]
    }
   ],
   "source": [
    "# Step 7: Assess output\n",
    "print(f\"Forecasted values: {forecast}\")\n",
    "print(f\"Confidence intervals: {conf_int}\")"
   ]
  },
  {
   "cell_type": "code",
   "execution_count": 28,
   "metadata": {},
   "outputs": [
    {
     "data": {
      "image/png": "[encoded data removed]",
      "text/plain": [
       "<Figure size 1000x700 with 1 Axes>"
      ]
     },
     "metadata": {},
     "output_type": "display_data"
    }
   ],
   "source": [
    "# Step 8: Visualize\n",
    "# Plot the forecast\n",
    "plt.figure(figsize=(10, 7))\n",
    "plt.plot(stock_data['Close'], label='Historical Close Prices')\n",
    "plt.plot(pd.date_range(start='2023-06-01', periods=n_forecast, freq='B'), \n",
    "         forecast, label='Forecasted Close Prices', color='orange')\n",
    "plt.fill_between(pd.date_range(start='2023-06-01', periods=n_forecast, freq='B'), \n",
    "                 conf_int[:, 0], conf_int[:, 1], color='gray', alpha=0.5, label='95% Confidence Interval')\n",
    "\n",
    "# Set the x-axis limits to focus on the relevant dates\n",
    "plt.xlim(pd.Timestamp('2023-04-15'), pd.Timestamp('2023-06-15'))  # Adjust the start date as needed\n",
    "\n",
    "plt.title(f'Close Price Forecast for {stock_select_str1}')\n",
    "plt.xlabel('Date')\n",
    "plt.ylabel('Price')\n",
    "plt.legend()\n",
    "plt.show()"
   ]
  },
  {
   "cell_type": "code",
   "execution_count": 29,
   "metadata": {},
   "outputs": [],
   "source": [
    "# Step 9: Output data and charts somewhere\n",
    "forecast_df = pd.DataFrame({'Forecast': forecast}, index=pd.date_range(start='2023-06-01', periods=n_forecast, freq='B'))\n",
    "forecast_df.to_csv('forecast_predictions.csv', index=True)"
   ]
  }
 ],
 "metadata": {
  "kernelspec": {
   "display_name": "Python 3",
   "language": "python",
   "name": "python3"
  },
  "language_info": {
   "codemirror_mode": {
    "name": "ipython",
    "version": 3
   },
   "file_extension": ".py",
   "mimetype": "text/x-python",
   "name": "python",
   "nbconvert_exporter": "python",
   "pygments_lexer": "ipython3",
   "version": "3.9.2"
  }
 },
 "nbformat": 4,
 "nbformat_minor": 2
}
