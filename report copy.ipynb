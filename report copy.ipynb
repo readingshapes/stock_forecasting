{
 "cells": [
  {
   "cell_type": "markdown",
   "metadata": {},
   "source": [
    "# **Stock Forecasting with the SARIMA Model**\n",
    "\n",
    "## **Summary**\n",
    "\n",
    " **SARIMA Model: Seasonal Autoregressive Integrated Moving Average (SARIMA) model, a time series forecasting method, is implemented to capture the underlying patterns and trends in the stock price data.**\n",
    "\n",
    " The Seasonal Autoregressive Integrated Moving Average (SARIMA) model provides a robust framework for predicting stock prices. SARIMA's ability to capture seasonal patterns and cyclic behavior inherent in sequential data, along with its foundation in statistical time series analysis principles, lends credibility to our predictions. The model's interpretable parameters allow for a deeper understanding of the underlying dynamics driving stock price movements. However, it's important to note SARIMA's limitation in capturing external factors such as news events or sudden market shocks, which may impact stock prices but are not directly incorporated into the model. Despite this consideration, SARIMA remains a valuable tool for predicting stock prices based on historical patterns and internal data dynamics. \n",
    "\n",
    "For this project, four time ranges of historical data were evaluated for the accuracy of the SARIMA models' predictions for three different stocks (AAPL, TSLA, NVDA).\n",
    "\n",
    "Predicted Dates: 06-01-2024 to 06-11-2024\n",
    "\n",
    "Historical Data Time Ranges:\n",
    "\n",
    "1. 01-01-2015 to 5-31-2024\n",
    "2. 01-01-2017 to 5-31-2024\n",
    "3. 01-01-2029 to 5-31-2024\n",
    "4. 01-01-2021 to 5-31-2024\n",
    "\n",
    "From these time ranges, it was determined how much historical data provided the most accurate predictions through the use of comparison metrics (R-squared, p-value, RMSE, MSE, MAPE, AIC, BIC).\n",
    "\n",
    "### **Question: Is the SARIMA model useful for a company's stock prediction? Can a company use this tool to make informed decisions with excellent accuracy?**\n",
    "    This tool would allow a company to make informed decisions based on future stock behavior, as this tool has excellent accuracy (on average, 96.8% accuracy for the recent time ranges (2019, 2021))\n",
    "\n",
    "Parameters for Selection:\n",
    "1. Accuracy (RMSE, MSE, MAPE)\n",
    "2. Speed\n",
    "3. Compute resource usage considerations\n",
    "4. Reproducibility\n",
    "5. World Events\n",
    "5. Other factors\n",
    "\n",
    "Selected Model: The SARIMA models with the most recent historical data time range (2021) were chosen because:\n",
    "- The more recent models demonstrated high accuracy in capturing seasonal trends and underlying patterns in stock data.\n",
    "- The more recent models provided interpretable parameters that offer insights into stock price movements.\n",
    "Other time ranges (2015, 2017) weren't as effective because:\n",
    "- These time ranges showed slower computation times.\n",
    "- These time ranges had lower accuracy metrics compared to recent time ranges.\n",
    "- These time ranges required more computational resources, making them less practical for real-time stock prediction.\n",
    "\n",
    "### A Little More Detail About Why Not Other Answers and Methods (Context)\n",
    "\n",
    "Time Series Prediction vs. Other Machine Learning Tasks: SARIMA specifically excels in time series analysis, making it well-suited for stock price predictions where historical data is crucial. In contrast, other machine learning models may not capture the temporal dependencies as effectively.\n",
    "\n",
    "Specifics of the Model:\n",
    "SARIMA: Captures seasonality and trends in data, making it robust for stocks with clear patterns (e.g., AAPL and TSLA).\n",
    "Other Models (like ARIMA or regression-based models): While they may also predict stock prices, they often fail to account for seasonal variations, leading to less accurate forecasts.\n",
    "Contextual Effectiveness:\n",
    "The SARIMA model's ability to utilize recent historical data proved beneficial for stable stocks like AAPL, while its effectiveness varied with more volatile stocks like NVDA and TSLA, which required longer historical data for accurate predictions."
   ]
  },
  {
   "cell_type": "markdown",
   "metadata": {},
   "source": [
    "## **How**\n",
    "\n",
    "### High-Level Description of Final Process for AAPL \n",
    "\n",
    "Based on the dataset comprising historical AAPL stock prices from 2021 to 2024, the SARIMA model was utilized, leveraging packages such as statsmodels, pandas, and matplotlib to create accurate the most accurate predictions. The results were visualized using the matplotlib package.\n",
    "\n",
    "This dataset employs definitions for Mean Squared Error (MSE), Root Mean Squared Error (RMSE), and prediction accuracy.\n",
    "\n",
    "Definition of Accuracy: Accuracy in this context refers to the degree to which the predicted values from the SARIMA model align with actual observed values, as indicated by the low MSE, RMSE and MAPE metrics. "
   ]
  },
  {
   "cell_type": "code",
   "execution_count": 1,
   "metadata": {},
   "outputs": [],
   "source": [
    "# demonstrate HOW using code\n",
    "\n",
    "# import packages\n",
    "\n",
    "# read in data\n",
    "\n",
    "# check data before processing\n",
    "\n",
    "# process data\n",
    "\n",
    "# adjust model as needed\n",
    "\n",
    "# run\n",
    "\n",
    "# assess output\n",
    "\n",
    "# visualize\n",
    "\n",
    "# output data and charts somewhere"
   ]
  },
  {
   "cell_type": "markdown",
   "metadata": {},
   "source": [
    "# practical demo below:"
   ]
  },
  {
   "cell_type": "markdown",
   "metadata": {},
   "source": [
    "# Compare and Select best model for forecasting stocks\n",
    "- last updated: 2024-09-12\n",
    "## summary\n",
    "Select stock forecasting model that has the best possible prediction of the change in the stock price of the next day.\n",
    "### Which time-series based forecasting model works best to predict stocks?\n",
    "- answer\n",
    "### why the answer (METRICS)  \n",
    "for this project we looked at LSTM and SARIMA models.    \n",
    "- parameters for selection: explain\n",
    "    1. accurate (for use case)  \n",
    "    2. faster  \n",
    "    3. compute resource usage considerations  \n",
    "    4. reproduceability  \n",
    "    5. consistency  \n",
    "    6. supervised vs unsupervised, and why  \n",
    "- selected model x because: explain\n",
    "    - faster  \n",
    "    - more accurate  \n",
    "    - less resource use  \n",
    "- model y, z weren't as good because: explain\n",
    "    - slower  \n",
    "    - less accurate  \n",
    "    - more resource intensive  \n",
    "#### a little more detail about why not other answers and methods (context)  \n",
    "- time series prediction vs other machine learning tasks - [check out this excellent article for structure](https://neptune.ai/blog/select-model-for-time-series-prediction-task)  \n",
    "> In time series, however, observations are measured over time. Each data point in your data set corresponds to a point in time. This means that there is a relation between different data points of your dataset. This has important implications for the types of machine learning algorithms that you can apply to the time series dataset.    \n",
    "\n",
    "- univariate vs multivariate: explain\n",
    "\n",
    "> Time Series Decomposition is a technique to extract multiple types of variation from your dataset. There are three important components in the temporal data of a time series: seasonality, trend, and noise.   \n",
    "- seasonality: explain\n",
    "- trend: explain\n",
    "- noise: explain\n",
    "\n",
    "> time series considerations for your data set type:\n",
    "- autocorrelation: past predicts future\n",
    "- stationarity: test stability of data set\n",
    "- single or multi-step predictions; lag window defintions \n",
    "   \n",
    "#### specifics of these models - which ones work better and why, and what parameters we chose: (explain)\n",
    "- LSTM: (l)ong (s)hort (t)erm (m)emory\n",
    "    - RNN: recurrent neural network\n",
    "    - each node in network handles one thing  \n",
    "    - good for very complex, nonlinear data\n",
    "    - learns over sequences (e.g., time series)\n",
    "- SARIMA: (s)easonal + (i)ntegrated + (a)uto (r)egression + (m)oving (a)verage\n",
    "    - p = number of lagged values included:\n",
    "    - q = number of time steps in moving average:\n",
    "    - d = number of differencing sequences: \n",
    "    - m = number of observations per year:\n",
    "    - smoothing choice: explain\n",
    "    - final model choice: SARIMA(p, d, q)(P, D, Q)m\n",
    "\n",
    "#### why not other models? (explain)\n",
    "- GARCH\n",
    "- XGBoost\n",
    "- Random Forest\n",
    "- TBATS \n",
    "- prophet"
   ]
  },
  {
   "cell_type": "markdown",
   "metadata": {},
   "source": [
    "## how\n",
    "- high level: describe final process:  \n",
    "based on data set [Apple stock from yahoo finance api], used model [x], packages [b,c,d] to create [E], then visuzalized using package [f]  \n",
    "\n",
    "- data set [Apple stock] uses NA definitions [dropna or interpolation], [closing, avg, start price], and [start and end dates].\n",
    "\n",
    "### Definition Metric choices:\n",
    "- accuracy\n",
    "    - mse - mean square error\n",
    "    - rmse - (square) root mean square error\n",
    "    - mae - mean absolute error\n",
    "- other metric options (explain)\n",
    "\n",
    "### Selected definition of accuracy: \n",
    "- Lowest RMSE (square root mean squared error) between predicted values and actual values\n",
    "\n",
    "### fit assessment\n",
    "- train-test split: rolling \n",
    "    - train period window: x days\n",
    "    - test period window: x days\n",
    "- cross-validation: 3 fold\n",
    "    - period 1:\n",
    "        - train dates:\n",
    "        - test dates:\n",
    "    - period 2:\n",
    "        - train dates:\n",
    "        - test dates:\n",
    "    - period 3:\n",
    "        - train dates:\n",
    "        - test dates:"
   ]
  },
  {
   "cell_type": "code",
   "execution_count": 8,
   "metadata": {},
   "outputs": [],
   "source": [
    "# demonstrate HOW using code\n",
    "# ! pip install yfinance\n",
    "# ! pip install xgboost\n",
    "\n",
    "# import packages\n",
    "import warnings\n",
    "warnings.filterwarnings('ignore')\n",
    "import yfinance as yf\n",
    "import numpy as np\n",
    "from sklearn.metrics import mean_squared_error\n",
    "from sklearn.model_selection import TimeSeriesSplit\n",
    "import xgboost as xgb\n",
    "from sklearn.model_selection import KFold\n"
   ]
  },
  {
   "cell_type": "code",
   "execution_count": 12,
   "metadata": {},
   "outputs": [
    {
     "name": "stdout",
     "output_type": "stream",
     "text": [
      "[*********************100%%**********************]  1 of 1 completed\n"
     ]
    },
    {
     "data": {
      "text/plain": [
       "<Axes: xlabel='Date'>"
      ]
     },
     "execution_count": 12,
     "metadata": {},
     "output_type": "execute_result"
    },
    {
     "data": {
      "image/png": "[encoded data removed]",
      "text/plain": [
       "<Figure size 800x800 with 1 Axes>"
      ]
     },
     "metadata": {},
     "output_type": "display_data"
    }
   ],
   "source": [
    "# read in data\n",
    "# taking the close price (end of day)\n",
    "sp500_data = yf.download('^GSPC', start=\"1980-01-01\", end=\"2021-11-21\")\n",
    "sp500_data = sp500_data[['Close']]\n",
    "sp500_data.plot(figsize=(8, 8))"
   ]
  },
  {
   "cell_type": "code",
   "execution_count": 10,
   "metadata": {},
   "outputs": [
    {
     "data": {
      "text/html": [
       "<div>\n",
       "<style scoped>\n",
       "    .dataframe tbody tr th:only-of-type {\n",
       "        vertical-align: middle;\n",
       "    }\n",
       "\n",
       "    .dataframe tbody tr th {\n",
       "        vertical-align: top;\n",
       "    }\n",
       "\n",
       "    .dataframe thead th {\n",
       "        text-align: right;\n",
       "    }\n",
       "</style>\n",
       "<table border=\"1\" class=\"dataframe\">\n",
       "  <thead>\n",
       "    <tr style=\"text-align: right;\">\n",
       "      <th></th>\n",
       "      <th>Close</th>\n",
       "    </tr>\n",
       "    <tr>\n",
       "      <th>Date</th>\n",
       "      <th></th>\n",
       "    </tr>\n",
       "  </thead>\n",
       "  <tbody>\n",
       "    <tr>\n",
       "      <th>1980-01-02</th>\n",
       "      <td>105.760002</td>\n",
       "    </tr>\n",
       "    <tr>\n",
       "      <th>1980-01-03</th>\n",
       "      <td>105.220001</td>\n",
       "    </tr>\n",
       "    <tr>\n",
       "      <th>1980-01-04</th>\n",
       "      <td>106.519997</td>\n",
       "    </tr>\n",
       "    <tr>\n",
       "      <th>1980-01-07</th>\n",
       "      <td>106.809998</td>\n",
       "    </tr>\n",
       "    <tr>\n",
       "      <th>1980-01-08</th>\n",
       "      <td>108.949997</td>\n",
       "    </tr>\n",
       "  </tbody>\n",
       "</table>\n",
       "</div>"
      ],
      "text/plain": [
       "                 Close\n",
       "Date                  \n",
       "1980-01-02  105.760002\n",
       "1980-01-03  105.220001\n",
       "1980-01-04  106.519997\n",
       "1980-01-07  106.809998\n",
       "1980-01-08  108.949997"
      ]
     },
     "execution_count": 10,
     "metadata": {},
     "output_type": "execute_result"
    }
   ],
   "source": [
    "# check data before processing\n",
    "\n",
    "sp500_data.head()"
   ]
  },
  {
   "cell_type": "code",
   "execution_count": 11,
   "metadata": {},
   "outputs": [],
   "source": [
    "# process data\n",
    "\n",
    "difs = (sp500_data.shift() - sp500_data) / sp500_data\n",
    "difs = difs.dropna()\n",
    "\n",
    "y = difs.Close.values\n",
    "\n",
    "# window through the data\n",
    "X_data = []\n",
    "y_data = []\n",
    "for i in range(len(y) - 31):\n",
    "    X_data.append(y[i:i+30])\n",
    "    y_data.append(y[i+30])\n",
    "\n",
    "X_windows = np.vstack(X_data)\n",
    "\n",
    "# create train test split\n",
    "from sklearn.model_selection import train_test_split\n",
    "X_train, X_test, y_train, y_test = train_test_split(X_windows, np.array(y_data), test_size=0.2, random_state=1)\n",
    "X_train, X_val, y_train, y_val  = train_test_split(X_train, y_train, test_size=0.25, random_state=1)\n"
   ]
  },
  {
   "cell_type": "code",
   "execution_count": null,
   "metadata": {},
   "outputs": [],
   "source": [
    "# adjust model as needed\n",
    "\n"
   ]
  },
  {
   "cell_type": "code",
   "execution_count": null,
   "metadata": {},
   "outputs": [],
   "source": [
    "# run\n",
    "\n"
   ]
  },
  {
   "cell_type": "code",
   "execution_count": null,
   "metadata": {},
   "outputs": [],
   "source": [
    "# assess output\n",
    "\n"
   ]
  },
  {
   "cell_type": "code",
   "execution_count": null,
   "metadata": {},
   "outputs": [],
   "source": [
    "# visualize\n",
    "\n"
   ]
  },
  {
   "cell_type": "code",
   "execution_count": null,
   "metadata": {},
   "outputs": [],
   "source": [
    "# output data and charts somewhere"
   ]
  }
 ],
 "metadata": {
  "kernelspec": {
   "display_name": "Python 3",
   "language": "python",
   "name": "python3"
  },
  "language_info": {
   "codemirror_mode": {
    "name": "ipython",
    "version": 3
   },
   "file_extension": ".py",
   "mimetype": "text/x-python",
   "name": "python",
   "nbconvert_exporter": "python",
   "pygments_lexer": "ipython3",
   "version": "3.11.1"
  }
 },
 "nbformat": 4,
 "nbformat_minor": 2
}
