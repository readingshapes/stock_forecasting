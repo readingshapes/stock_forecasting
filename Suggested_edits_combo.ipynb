{
 "cells": [
  {
   "cell_type": "markdown",
   "metadata": {},
   "source": [
    "*what and why*\n",
    "## Description\n",
    "\n",
    "**Is the SARIMA model (see description of the Machine Learning model below) useful for stock prediction? If so, when is it useful?**\n",
    "\n",
    "This GitHub project utilizes the yfinance library to import historical stock data for Apple Inc. (AAPL), NVIDIA (NVDA), and Tesla (TSLA) . By leveraging this data, SARIMA models were developed for stock price prediction:\n",
    " \n",
    " **SARIMA Model: Seasonal Autoregressive Integrated Moving Average (SARIMA) model, a time series forecasting method, is implemented to capture the underlying patterns and trends in the stock price data.**\n",
    "\n",
    " The Seasonal Autoregressive Integrated Moving Average (SARIMA) model provides a robust framework for predicting stock prices. SARIMA's ability to capture seasonal patterns and cyclic behavior inherent in sequential data, along with its foundation in statistical time series analysis principles, lends credibility to our predictions. The model's interpretable parameters allow for a deeper understanding of the underlying dynamics driving stock price movements. However, it's important to note SARIMA's limitation in capturing external factors such as news events or sudden market shocks, which may impact stock prices but are not directly incorporated into the model. Despite this consideration, SARIMA remains a valuable tool for predicting stock prices based on historical patterns and internal data dynamics.  \n",
    "\n",
    "\n",
    "Two additional kinds of models were created for the AAPL stock for further analysis:\n",
    "1. LSTM Model: Long Short-Term Memory (LSTM) neural network model is utilized for its ability to effectively learn from sequential data and capture complex patterns in the stock price dynamics.\n",
    "2. Combined LSTM and SARIMA Model: A novel approach combining the strengths of both LSTM and SARIMA models is proposed. This hybrid model aims to enhance prediction accuracy by leveraging the complementary capabilities of each model.\n",
    "\n",
    "## Objective\n",
    "Discover if it is possible to implement a robust SARIMA model to enable accurate prediction of a client's company stock price, leveraging historical data and market trends. The primary aim is to use the predictive insights to formulate strategic investment decisions aimed at maximizing shareholder profit and optimizing portfolio performance. \n",
    "\n",
    "For AAPL, NVDA, and TSLA: Download historical data for the following time ranges and predict stock price for 06-01-2024 to 06-11-2024:\n",
    "\n",
    "Historical Data Time Ranges:\n",
    "1. 01-01-2004 to 5-31-2024 \n",
    "2. 01-01-2010 to 5-31-2024\n",
    "3. 01-01-2013 to 5-31-2024\n",
    "4. 01-01-2017 to 5-31-2024\n",
    "5. 01-01-2019 to 5-31-2024\n",
    "6. 01-01-2021 to 5-31-2024\n",
    "7. 01-01-2023 to 5-31-2024\n",
    "\n",
    "\n",
    "## Summary Findings\n",
    "To be added"
   ]
  },
  {
   "cell_type": "markdown",
   "metadata": {},
   "source": [
    "*how*\n",
    "## Methodology"
   ]
  },
  {
   "cell_type": "code",
   "execution_count": 3,
   "metadata": {},
   "outputs": [
    {
     "name": "stdout",
     "output_type": "stream",
     "text": [
      "Defaulting to user installation because normal site-packages is not writeable\n",
      "Requirement already satisfied: yfinance in /Users/juliawilliams/Library/Python/3.9/lib/python/site-packages (0.2.31)\n",
      "Requirement already satisfied: pandas>=1.3.0 in /Users/juliawilliams/Library/Python/3.9/lib/python/site-packages (from yfinance) (2.1.2)\n",
      "Requirement already satisfied: numpy>=1.16.5 in /Users/juliawilliams/Library/Python/3.9/lib/python/site-packages (from yfinance) (1.26.1)\n",
      "Requirement already satisfied: requests>=2.31 in /Users/juliawilliams/Library/Python/3.9/lib/python/site-packages (from yfinance) (2.31.0)\n",
      "Requirement already satisfied: multitasking>=0.0.7 in /Users/juliawilliams/Library/Python/3.9/lib/python/site-packages (from yfinance) (0.0.11)\n",
      "Requirement already satisfied: lxml>=4.9.1 in /Users/juliawilliams/Library/Python/3.9/lib/python/site-packages (from yfinance) (4.9.3)\n",
      "Requirement already satisfied: appdirs>=1.4.4 in /Users/juliawilliams/Library/Python/3.9/lib/python/site-packages (from yfinance) (1.4.4)\n",
      "Requirement already satisfied: pytz>=2022.5 in /Users/juliawilliams/Library/Python/3.9/lib/python/site-packages (from yfinance) (2023.3.post1)\n",
      "Requirement already satisfied: frozendict>=2.3.4 in /Users/juliawilliams/Library/Python/3.9/lib/python/site-packages (from yfinance) (2.3.8)\n",
      "Requirement already satisfied: peewee>=3.16.2 in /Users/juliawilliams/Library/Python/3.9/lib/python/site-packages (from yfinance) (3.17.0)\n",
      "Requirement already satisfied: beautifulsoup4>=4.11.1 in /Users/juliawilliams/Library/Python/3.9/lib/python/site-packages (from yfinance) (4.12.2)\n",
      "Requirement already satisfied: html5lib>=1.1 in /Users/juliawilliams/Library/Python/3.9/lib/python/site-packages (from yfinance) (1.1)\n",
      "Requirement already satisfied: soupsieve>1.2 in /Users/juliawilliams/Library/Python/3.9/lib/python/site-packages (from beautifulsoup4>=4.11.1->yfinance) (2.5)\n",
      "Requirement already satisfied: six>=1.9 in /Library/Developer/CommandLineTools/Library/Frameworks/Python3.framework/Versions/3.9/lib/python3.9/site-packages (from html5lib>=1.1->yfinance) (1.15.0)\n",
      "Requirement already satisfied: webencodings in /Users/juliawilliams/Library/Python/3.9/lib/python/site-packages (from html5lib>=1.1->yfinance) (0.5.1)\n",
      "Requirement already satisfied: python-dateutil>=2.8.2 in /Users/juliawilliams/Library/Python/3.9/lib/python/site-packages (from pandas>=1.3.0->yfinance) (2.8.2)\n",
      "Requirement already satisfied: tzdata>=2022.1 in /Users/juliawilliams/Library/Python/3.9/lib/python/site-packages (from pandas>=1.3.0->yfinance) (2023.3)\n",
      "Requirement already satisfied: charset-normalizer<4,>=2 in /Users/juliawilliams/Library/Python/3.9/lib/python/site-packages (from requests>=2.31->yfinance) (3.3.2)\n",
      "Requirement already satisfied: idna<4,>=2.5 in /Users/juliawilliams/Library/Python/3.9/lib/python/site-packages (from requests>=2.31->yfinance) (3.4)\n",
      "Requirement already satisfied: urllib3<3,>=1.21.1 in /Users/juliawilliams/Library/Python/3.9/lib/python/site-packages (from requests>=2.31->yfinance) (2.0.7)\n",
      "Requirement already satisfied: certifi>=2017.4.17 in /Users/juliawilliams/Library/Python/3.9/lib/python/site-packages (from requests>=2.31->yfinance) (2023.7.22)\n",
      "\n",
      "\u001b[1m[\u001b[0m\u001b[34;49mnotice\u001b[0m\u001b[1;39;49m]\u001b[0m\u001b[39;49m A new release of pip is available: \u001b[0m\u001b[31;49m23.3.1\u001b[0m\u001b[39;49m -> \u001b[0m\u001b[32;49m24.2\u001b[0m\n",
      "\u001b[1m[\u001b[0m\u001b[34;49mnotice\u001b[0m\u001b[1;39;49m]\u001b[0m\u001b[39;49m To update, run: \u001b[0m\u001b[32;49m/Library/Developer/CommandLineTools/usr/bin/python3 -m pip install --upgrade pip\u001b[0m\n",
      "Note: you may need to restart the kernel to use updated packages.\n",
      "Defaulting to user installation because normal site-packages is not writeable\n",
      "Requirement already satisfied: stockstats in /Users/juliawilliams/Library/Python/3.9/lib/python/site-packages (0.6.2)\n",
      "Requirement already satisfied: numpy>=1.16.6 in /Users/juliawilliams/Library/Python/3.9/lib/python/site-packages (from stockstats) (1.26.1)\n",
      "Requirement already satisfied: pandas>=0.24.2 in /Users/juliawilliams/Library/Python/3.9/lib/python/site-packages (from stockstats) (2.1.2)\n",
      "Requirement already satisfied: python-dateutil>=2.8.2 in /Users/juliawilliams/Library/Python/3.9/lib/python/site-packages (from pandas>=0.24.2->stockstats) (2.8.2)\n",
      "Requirement already satisfied: pytz>=2020.1 in /Users/juliawilliams/Library/Python/3.9/lib/python/site-packages (from pandas>=0.24.2->stockstats) (2023.3.post1)\n",
      "Requirement already satisfied: tzdata>=2022.1 in /Users/juliawilliams/Library/Python/3.9/lib/python/site-packages (from pandas>=0.24.2->stockstats) (2023.3)\n",
      "Requirement already satisfied: six>=1.5 in /Library/Developer/CommandLineTools/Library/Frameworks/Python3.framework/Versions/3.9/lib/python3.9/site-packages (from python-dateutil>=2.8.2->pandas>=0.24.2->stockstats) (1.15.0)\n",
      "\n",
      "\u001b[1m[\u001b[0m\u001b[34;49mnotice\u001b[0m\u001b[1;39;49m]\u001b[0m\u001b[39;49m A new release of pip is available: \u001b[0m\u001b[31;49m23.3.1\u001b[0m\u001b[39;49m -> \u001b[0m\u001b[32;49m24.2\u001b[0m\n",
      "\u001b[1m[\u001b[0m\u001b[34;49mnotice\u001b[0m\u001b[1;39;49m]\u001b[0m\u001b[39;49m To update, run: \u001b[0m\u001b[32;49m/Library/Developer/CommandLineTools/usr/bin/python3 -m pip install --upgrade pip\u001b[0m\n",
      "Note: you may need to restart the kernel to use updated packages.\n",
      "Defaulting to user installation because normal site-packages is not writeable\n",
      "Requirement already satisfied: matplotlib in /Users/juliawilliams/Library/Python/3.9/lib/python/site-packages (3.8.1)\n",
      "Requirement already satisfied: contourpy>=1.0.1 in /Users/juliawilliams/Library/Python/3.9/lib/python/site-packages (from matplotlib) (1.2.0)\n",
      "Requirement already satisfied: cycler>=0.10 in /Users/juliawilliams/Library/Python/3.9/lib/python/site-packages (from matplotlib) (0.12.1)\n",
      "Requirement already satisfied: fonttools>=4.22.0 in /Users/juliawilliams/Library/Python/3.9/lib/python/site-packages (from matplotlib) (4.44.0)\n",
      "Requirement already satisfied: kiwisolver>=1.3.1 in /Users/juliawilliams/Library/Python/3.9/lib/python/site-packages (from matplotlib) (1.4.5)\n",
      "Requirement already satisfied: numpy<2,>=1.21 in /Users/juliawilliams/Library/Python/3.9/lib/python/site-packages (from matplotlib) (1.26.1)\n",
      "Requirement already satisfied: packaging>=20.0 in /Users/juliawilliams/Library/Python/3.9/lib/python/site-packages (from matplotlib) (23.2)\n",
      "Requirement already satisfied: pillow>=8 in /Users/juliawilliams/Library/Python/3.9/lib/python/site-packages (from matplotlib) (10.1.0)\n",
      "Requirement already satisfied: pyparsing>=2.3.1 in /Users/juliawilliams/Library/Python/3.9/lib/python/site-packages (from matplotlib) (3.1.1)\n",
      "Requirement already satisfied: python-dateutil>=2.7 in /Users/juliawilliams/Library/Python/3.9/lib/python/site-packages (from matplotlib) (2.8.2)\n",
      "Requirement already satisfied: importlib-resources>=3.2.0 in /Users/juliawilliams/Library/Python/3.9/lib/python/site-packages (from matplotlib) (6.1.0)\n",
      "Requirement already satisfied: zipp>=3.1.0 in /Users/juliawilliams/Library/Python/3.9/lib/python/site-packages (from importlib-resources>=3.2.0->matplotlib) (3.17.0)\n",
      "Requirement already satisfied: six>=1.5 in /Library/Developer/CommandLineTools/Library/Frameworks/Python3.framework/Versions/3.9/lib/python3.9/site-packages (from python-dateutil>=2.7->matplotlib) (1.15.0)\n",
      "\n",
      "\u001b[1m[\u001b[0m\u001b[34;49mnotice\u001b[0m\u001b[1;39;49m]\u001b[0m\u001b[39;49m A new release of pip is available: \u001b[0m\u001b[31;49m23.3.1\u001b[0m\u001b[39;49m -> \u001b[0m\u001b[32;49m24.2\u001b[0m\n",
      "\u001b[1m[\u001b[0m\u001b[34;49mnotice\u001b[0m\u001b[1;39;49m]\u001b[0m\u001b[39;49m To update, run: \u001b[0m\u001b[32;49m/Library/Developer/CommandLineTools/usr/bin/python3 -m pip install --upgrade pip\u001b[0m\n",
      "Note: you may need to restart the kernel to use updated packages.\n",
      "Defaulting to user installation because normal site-packages is not writeable\n",
      "Requirement already satisfied: numpy in /Users/juliawilliams/Library/Python/3.9/lib/python/site-packages (1.26.1)\n",
      "\n",
      "\u001b[1m[\u001b[0m\u001b[34;49mnotice\u001b[0m\u001b[1;39;49m]\u001b[0m\u001b[39;49m A new release of pip is available: \u001b[0m\u001b[31;49m23.3.1\u001b[0m\u001b[39;49m -> \u001b[0m\u001b[32;49m24.2\u001b[0m\n",
      "\u001b[1m[\u001b[0m\u001b[34;49mnotice\u001b[0m\u001b[1;39;49m]\u001b[0m\u001b[39;49m To update, run: \u001b[0m\u001b[32;49m/Library/Developer/CommandLineTools/usr/bin/python3 -m pip install --upgrade pip\u001b[0m\n",
      "Note: you may need to restart the kernel to use updated packages.\n",
      "Defaulting to user installation because normal site-packages is not writeable\n",
      "Requirement already satisfied: pandas in /Users/juliawilliams/Library/Python/3.9/lib/python/site-packages (2.1.2)\n",
      "Requirement already satisfied: numpy<2,>=1.22.4 in /Users/juliawilliams/Library/Python/3.9/lib/python/site-packages (from pandas) (1.26.1)\n",
      "Requirement already satisfied: python-dateutil>=2.8.2 in /Users/juliawilliams/Library/Python/3.9/lib/python/site-packages (from pandas) (2.8.2)\n",
      "Requirement already satisfied: pytz>=2020.1 in /Users/juliawilliams/Library/Python/3.9/lib/python/site-packages (from pandas) (2023.3.post1)\n",
      "Requirement already satisfied: tzdata>=2022.1 in /Users/juliawilliams/Library/Python/3.9/lib/python/site-packages (from pandas) (2023.3)\n",
      "Requirement already satisfied: six>=1.5 in /Library/Developer/CommandLineTools/Library/Frameworks/Python3.framework/Versions/3.9/lib/python3.9/site-packages (from python-dateutil>=2.8.2->pandas) (1.15.0)\n",
      "\n",
      "\u001b[1m[\u001b[0m\u001b[34;49mnotice\u001b[0m\u001b[1;39;49m]\u001b[0m\u001b[39;49m A new release of pip is available: \u001b[0m\u001b[31;49m23.3.1\u001b[0m\u001b[39;49m -> \u001b[0m\u001b[32;49m24.2\u001b[0m\n",
      "\u001b[1m[\u001b[0m\u001b[34;49mnotice\u001b[0m\u001b[1;39;49m]\u001b[0m\u001b[39;49m To update, run: \u001b[0m\u001b[32;49m/Library/Developer/CommandLineTools/usr/bin/python3 -m pip install --upgrade pip\u001b[0m\n",
      "Note: you may need to restart the kernel to use updated packages.\n",
      "Defaulting to user installation because normal site-packages is not writeable\n",
      "Requirement already satisfied: pytz in /Users/juliawilliams/Library/Python/3.9/lib/python/site-packages (2023.3.post1)\n",
      "\n",
      "\u001b[1m[\u001b[0m\u001b[34;49mnotice\u001b[0m\u001b[1;39;49m]\u001b[0m\u001b[39;49m A new release of pip is available: \u001b[0m\u001b[31;49m23.3.1\u001b[0m\u001b[39;49m -> \u001b[0m\u001b[32;49m24.2\u001b[0m\n",
      "\u001b[1m[\u001b[0m\u001b[34;49mnotice\u001b[0m\u001b[1;39;49m]\u001b[0m\u001b[39;49m To update, run: \u001b[0m\u001b[32;49m/Library/Developer/CommandLineTools/usr/bin/python3 -m pip install --upgrade pip\u001b[0m\n",
      "Note: you may need to restart the kernel to use updated packages.\n",
      "Defaulting to user installation because normal site-packages is not writeable\n",
      "Requirement already satisfied: statistics in /Users/juliawilliams/Library/Python/3.9/lib/python/site-packages (1.0.3.5)\n",
      "Requirement already satisfied: docutils>=0.3 in /Users/juliawilliams/Library/Python/3.9/lib/python/site-packages (from statistics) (0.21.2)\n",
      "\n",
      "\u001b[1m[\u001b[0m\u001b[34;49mnotice\u001b[0m\u001b[1;39;49m]\u001b[0m\u001b[39;49m A new release of pip is available: \u001b[0m\u001b[31;49m23.3.1\u001b[0m\u001b[39;49m -> \u001b[0m\u001b[32;49m24.2\u001b[0m\n",
      "\u001b[1m[\u001b[0m\u001b[34;49mnotice\u001b[0m\u001b[1;39;49m]\u001b[0m\u001b[39;49m To update, run: \u001b[0m\u001b[32;49m/Library/Developer/CommandLineTools/usr/bin/python3 -m pip install --upgrade pip\u001b[0m\n",
      "Note: you may need to restart the kernel to use updated packages.\n",
      "Defaulting to user installation because normal site-packages is not writeable\n",
      "\u001b[31mERROR: Could not find a version that satisfies the requirement os (from versions: none)\u001b[0m\u001b[31m\n",
      "\u001b[0m\u001b[31mERROR: No matching distribution found for os\u001b[0m\u001b[31m\n",
      "\u001b[0m\n",
      "\u001b[1m[\u001b[0m\u001b[34;49mnotice\u001b[0m\u001b[1;39;49m]\u001b[0m\u001b[39;49m A new release of pip is available: \u001b[0m\u001b[31;49m23.3.1\u001b[0m\u001b[39;49m -> \u001b[0m\u001b[32;49m24.2\u001b[0m\n",
      "\u001b[1m[\u001b[0m\u001b[34;49mnotice\u001b[0m\u001b[1;39;49m]\u001b[0m\u001b[39;49m To update, run: \u001b[0m\u001b[32;49m/Library/Developer/CommandLineTools/usr/bin/python3 -m pip install --upgrade pip\u001b[0m\n",
      "Note: you may need to restart the kernel to use updated packages.\n",
      "Defaulting to user installation because normal site-packages is not writeable\n",
      "Requirement already satisfied: pyarrow in /Users/juliawilliams/Library/Python/3.9/lib/python/site-packages (14.0.1)\n",
      "Requirement already satisfied: numpy>=1.16.6 in /Users/juliawilliams/Library/Python/3.9/lib/python/site-packages (from pyarrow) (1.26.1)\n",
      "\n",
      "\u001b[1m[\u001b[0m\u001b[34;49mnotice\u001b[0m\u001b[1;39;49m]\u001b[0m\u001b[39;49m A new release of pip is available: \u001b[0m\u001b[31;49m23.3.1\u001b[0m\u001b[39;49m -> \u001b[0m\u001b[32;49m24.2\u001b[0m\n",
      "\u001b[1m[\u001b[0m\u001b[34;49mnotice\u001b[0m\u001b[1;39;49m]\u001b[0m\u001b[39;49m To update, run: \u001b[0m\u001b[32;49m/Library/Developer/CommandLineTools/usr/bin/python3 -m pip install --upgrade pip\u001b[0m\n",
      "Note: you may need to restart the kernel to use updated packages.\n",
      "Defaulting to user installation because normal site-packages is not writeable\n",
      "Requirement already satisfied: pandas_gbq in /Users/juliawilliams/Library/Python/3.9/lib/python/site-packages (0.19.2)\n",
      "Requirement already satisfied: setuptools in /Library/Developer/CommandLineTools/Library/Frameworks/Python3.framework/Versions/3.9/lib/python3.9/site-packages (from pandas_gbq) (58.0.4)\n",
      "Requirement already satisfied: db-dtypes<2.0.0,>=1.0.4 in /Users/juliawilliams/Library/Python/3.9/lib/python/site-packages (from pandas_gbq) (1.1.1)\n",
      "Requirement already satisfied: numpy>=1.16.6 in /Users/juliawilliams/Library/Python/3.9/lib/python/site-packages (from pandas_gbq) (1.26.1)\n",
      "Requirement already satisfied: pandas>=1.1.4 in /Users/juliawilliams/Library/Python/3.9/lib/python/site-packages (from pandas_gbq) (2.1.2)\n",
      "Requirement already satisfied: pyarrow>=3.0.0 in /Users/juliawilliams/Library/Python/3.9/lib/python/site-packages (from pandas_gbq) (14.0.1)\n",
      "Requirement already satisfied: pydata-google-auth>=1.5.0 in /Users/juliawilliams/Library/Python/3.9/lib/python/site-packages (from pandas_gbq) (1.8.2)\n",
      "Requirement already satisfied: google-api-core<3.0.0dev,>=2.10.2 in /Users/juliawilliams/Library/Python/3.9/lib/python/site-packages (from pandas_gbq) (2.12.0)\n",
      "Requirement already satisfied: google-auth>=2.13.0 in /Users/juliawilliams/Library/Python/3.9/lib/python/site-packages (from pandas_gbq) (2.23.4)\n",
      "Requirement already satisfied: google-auth-oauthlib>=0.7.0 in /Users/juliawilliams/Library/Python/3.9/lib/python/site-packages (from pandas_gbq) (1.0.0)\n",
      "Requirement already satisfied: google-cloud-bigquery!=2.4.*,<4.0.0dev,>=3.3.5 in /Users/juliawilliams/Library/Python/3.9/lib/python/site-packages (from pandas_gbq) (3.13.0)\n",
      "Requirement already satisfied: google-cloud-bigquery-storage<3.0.0dev,>=2.16.2 in /Users/juliawilliams/Library/Python/3.9/lib/python/site-packages (from pandas_gbq) (2.23.0)\n",
      "Requirement already satisfied: packaging>=17.0 in /Users/juliawilliams/Library/Python/3.9/lib/python/site-packages (from db-dtypes<2.0.0,>=1.0.4->pandas_gbq) (23.2)\n",
      "Requirement already satisfied: googleapis-common-protos<2.0.dev0,>=1.56.2 in /Users/juliawilliams/Library/Python/3.9/lib/python/site-packages (from google-api-core<3.0.0dev,>=2.10.2->pandas_gbq) (1.61.0)\n",
      "Requirement already satisfied: protobuf!=3.20.0,!=3.20.1,!=4.21.0,!=4.21.1,!=4.21.2,!=4.21.3,!=4.21.4,!=4.21.5,<5.0.0.dev0,>=3.19.5 in /Users/juliawilliams/Library/Python/3.9/lib/python/site-packages (from google-api-core<3.0.0dev,>=2.10.2->pandas_gbq) (4.25.0)\n",
      "Requirement already satisfied: requests<3.0.0.dev0,>=2.18.0 in /Users/juliawilliams/Library/Python/3.9/lib/python/site-packages (from google-api-core<3.0.0dev,>=2.10.2->pandas_gbq) (2.31.0)\n",
      "Requirement already satisfied: cachetools<6.0,>=2.0.0 in /Users/juliawilliams/Library/Python/3.9/lib/python/site-packages (from google-auth>=2.13.0->pandas_gbq) (5.3.2)\n",
      "Requirement already satisfied: pyasn1-modules>=0.2.1 in /Users/juliawilliams/Library/Python/3.9/lib/python/site-packages (from google-auth>=2.13.0->pandas_gbq) (0.3.0)\n",
      "Requirement already satisfied: rsa<5,>=3.1.4 in /Users/juliawilliams/Library/Python/3.9/lib/python/site-packages (from google-auth>=2.13.0->pandas_gbq) (4.9)\n",
      "Requirement already satisfied: requests-oauthlib>=0.7.0 in /Users/juliawilliams/Library/Python/3.9/lib/python/site-packages (from google-auth-oauthlib>=0.7.0->pandas_gbq) (1.3.1)\n",
      "Requirement already satisfied: grpcio<2.0dev,>=1.47.0 in /Users/juliawilliams/Library/Python/3.9/lib/python/site-packages (from google-cloud-bigquery!=2.4.*,<4.0.0dev,>=3.3.5->pandas_gbq) (1.59.2)\n",
      "Requirement already satisfied: proto-plus<2.0.0dev,>=1.15.0 in /Users/juliawilliams/Library/Python/3.9/lib/python/site-packages (from google-cloud-bigquery!=2.4.*,<4.0.0dev,>=3.3.5->pandas_gbq) (1.22.3)\n",
      "Requirement already satisfied: google-cloud-core<3.0.0dev,>=1.6.0 in /Users/juliawilliams/Library/Python/3.9/lib/python/site-packages (from google-cloud-bigquery!=2.4.*,<4.0.0dev,>=3.3.5->pandas_gbq) (2.3.3)\n",
      "Requirement already satisfied: google-resumable-media<3.0dev,>=0.6.0 in /Users/juliawilliams/Library/Python/3.9/lib/python/site-packages (from google-cloud-bigquery!=2.4.*,<4.0.0dev,>=3.3.5->pandas_gbq) (2.6.0)\n",
      "Requirement already satisfied: python-dateutil<3.0dev,>=2.7.2 in /Users/juliawilliams/Library/Python/3.9/lib/python/site-packages (from google-cloud-bigquery!=2.4.*,<4.0.0dev,>=3.3.5->pandas_gbq) (2.8.2)\n",
      "Requirement already satisfied: pytz>=2020.1 in /Users/juliawilliams/Library/Python/3.9/lib/python/site-packages (from pandas>=1.1.4->pandas_gbq) (2023.3.post1)\n",
      "Requirement already satisfied: tzdata>=2022.1 in /Users/juliawilliams/Library/Python/3.9/lib/python/site-packages (from pandas>=1.1.4->pandas_gbq) (2023.3)\n",
      "Requirement already satisfied: grpcio-status<2.0.dev0,>=1.33.2 in /Users/juliawilliams/Library/Python/3.9/lib/python/site-packages (from google-api-core[grpc]!=2.0.*,!=2.1.*,!=2.2.*,!=2.3.0,<3.0.0dev,>=1.31.5->google-cloud-bigquery!=2.4.*,<4.0.0dev,>=3.3.5->pandas_gbq) (1.59.2)\n",
      "Requirement already satisfied: google-crc32c<2.0dev,>=1.0 in /Users/juliawilliams/Library/Python/3.9/lib/python/site-packages (from google-resumable-media<3.0dev,>=0.6.0->google-cloud-bigquery!=2.4.*,<4.0.0dev,>=3.3.5->pandas_gbq) (1.5.0)\n",
      "Requirement already satisfied: pyasn1<0.6.0,>=0.4.6 in /Users/juliawilliams/Library/Python/3.9/lib/python/site-packages (from pyasn1-modules>=0.2.1->google-auth>=2.13.0->pandas_gbq) (0.5.0)\n",
      "Requirement already satisfied: six>=1.5 in /Library/Developer/CommandLineTools/Library/Frameworks/Python3.framework/Versions/3.9/lib/python3.9/site-packages (from python-dateutil<3.0dev,>=2.7.2->google-cloud-bigquery!=2.4.*,<4.0.0dev,>=3.3.5->pandas_gbq) (1.15.0)\n",
      "Requirement already satisfied: charset-normalizer<4,>=2 in /Users/juliawilliams/Library/Python/3.9/lib/python/site-packages (from requests<3.0.0.dev0,>=2.18.0->google-api-core<3.0.0dev,>=2.10.2->pandas_gbq) (3.3.2)\n",
      "Requirement already satisfied: idna<4,>=2.5 in /Users/juliawilliams/Library/Python/3.9/lib/python/site-packages (from requests<3.0.0.dev0,>=2.18.0->google-api-core<3.0.0dev,>=2.10.2->pandas_gbq) (3.4)\n",
      "Requirement already satisfied: urllib3<3,>=1.21.1 in /Users/juliawilliams/Library/Python/3.9/lib/python/site-packages (from requests<3.0.0.dev0,>=2.18.0->google-api-core<3.0.0dev,>=2.10.2->pandas_gbq) (2.0.7)\n",
      "Requirement already satisfied: certifi>=2017.4.17 in /Users/juliawilliams/Library/Python/3.9/lib/python/site-packages (from requests<3.0.0.dev0,>=2.18.0->google-api-core<3.0.0dev,>=2.10.2->pandas_gbq) (2023.7.22)\n",
      "Requirement already satisfied: oauthlib>=3.0.0 in /Users/juliawilliams/Library/Python/3.9/lib/python/site-packages (from requests-oauthlib>=0.7.0->google-auth-oauthlib>=0.7.0->pandas_gbq) (3.2.2)\n",
      "\n",
      "\u001b[1m[\u001b[0m\u001b[34;49mnotice\u001b[0m\u001b[1;39;49m]\u001b[0m\u001b[39;49m A new release of pip is available: \u001b[0m\u001b[31;49m23.3.1\u001b[0m\u001b[39;49m -> \u001b[0m\u001b[32;49m24.2\u001b[0m\n",
      "\u001b[1m[\u001b[0m\u001b[34;49mnotice\u001b[0m\u001b[1;39;49m]\u001b[0m\u001b[39;49m To update, run: \u001b[0m\u001b[32;49m/Library/Developer/CommandLineTools/usr/bin/python3 -m pip install --upgrade pip\u001b[0m\n",
      "Note: you may need to restart the kernel to use updated packages.\n",
      "Defaulting to user installation because normal site-packages is not writeable\n",
      "Requirement already satisfied: statsmodels in /Users/juliawilliams/Library/Python/3.9/lib/python/site-packages (0.14.0)\n",
      "Requirement already satisfied: numpy>=1.18 in /Users/juliawilliams/Library/Python/3.9/lib/python/site-packages (from statsmodels) (1.26.1)\n",
      "Requirement already satisfied: scipy!=1.9.2,>=1.4 in /Users/juliawilliams/Library/Python/3.9/lib/python/site-packages (from statsmodels) (1.11.4)\n",
      "Requirement already satisfied: pandas>=1.0 in /Users/juliawilliams/Library/Python/3.9/lib/python/site-packages (from statsmodels) (2.1.2)\n",
      "Requirement already satisfied: patsy>=0.5.2 in /Users/juliawilliams/Library/Python/3.9/lib/python/site-packages (from statsmodels) (0.5.4)\n",
      "Requirement already satisfied: packaging>=21.3 in /Users/juliawilliams/Library/Python/3.9/lib/python/site-packages (from statsmodels) (23.2)\n",
      "Requirement already satisfied: python-dateutil>=2.8.2 in /Users/juliawilliams/Library/Python/3.9/lib/python/site-packages (from pandas>=1.0->statsmodels) (2.8.2)\n",
      "Requirement already satisfied: pytz>=2020.1 in /Users/juliawilliams/Library/Python/3.9/lib/python/site-packages (from pandas>=1.0->statsmodels) (2023.3.post1)\n",
      "Requirement already satisfied: tzdata>=2022.1 in /Users/juliawilliams/Library/Python/3.9/lib/python/site-packages (from pandas>=1.0->statsmodels) (2023.3)\n",
      "Requirement already satisfied: six in /Library/Developer/CommandLineTools/Library/Frameworks/Python3.framework/Versions/3.9/lib/python3.9/site-packages (from patsy>=0.5.2->statsmodels) (1.15.0)\n",
      "\n",
      "\u001b[1m[\u001b[0m\u001b[34;49mnotice\u001b[0m\u001b[1;39;49m]\u001b[0m\u001b[39;49m A new release of pip is available: \u001b[0m\u001b[31;49m23.3.1\u001b[0m\u001b[39;49m -> \u001b[0m\u001b[32;49m24.2\u001b[0m\n",
      "\u001b[1m[\u001b[0m\u001b[34;49mnotice\u001b[0m\u001b[1;39;49m]\u001b[0m\u001b[39;49m To update, run: \u001b[0m\u001b[32;49m/Library/Developer/CommandLineTools/usr/bin/python3 -m pip install --upgrade pip\u001b[0m\n",
      "Note: you may need to restart the kernel to use updated packages.\n",
      "Defaulting to user installation because normal site-packages is not writeable\n",
      "Requirement already satisfied: tensorflow in /Users/juliawilliams/Library/Python/3.9/lib/python/site-packages (2.14.0)\n",
      "Requirement already satisfied: tensorflow-macos==2.14.0 in /Users/juliawilliams/Library/Python/3.9/lib/python/site-packages (from tensorflow) (2.14.0)\n",
      "Requirement already satisfied: absl-py>=1.0.0 in /Users/juliawilliams/Library/Python/3.9/lib/python/site-packages (from tensorflow-macos==2.14.0->tensorflow) (2.0.0)\n",
      "Requirement already satisfied: astunparse>=1.6.0 in /Users/juliawilliams/Library/Python/3.9/lib/python/site-packages (from tensorflow-macos==2.14.0->tensorflow) (1.6.3)\n",
      "Requirement already satisfied: flatbuffers>=23.5.26 in /Users/juliawilliams/Library/Python/3.9/lib/python/site-packages (from tensorflow-macos==2.14.0->tensorflow) (23.5.26)\n",
      "Requirement already satisfied: gast!=0.5.0,!=0.5.1,!=0.5.2,>=0.2.1 in /Users/juliawilliams/Library/Python/3.9/lib/python/site-packages (from tensorflow-macos==2.14.0->tensorflow) (0.5.4)\n",
      "Requirement already satisfied: google-pasta>=0.1.1 in /Users/juliawilliams/Library/Python/3.9/lib/python/site-packages (from tensorflow-macos==2.14.0->tensorflow) (0.2.0)\n",
      "Requirement already satisfied: h5py>=2.9.0 in /Users/juliawilliams/Library/Python/3.9/lib/python/site-packages (from tensorflow-macos==2.14.0->tensorflow) (3.10.0)\n",
      "Requirement already satisfied: libclang>=13.0.0 in /Users/juliawilliams/Library/Python/3.9/lib/python/site-packages (from tensorflow-macos==2.14.0->tensorflow) (16.0.6)\n",
      "Requirement already satisfied: ml-dtypes==0.2.0 in /Users/juliawilliams/Library/Python/3.9/lib/python/site-packages (from tensorflow-macos==2.14.0->tensorflow) (0.2.0)\n",
      "Requirement already satisfied: numpy>=1.23.5 in /Users/juliawilliams/Library/Python/3.9/lib/python/site-packages (from tensorflow-macos==2.14.0->tensorflow) (1.26.1)\n",
      "Requirement already satisfied: opt-einsum>=2.3.2 in /Users/juliawilliams/Library/Python/3.9/lib/python/site-packages (from tensorflow-macos==2.14.0->tensorflow) (3.3.0)\n",
      "Requirement already satisfied: packaging in /Users/juliawilliams/Library/Python/3.9/lib/python/site-packages (from tensorflow-macos==2.14.0->tensorflow) (23.2)\n",
      "Requirement already satisfied: protobuf!=4.21.0,!=4.21.1,!=4.21.2,!=4.21.3,!=4.21.4,!=4.21.5,<5.0.0dev,>=3.20.3 in /Users/juliawilliams/Library/Python/3.9/lib/python/site-packages (from tensorflow-macos==2.14.0->tensorflow) (4.25.0)\n",
      "Requirement already satisfied: setuptools in /Library/Developer/CommandLineTools/Library/Frameworks/Python3.framework/Versions/3.9/lib/python3.9/site-packages (from tensorflow-macos==2.14.0->tensorflow) (58.0.4)\n",
      "Requirement already satisfied: six>=1.12.0 in /Library/Developer/CommandLineTools/Library/Frameworks/Python3.framework/Versions/3.9/lib/python3.9/site-packages (from tensorflow-macos==2.14.0->tensorflow) (1.15.0)\n",
      "Requirement already satisfied: termcolor>=1.1.0 in /Users/juliawilliams/Library/Python/3.9/lib/python/site-packages (from tensorflow-macos==2.14.0->tensorflow) (2.3.0)\n",
      "Requirement already satisfied: typing-extensions>=3.6.6 in /Users/juliawilliams/Library/Python/3.9/lib/python/site-packages (from tensorflow-macos==2.14.0->tensorflow) (4.8.0)\n",
      "Requirement already satisfied: wrapt<1.15,>=1.11.0 in /Users/juliawilliams/Library/Python/3.9/lib/python/site-packages (from tensorflow-macos==2.14.0->tensorflow) (1.14.1)\n",
      "Requirement already satisfied: tensorflow-io-gcs-filesystem>=0.23.1 in /Users/juliawilliams/Library/Python/3.9/lib/python/site-packages (from tensorflow-macos==2.14.0->tensorflow) (0.34.0)\n",
      "Requirement already satisfied: grpcio<2.0,>=1.24.3 in /Users/juliawilliams/Library/Python/3.9/lib/python/site-packages (from tensorflow-macos==2.14.0->tensorflow) (1.59.2)\n",
      "Requirement already satisfied: tensorboard<2.15,>=2.14 in /Users/juliawilliams/Library/Python/3.9/lib/python/site-packages (from tensorflow-macos==2.14.0->tensorflow) (2.14.1)\n",
      "Requirement already satisfied: tensorflow-estimator<2.15,>=2.14.0 in /Users/juliawilliams/Library/Python/3.9/lib/python/site-packages (from tensorflow-macos==2.14.0->tensorflow) (2.14.0)\n",
      "Requirement already satisfied: keras<2.15,>=2.14.0 in /Users/juliawilliams/Library/Python/3.9/lib/python/site-packages (from tensorflow-macos==2.14.0->tensorflow) (2.14.0)\n",
      "Requirement already satisfied: wheel<1.0,>=0.23.0 in /Library/Developer/CommandLineTools/Library/Frameworks/Python3.framework/Versions/3.9/lib/python3.9/site-packages (from astunparse>=1.6.0->tensorflow-macos==2.14.0->tensorflow) (0.37.0)\n",
      "Requirement already satisfied: google-auth<3,>=1.6.3 in /Users/juliawilliams/Library/Python/3.9/lib/python/site-packages (from tensorboard<2.15,>=2.14->tensorflow-macos==2.14.0->tensorflow) (2.23.4)\n",
      "Requirement already satisfied: google-auth-oauthlib<1.1,>=0.5 in /Users/juliawilliams/Library/Python/3.9/lib/python/site-packages (from tensorboard<2.15,>=2.14->tensorflow-macos==2.14.0->tensorflow) (1.0.0)\n",
      "Requirement already satisfied: markdown>=2.6.8 in /Users/juliawilliams/Library/Python/3.9/lib/python/site-packages (from tensorboard<2.15,>=2.14->tensorflow-macos==2.14.0->tensorflow) (3.5.1)\n",
      "Requirement already satisfied: requests<3,>=2.21.0 in /Users/juliawilliams/Library/Python/3.9/lib/python/site-packages (from tensorboard<2.15,>=2.14->tensorflow-macos==2.14.0->tensorflow) (2.31.0)\n",
      "Requirement already satisfied: tensorboard-data-server<0.8.0,>=0.7.0 in /Users/juliawilliams/Library/Python/3.9/lib/python/site-packages (from tensorboard<2.15,>=2.14->tensorflow-macos==2.14.0->tensorflow) (0.7.2)\n",
      "Requirement already satisfied: werkzeug>=1.0.1 in /Users/juliawilliams/Library/Python/3.9/lib/python/site-packages (from tensorboard<2.15,>=2.14->tensorflow-macos==2.14.0->tensorflow) (3.0.1)\n",
      "Requirement already satisfied: cachetools<6.0,>=2.0.0 in /Users/juliawilliams/Library/Python/3.9/lib/python/site-packages (from google-auth<3,>=1.6.3->tensorboard<2.15,>=2.14->tensorflow-macos==2.14.0->tensorflow) (5.3.2)\n",
      "Requirement already satisfied: pyasn1-modules>=0.2.1 in /Users/juliawilliams/Library/Python/3.9/lib/python/site-packages (from google-auth<3,>=1.6.3->tensorboard<2.15,>=2.14->tensorflow-macos==2.14.0->tensorflow) (0.3.0)\n",
      "Requirement already satisfied: rsa<5,>=3.1.4 in /Users/juliawilliams/Library/Python/3.9/lib/python/site-packages (from google-auth<3,>=1.6.3->tensorboard<2.15,>=2.14->tensorflow-macos==2.14.0->tensorflow) (4.9)\n",
      "Requirement already satisfied: requests-oauthlib>=0.7.0 in /Users/juliawilliams/Library/Python/3.9/lib/python/site-packages (from google-auth-oauthlib<1.1,>=0.5->tensorboard<2.15,>=2.14->tensorflow-macos==2.14.0->tensorflow) (1.3.1)\n",
      "Requirement already satisfied: importlib-metadata>=4.4 in /Users/juliawilliams/Library/Python/3.9/lib/python/site-packages (from markdown>=2.6.8->tensorboard<2.15,>=2.14->tensorflow-macos==2.14.0->tensorflow) (6.8.0)\n",
      "Requirement already satisfied: charset-normalizer<4,>=2 in /Users/juliawilliams/Library/Python/3.9/lib/python/site-packages (from requests<3,>=2.21.0->tensorboard<2.15,>=2.14->tensorflow-macos==2.14.0->tensorflow) (3.3.2)\n",
      "Requirement already satisfied: idna<4,>=2.5 in /Users/juliawilliams/Library/Python/3.9/lib/python/site-packages (from requests<3,>=2.21.0->tensorboard<2.15,>=2.14->tensorflow-macos==2.14.0->tensorflow) (3.4)\n",
      "Requirement already satisfied: urllib3<3,>=1.21.1 in /Users/juliawilliams/Library/Python/3.9/lib/python/site-packages (from requests<3,>=2.21.0->tensorboard<2.15,>=2.14->tensorflow-macos==2.14.0->tensorflow) (2.0.7)\n",
      "Requirement already satisfied: certifi>=2017.4.17 in /Users/juliawilliams/Library/Python/3.9/lib/python/site-packages (from requests<3,>=2.21.0->tensorboard<2.15,>=2.14->tensorflow-macos==2.14.0->tensorflow) (2023.7.22)\n",
      "Requirement already satisfied: MarkupSafe>=2.1.1 in /Users/juliawilliams/Library/Python/3.9/lib/python/site-packages (from werkzeug>=1.0.1->tensorboard<2.15,>=2.14->tensorflow-macos==2.14.0->tensorflow) (2.1.3)\n",
      "Requirement already satisfied: zipp>=0.5 in /Users/juliawilliams/Library/Python/3.9/lib/python/site-packages (from importlib-metadata>=4.4->markdown>=2.6.8->tensorboard<2.15,>=2.14->tensorflow-macos==2.14.0->tensorflow) (3.17.0)\n",
      "Requirement already satisfied: pyasn1<0.6.0,>=0.4.6 in /Users/juliawilliams/Library/Python/3.9/lib/python/site-packages (from pyasn1-modules>=0.2.1->google-auth<3,>=1.6.3->tensorboard<2.15,>=2.14->tensorflow-macos==2.14.0->tensorflow) (0.5.0)\n",
      "Requirement already satisfied: oauthlib>=3.0.0 in /Users/juliawilliams/Library/Python/3.9/lib/python/site-packages (from requests-oauthlib>=0.7.0->google-auth-oauthlib<1.1,>=0.5->tensorboard<2.15,>=2.14->tensorflow-macos==2.14.0->tensorflow) (3.2.2)\n",
      "\n",
      "\u001b[1m[\u001b[0m\u001b[34;49mnotice\u001b[0m\u001b[1;39;49m]\u001b[0m\u001b[39;49m A new release of pip is available: \u001b[0m\u001b[31;49m23.3.1\u001b[0m\u001b[39;49m -> \u001b[0m\u001b[32;49m24.2\u001b[0m\n",
      "\u001b[1m[\u001b[0m\u001b[34;49mnotice\u001b[0m\u001b[1;39;49m]\u001b[0m\u001b[39;49m To update, run: \u001b[0m\u001b[32;49m/Library/Developer/CommandLineTools/usr/bin/python3 -m pip install --upgrade pip\u001b[0m\n",
      "Note: you may need to restart the kernel to use updated packages.\n",
      "Defaulting to user installation because normal site-packages is not writeable\n",
      "Requirement already satisfied: prophet in /Users/juliawilliams/Library/Python/3.9/lib/python/site-packages (1.1.5)\n",
      "Requirement already satisfied: cmdstanpy>=1.0.4 in /Users/juliawilliams/Library/Python/3.9/lib/python/site-packages (from prophet) (1.2.4)\n",
      "Requirement already satisfied: numpy>=1.15.4 in /Users/juliawilliams/Library/Python/3.9/lib/python/site-packages (from prophet) (1.26.1)\n",
      "Requirement already satisfied: matplotlib>=2.0.0 in /Users/juliawilliams/Library/Python/3.9/lib/python/site-packages (from prophet) (3.8.1)\n",
      "Requirement already satisfied: pandas>=1.0.4 in /Users/juliawilliams/Library/Python/3.9/lib/python/site-packages (from prophet) (2.1.2)\n",
      "Requirement already satisfied: holidays>=0.25 in /Users/juliawilliams/Library/Python/3.9/lib/python/site-packages (from prophet) (0.55)\n",
      "Requirement already satisfied: tqdm>=4.36.1 in /Users/juliawilliams/Library/Python/3.9/lib/python/site-packages (from prophet) (4.66.5)\n",
      "Requirement already satisfied: importlib-resources in /Users/juliawilliams/Library/Python/3.9/lib/python/site-packages (from prophet) (6.1.0)\n",
      "Requirement already satisfied: stanio<2.0.0,>=0.4.0 in /Users/juliawilliams/Library/Python/3.9/lib/python/site-packages (from cmdstanpy>=1.0.4->prophet) (0.5.1)\n",
      "Requirement already satisfied: python-dateutil in /Users/juliawilliams/Library/Python/3.9/lib/python/site-packages (from holidays>=0.25->prophet) (2.8.2)\n",
      "Requirement already satisfied: contourpy>=1.0.1 in /Users/juliawilliams/Library/Python/3.9/lib/python/site-packages (from matplotlib>=2.0.0->prophet) (1.2.0)\n",
      "Requirement already satisfied: cycler>=0.10 in /Users/juliawilliams/Library/Python/3.9/lib/python/site-packages (from matplotlib>=2.0.0->prophet) (0.12.1)\n",
      "Requirement already satisfied: fonttools>=4.22.0 in /Users/juliawilliams/Library/Python/3.9/lib/python/site-packages (from matplotlib>=2.0.0->prophet) (4.44.0)\n",
      "Requirement already satisfied: kiwisolver>=1.3.1 in /Users/juliawilliams/Library/Python/3.9/lib/python/site-packages (from matplotlib>=2.0.0->prophet) (1.4.5)\n",
      "Requirement already satisfied: packaging>=20.0 in /Users/juliawilliams/Library/Python/3.9/lib/python/site-packages (from matplotlib>=2.0.0->prophet) (23.2)\n",
      "Requirement already satisfied: pillow>=8 in /Users/juliawilliams/Library/Python/3.9/lib/python/site-packages (from matplotlib>=2.0.0->prophet) (10.1.0)\n",
      "Requirement already satisfied: pyparsing>=2.3.1 in /Users/juliawilliams/Library/Python/3.9/lib/python/site-packages (from matplotlib>=2.0.0->prophet) (3.1.1)\n",
      "Requirement already satisfied: zipp>=3.1.0 in /Users/juliawilliams/Library/Python/3.9/lib/python/site-packages (from importlib-resources->prophet) (3.17.0)\n",
      "Requirement already satisfied: pytz>=2020.1 in /Users/juliawilliams/Library/Python/3.9/lib/python/site-packages (from pandas>=1.0.4->prophet) (2023.3.post1)\n",
      "Requirement already satisfied: tzdata>=2022.1 in /Users/juliawilliams/Library/Python/3.9/lib/python/site-packages (from pandas>=1.0.4->prophet) (2023.3)\n",
      "Requirement already satisfied: six>=1.5 in /Library/Developer/CommandLineTools/Library/Frameworks/Python3.framework/Versions/3.9/lib/python3.9/site-packages (from python-dateutil->holidays>=0.25->prophet) (1.15.0)\n",
      "\n",
      "\u001b[1m[\u001b[0m\u001b[34;49mnotice\u001b[0m\u001b[1;39;49m]\u001b[0m\u001b[39;49m A new release of pip is available: \u001b[0m\u001b[31;49m23.3.1\u001b[0m\u001b[39;49m -> \u001b[0m\u001b[32;49m24.2\u001b[0m\n",
      "\u001b[1m[\u001b[0m\u001b[34;49mnotice\u001b[0m\u001b[1;39;49m]\u001b[0m\u001b[39;49m To update, run: \u001b[0m\u001b[32;49m/Library/Developer/CommandLineTools/usr/bin/python3 -m pip install --upgrade pip\u001b[0m\n",
      "Note: you may need to restart the kernel to use updated packages.\n",
      "Defaulting to user installation because normal site-packages is not writeable\n",
      "Requirement already satisfied: plotly in /Users/juliawilliams/Library/Python/3.9/lib/python/site-packages (5.23.0)\n",
      "Requirement already satisfied: tenacity>=6.2.0 in /Users/juliawilliams/Library/Python/3.9/lib/python/site-packages (from plotly) (9.0.0)\n",
      "Requirement already satisfied: packaging in /Users/juliawilliams/Library/Python/3.9/lib/python/site-packages (from plotly) (23.2)\n",
      "\n",
      "\u001b[1m[\u001b[0m\u001b[34;49mnotice\u001b[0m\u001b[1;39;49m]\u001b[0m\u001b[39;49m A new release of pip is available: \u001b[0m\u001b[31;49m23.3.1\u001b[0m\u001b[39;49m -> \u001b[0m\u001b[32;49m24.2\u001b[0m\n",
      "\u001b[1m[\u001b[0m\u001b[34;49mnotice\u001b[0m\u001b[1;39;49m]\u001b[0m\u001b[39;49m To update, run: \u001b[0m\u001b[32;49m/Library/Developer/CommandLineTools/usr/bin/python3 -m pip install --upgrade pip\u001b[0m\n",
      "Note: you may need to restart the kernel to use updated packages.\n",
      "Defaulting to user installation because normal site-packages is not writeable\n",
      "Requirement already satisfied: statsmodels in /Users/juliawilliams/Library/Python/3.9/lib/python/site-packages (0.14.0)\n",
      "Requirement already satisfied: numpy>=1.18 in /Users/juliawilliams/Library/Python/3.9/lib/python/site-packages (from statsmodels) (1.26.1)\n",
      "Requirement already satisfied: scipy!=1.9.2,>=1.4 in /Users/juliawilliams/Library/Python/3.9/lib/python/site-packages (from statsmodels) (1.11.4)\n",
      "Requirement already satisfied: pandas>=1.0 in /Users/juliawilliams/Library/Python/3.9/lib/python/site-packages (from statsmodels) (2.1.2)\n",
      "Requirement already satisfied: patsy>=0.5.2 in /Users/juliawilliams/Library/Python/3.9/lib/python/site-packages (from statsmodels) (0.5.4)\n",
      "Requirement already satisfied: packaging>=21.3 in /Users/juliawilliams/Library/Python/3.9/lib/python/site-packages (from statsmodels) (23.2)\n",
      "Requirement already satisfied: python-dateutil>=2.8.2 in /Users/juliawilliams/Library/Python/3.9/lib/python/site-packages (from pandas>=1.0->statsmodels) (2.8.2)\n",
      "Requirement already satisfied: pytz>=2020.1 in /Users/juliawilliams/Library/Python/3.9/lib/python/site-packages (from pandas>=1.0->statsmodels) (2023.3.post1)\n",
      "Requirement already satisfied: tzdata>=2022.1 in /Users/juliawilliams/Library/Python/3.9/lib/python/site-packages (from pandas>=1.0->statsmodels) (2023.3)\n",
      "Requirement already satisfied: six in /Library/Developer/CommandLineTools/Library/Frameworks/Python3.framework/Versions/3.9/lib/python3.9/site-packages (from patsy>=0.5.2->statsmodels) (1.15.0)\n",
      "\n",
      "\u001b[1m[\u001b[0m\u001b[34;49mnotice\u001b[0m\u001b[1;39;49m]\u001b[0m\u001b[39;49m A new release of pip is available: \u001b[0m\u001b[31;49m23.3.1\u001b[0m\u001b[39;49m -> \u001b[0m\u001b[32;49m24.2\u001b[0m\n",
      "\u001b[1m[\u001b[0m\u001b[34;49mnotice\u001b[0m\u001b[1;39;49m]\u001b[0m\u001b[39;49m To update, run: \u001b[0m\u001b[32;49m/Library/Developer/CommandLineTools/usr/bin/python3 -m pip install --upgrade pip\u001b[0m\n",
      "Note: you may need to restart the kernel to use updated packages.\n",
      "Defaulting to user installation because normal site-packages is not writeable\n",
      "Requirement already satisfied: scikit-learn in /Users/juliawilliams/Library/Python/3.9/lib/python/site-packages (1.5.1)\n",
      "Requirement already satisfied: numpy>=1.19.5 in /Users/juliawilliams/Library/Python/3.9/lib/python/site-packages (from scikit-learn) (1.26.1)\n",
      "Requirement already satisfied: scipy>=1.6.0 in /Users/juliawilliams/Library/Python/3.9/lib/python/site-packages (from scikit-learn) (1.11.4)\n",
      "Requirement already satisfied: joblib>=1.2.0 in /Users/juliawilliams/Library/Python/3.9/lib/python/site-packages (from scikit-learn) (1.4.2)\n",
      "Requirement already satisfied: threadpoolctl>=3.1.0 in /Users/juliawilliams/Library/Python/3.9/lib/python/site-packages (from scikit-learn) (3.5.0)\n",
      "\n",
      "\u001b[1m[\u001b[0m\u001b[34;49mnotice\u001b[0m\u001b[1;39;49m]\u001b[0m\u001b[39;49m A new release of pip is available: \u001b[0m\u001b[31;49m23.3.1\u001b[0m\u001b[39;49m -> \u001b[0m\u001b[32;49m24.2\u001b[0m\n",
      "\u001b[1m[\u001b[0m\u001b[34;49mnotice\u001b[0m\u001b[1;39;49m]\u001b[0m\u001b[39;49m To update, run: \u001b[0m\u001b[32;49m/Library/Developer/CommandLineTools/usr/bin/python3 -m pip install --upgrade pip\u001b[0m\n",
      "Note: you may need to restart the kernel to use updated packages.\n",
      "Defaulting to user installation because normal site-packages is not writeable\n",
      "Requirement already satisfied: pmdarima in /Users/juliawilliams/Library/Python/3.9/lib/python/site-packages (2.0.4)\n",
      "Requirement already satisfied: joblib>=0.11 in /Users/juliawilliams/Library/Python/3.9/lib/python/site-packages (from pmdarima) (1.4.2)\n",
      "Requirement already satisfied: Cython!=0.29.18,!=0.29.31,>=0.29 in /Users/juliawilliams/Library/Python/3.9/lib/python/site-packages (from pmdarima) (3.0.11)\n",
      "Requirement already satisfied: numpy>=1.21.2 in /Users/juliawilliams/Library/Python/3.9/lib/python/site-packages (from pmdarima) (1.26.1)\n",
      "Requirement already satisfied: pandas>=0.19 in /Users/juliawilliams/Library/Python/3.9/lib/python/site-packages (from pmdarima) (2.1.2)\n",
      "Requirement already satisfied: scikit-learn>=0.22 in /Users/juliawilliams/Library/Python/3.9/lib/python/site-packages (from pmdarima) (1.5.1)\n",
      "Requirement already satisfied: scipy>=1.3.2 in /Users/juliawilliams/Library/Python/3.9/lib/python/site-packages (from pmdarima) (1.11.4)\n",
      "Requirement already satisfied: statsmodels>=0.13.2 in /Users/juliawilliams/Library/Python/3.9/lib/python/site-packages (from pmdarima) (0.14.0)\n",
      "Requirement already satisfied: urllib3 in /Users/juliawilliams/Library/Python/3.9/lib/python/site-packages (from pmdarima) (2.0.7)\n",
      "Requirement already satisfied: setuptools!=50.0.0,>=38.6.0 in /Library/Developer/CommandLineTools/Library/Frameworks/Python3.framework/Versions/3.9/lib/python3.9/site-packages (from pmdarima) (58.0.4)\n",
      "Requirement already satisfied: packaging>=17.1 in /Users/juliawilliams/Library/Python/3.9/lib/python/site-packages (from pmdarima) (23.2)\n",
      "Requirement already satisfied: python-dateutil>=2.8.2 in /Users/juliawilliams/Library/Python/3.9/lib/python/site-packages (from pandas>=0.19->pmdarima) (2.8.2)\n",
      "Requirement already satisfied: pytz>=2020.1 in /Users/juliawilliams/Library/Python/3.9/lib/python/site-packages (from pandas>=0.19->pmdarima) (2023.3.post1)\n",
      "Requirement already satisfied: tzdata>=2022.1 in /Users/juliawilliams/Library/Python/3.9/lib/python/site-packages (from pandas>=0.19->pmdarima) (2023.3)\n",
      "Requirement already satisfied: threadpoolctl>=3.1.0 in /Users/juliawilliams/Library/Python/3.9/lib/python/site-packages (from scikit-learn>=0.22->pmdarima) (3.5.0)\n",
      "Requirement already satisfied: patsy>=0.5.2 in /Users/juliawilliams/Library/Python/3.9/lib/python/site-packages (from statsmodels>=0.13.2->pmdarima) (0.5.4)\n",
      "Requirement already satisfied: six in /Library/Developer/CommandLineTools/Library/Frameworks/Python3.framework/Versions/3.9/lib/python3.9/site-packages (from patsy>=0.5.2->statsmodels>=0.13.2->pmdarima) (1.15.0)\n",
      "\n",
      "\u001b[1m[\u001b[0m\u001b[34;49mnotice\u001b[0m\u001b[1;39;49m]\u001b[0m\u001b[39;49m A new release of pip is available: \u001b[0m\u001b[31;49m23.3.1\u001b[0m\u001b[39;49m -> \u001b[0m\u001b[32;49m24.2\u001b[0m\n",
      "\u001b[1m[\u001b[0m\u001b[34;49mnotice\u001b[0m\u001b[1;39;49m]\u001b[0m\u001b[39;49m To update, run: \u001b[0m\u001b[32;49m/Library/Developer/CommandLineTools/usr/bin/python3 -m pip install --upgrade pip\u001b[0m\n",
      "Note: you may need to restart the kernel to use updated packages.\n",
      "Defaulting to user installation because normal site-packages is not writeable\n",
      "Requirement already satisfied: prophet in /Users/juliawilliams/Library/Python/3.9/lib/python/site-packages (1.1.5)\n",
      "Requirement already satisfied: cmdstanpy>=1.0.4 in /Users/juliawilliams/Library/Python/3.9/lib/python/site-packages (from prophet) (1.2.4)\n",
      "Requirement already satisfied: numpy>=1.15.4 in /Users/juliawilliams/Library/Python/3.9/lib/python/site-packages (from prophet) (1.26.1)\n",
      "Requirement already satisfied: matplotlib>=2.0.0 in /Users/juliawilliams/Library/Python/3.9/lib/python/site-packages (from prophet) (3.8.1)\n",
      "Requirement already satisfied: pandas>=1.0.4 in /Users/juliawilliams/Library/Python/3.9/lib/python/site-packages (from prophet) (2.1.2)\n",
      "Requirement already satisfied: holidays>=0.25 in /Users/juliawilliams/Library/Python/3.9/lib/python/site-packages (from prophet) (0.55)\n",
      "Requirement already satisfied: tqdm>=4.36.1 in /Users/juliawilliams/Library/Python/3.9/lib/python/site-packages (from prophet) (4.66.5)\n",
      "Requirement already satisfied: importlib-resources in /Users/juliawilliams/Library/Python/3.9/lib/python/site-packages (from prophet) (6.1.0)\n",
      "Requirement already satisfied: stanio<2.0.0,>=0.4.0 in /Users/juliawilliams/Library/Python/3.9/lib/python/site-packages (from cmdstanpy>=1.0.4->prophet) (0.5.1)\n",
      "Requirement already satisfied: python-dateutil in /Users/juliawilliams/Library/Python/3.9/lib/python/site-packages (from holidays>=0.25->prophet) (2.8.2)\n",
      "Requirement already satisfied: contourpy>=1.0.1 in /Users/juliawilliams/Library/Python/3.9/lib/python/site-packages (from matplotlib>=2.0.0->prophet) (1.2.0)\n",
      "Requirement already satisfied: cycler>=0.10 in /Users/juliawilliams/Library/Python/3.9/lib/python/site-packages (from matplotlib>=2.0.0->prophet) (0.12.1)\n",
      "Requirement already satisfied: fonttools>=4.22.0 in /Users/juliawilliams/Library/Python/3.9/lib/python/site-packages (from matplotlib>=2.0.0->prophet) (4.44.0)\n",
      "Requirement already satisfied: kiwisolver>=1.3.1 in /Users/juliawilliams/Library/Python/3.9/lib/python/site-packages (from matplotlib>=2.0.0->prophet) (1.4.5)\n",
      "Requirement already satisfied: packaging>=20.0 in /Users/juliawilliams/Library/Python/3.9/lib/python/site-packages (from matplotlib>=2.0.0->prophet) (23.2)\n",
      "Requirement already satisfied: pillow>=8 in /Users/juliawilliams/Library/Python/3.9/lib/python/site-packages (from matplotlib>=2.0.0->prophet) (10.1.0)\n",
      "Requirement already satisfied: pyparsing>=2.3.1 in /Users/juliawilliams/Library/Python/3.9/lib/python/site-packages (from matplotlib>=2.0.0->prophet) (3.1.1)\n",
      "Requirement already satisfied: zipp>=3.1.0 in /Users/juliawilliams/Library/Python/3.9/lib/python/site-packages (from importlib-resources->prophet) (3.17.0)\n",
      "Requirement already satisfied: pytz>=2020.1 in /Users/juliawilliams/Library/Python/3.9/lib/python/site-packages (from pandas>=1.0.4->prophet) (2023.3.post1)\n",
      "Requirement already satisfied: tzdata>=2022.1 in /Users/juliawilliams/Library/Python/3.9/lib/python/site-packages (from pandas>=1.0.4->prophet) (2023.3)\n",
      "Requirement already satisfied: six>=1.5 in /Library/Developer/CommandLineTools/Library/Frameworks/Python3.framework/Versions/3.9/lib/python3.9/site-packages (from python-dateutil->holidays>=0.25->prophet) (1.15.0)\n",
      "\n",
      "\u001b[1m[\u001b[0m\u001b[34;49mnotice\u001b[0m\u001b[1;39;49m]\u001b[0m\u001b[39;49m A new release of pip is available: \u001b[0m\u001b[31;49m23.3.1\u001b[0m\u001b[39;49m -> \u001b[0m\u001b[32;49m24.2\u001b[0m\n",
      "\u001b[1m[\u001b[0m\u001b[34;49mnotice\u001b[0m\u001b[1;39;49m]\u001b[0m\u001b[39;49m To update, run: \u001b[0m\u001b[32;49m/Library/Developer/CommandLineTools/usr/bin/python3 -m pip install --upgrade pip\u001b[0m\n",
      "Note: you may need to restart the kernel to use updated packages.\n"
     ]
    }
   ],
   "source": [
    "# install necessary packages on local machine\n",
    "%pip install yfinance\n",
    "%pip install stockstats\n",
    "%pip install matplotlib\n",
    "%pip install numpy\n",
    "%pip install pandas\n",
    "%pip install pytz\n",
    "%pip install statistics\n",
    "%pip install os\n",
    "%pip install pyarrow\n",
    "%pip install pandas_gbq\n",
    "%pip install statsmodels\n",
    "%pip install tensorflow\n",
    "%pip install prophet\n",
    "%pip install plotly\n",
    "%pip install statsmodels\n",
    "%pip install scikit-learn\n",
    "%pip install pmdarima\n",
    "%pip install prophet"
   ]
  },
  {
   "cell_type": "code",
   "execution_count": 4,
   "metadata": {},
   "outputs": [
    {
     "name": "stderr",
     "output_type": "stream",
     "text": [
      "/Users/juliawilliams/Library/Python/3.9/lib/python/site-packages/tqdm/auto.py:21: TqdmWarning: IProgress not found. Please update jupyter and ipywidgets. See https://ipywidgets.readthedocs.io/en/stable/user_install.html\n",
      "  from .autonotebook import tqdm as notebook_tqdm\n"
     ]
    }
   ],
   "source": [
    "import yfinance as yf\n",
    "from stockstats import StockDataFrame as ss\n",
    "import matplotlib as mp\n",
    "import numpy as np\n",
    "import pandas as pd\n",
    "import pytz\n",
    "import warnings\n",
    "import time\n",
    "import random\n",
    "import statistics\n",
    "import pydoc\n",
    "import os\n",
    "import pyarrow\n",
    "import statsmodels.api as sm\n",
    "import tensorflow as tf\n",
    "from tensorflow.keras.models import Sequential\n",
    "from tensorflow.keras.layers import LSTM, Bidirectional, Dense, Dropout\n",
    "from tensorflow.keras.callbacks import ReduceLROnPlateau, ModelCheckpoint\n",
    "from sklearn.preprocessing import MinMaxScaler\n",
    "import sqlite3\n",
    "import pickle\n",
    "from sklearn.metrics import mean_squared_error, r2_score\n",
    "import pmdarima as pm\n",
    "from sklearn.preprocessing import MinMaxScaler\n",
    "import matplotlib.pyplot as plt\n",
    "import pickle as pkl\n",
    "from datetime import datetime\n",
    "from datetime import timedelta\n",
    "from datetime import date\n",
    "from prophet import Prophet\n",
    "import matplotlib.pyplot as graph"
   ]
  },
  {
   "cell_type": "markdown",
   "metadata": {},
   "source": [
    "### Download Data for Selected Stock and Time Range (e.g. AAPL)"
   ]
  },
  {
   "cell_type": "code",
   "execution_count": 5,
   "metadata": {},
   "outputs": [
    {
     "name": "stdout",
     "output_type": "stream",
     "text": [
      "[*********************100%%**********************]  1 of 1 completed\n"
     ]
    }
   ],
   "source": [
    "# ask user for stock ticker and print data\n",
    "stock_select_str = input(\"Enter stock ticker: \")\n",
    "# initial load run\n",
    "stock_data = yf.download(stock_select_str, start = '2024-04-01', end = '2024-05-31', interval = '1d')"
   ]
  },
  {
   "cell_type": "markdown",
   "metadata": {},
   "source": [
    "### Print Portion of Downloaded Historical Data and Indicators"
   ]
  },
  {
   "cell_type": "code",
   "execution_count": 6,
   "metadata": {},
   "outputs": [
    {
     "name": "stdout",
     "output_type": "stream",
     "text": [
      "                  open        high         low       close   adj close  \\\n",
      "Date                                                                     \n",
      "2024-04-01  171.190002  171.250000  169.479996  170.029999  169.603378   \n",
      "2024-04-02  169.080002  169.339996  168.229996  168.839996  168.416351   \n",
      "2024-04-03  168.789993  170.679993  168.580002  169.649994  169.224335   \n",
      "2024-04-04  170.289993  171.919998  168.820007  168.820007  168.396423   \n",
      "2024-04-05  169.589996  170.389999  168.949997  169.580002  169.154510   \n",
      "\n",
      "              volume   stochrsi      macd  mfi  \n",
      "Date                                            \n",
      "2024-04-01  46240500        NaN  0.000000  0.5  \n",
      "2024-04-02  49329500        NaN -0.026699  0.5  \n",
      "2024-04-03  47691700  100.00000 -0.008902  0.5  \n",
      "2024-04-04  53704400   68.17781 -0.030555  0.5  \n",
      "2024-04-05  42055200  100.00000 -0.011436  0.5  \n"
     ]
    }
   ],
   "source": [
    "stock_df = ss.retype(stock_data)\n",
    "stock_data[['stochrsi', 'macd', 'mfi']] = stock_df[['stochrsi', 'macd', 'mfi']]\n",
    "print(stock_data.head())"
   ]
  },
  {
   "cell_type": "markdown",
   "metadata": {},
   "source": [
    "### Connect to Google BigQuery Service"
   ]
  },
  {
   "cell_type": "code",
   "execution_count": 8,
   "metadata": {},
   "outputs": [
    {
     "data": {
      "text/plain": [
       "'\\nSCOPES = [\\n    \\'https://www.googleapis.com/auth/cloud-platform\\',\\n    \\'https://www.googleapis.com/auth/drive\\',\\n]\\n\\n# Import google cloud service account and bigquery\\nfrom google.oauth2 import service_account\\nfrom google.cloud import bigquery\\n\\n# Specify google cloud project information\\ncredentials = service_account.Credentials.from_service_account_file(\\n    \\'...\\')\\nproject_id = \\'...\\'\\nclient = bigquery.Client(project=project_id, credentials=credentials)\\ndataset_id = \\'...\\'\\ntable_id = \\'...\\'\\ntable_path = f\"{project_id}.{dataset_id}.{table_id}\"\\n\\n# Specify load reqs\\nload_info = bigquery.LoadJobConfig(write_disposition=\"WRITE_TRUNCATE\")\\nload_data = client.load_table_from_dataframe(stock_data, table_path, job_config=load_info)\\nload_data.result()\\n'"
      ]
     },
     "execution_count": 8,
     "metadata": {},
     "output_type": "execute_result"
    }
   ],
   "source": [
    "SCOPES = [\n",
    "    'https://www.googleapis.com/auth/cloud-platform',\n",
    "    'https://www.googleapis.com/auth/drive',\n",
    "]\n",
    "\n",
    "# Import google cloud service account and bigquery\n",
    "from google.oauth2 import service_account\n",
    "from google.cloud import bigquery\n",
    "\n",
    "# Specify google cloud project information\n",
    "credentials = service_account.Credentials.from_service_account_file(\n",
    "    '...')\n",
    "project_id = '...'\n",
    "client = bigquery.Client(project=project_id, credentials=credentials)\n",
    "dataset_id = '...'\n",
    "table_id = '...'\n",
    "table_path = f\"{project_id}.{dataset_id}.{table_id}\"\n",
    "\n",
    "# Specify load reqs\n",
    "load_info = bigquery.LoadJobConfig(write_disposition=\"WRITE_TRUNCATE\")\n",
    "load_data = client.load_table_from_dataframe(stock_data, table_path, job_config=load_info)\n",
    "load_data.result()"
   ]
  },
  {
   "cell_type": "markdown",
   "metadata": {},
   "source": [
    "## Functions\n"
   ]
  },
  {
   "cell_type": "markdown",
   "metadata": {},
   "source": [
    "### SARIMA Model Functions"
   ]
  },
  {
   "cell_type": "code",
   "execution_count": 37,
   "metadata": {},
   "outputs": [],
   "source": [
    "from datetime import datetime\n",
    "import pandas as pd\n",
    "def sarima_forecast(model, df, forecast_date, Feature_Scaler):\n",
    "    print(\"forecast \\n\")\n",
    "    # Forecast\n",
    "    n_periods = (datetime.strptime(forecast_date, '%Y-%m-%d') - df.index[-1]).days\n",
    "    fitted, confint = model.predict(n_periods=n_periods, return_conf_int=True)\n",
    "    index_of_fc = pd.date_range(df.index[-1] + pd.DateOffset(days=1), periods = n_periods, freq='D')\n",
    "\n",
    "    # Make series for plotting purpose\n",
    "    fitted_series = pd.Series(fitted.values, index=index_of_fc)\n",
    "    lower_series = pd.Series(confint[:, 0], index=index_of_fc)\n",
    "    upper_series = pd.Series(confint[:, 1], index=index_of_fc)\n",
    "\n",
    "    #Concatenate the original DataFrame with forecasted values and confidence intervals\n",
    "    df_result = pd.concat([df, fitted_series, lower_series, upper_series], axis=1)\n",
    "    df_result.columns = [\"Actual\", \"Prediction\", \"Low\", \"High\"]\n",
    "\n",
    "    #Inverse transform the scaled values to their original scale\n",
    "    for column in df_result.columns:\n",
    "      df_result[column] = Feature_Scaler.inverse_transform(df_result[column].values.reshape(-1,1))\n",
    "\n",
    "    return df_result"
   ]
  },
  {
   "cell_type": "code",
   "execution_count": 38,
   "metadata": {},
   "outputs": [],
   "source": [
    "def process_model(stock_transformed):\n",
    "    print(\"process model \\n\")\n",
    "    sarima_model = pm.auto_arima(stock_transformed[\"Close\"], start_p=1, start_q=1,\n",
    "                         test='adf',\n",
    "                         max_p=3, max_q=3,\n",
    "                         m=12, #12 is the frequency of the cycle (yearly)\n",
    "                         start_P=0,\n",
    "                         seasonal=True, #set to seasonal\n",
    "                         d=None,\n",
    "                         D=1, #order of the seasonal differencing\n",
    "                         trace=False,\n",
    "                         error_action='ignore',\n",
    "                         suppress_warnings=True,\n",
    "                         stepwise=True)\n",
    "    \n",
    "    return sarima_model"
   ]
  },
  {
   "cell_type": "code",
   "execution_count": 35,
   "metadata": {},
   "outputs": [],
   "source": [
    "import yfinance as yf\n",
    "import numpy as np\n",
    "\n",
    "def print_metrics(df_result, model, stock_name):\n",
    "    stock_ticker = yf.Ticker(stock_name)\n",
    "    # import actual closing prices into real_values dataframe\n",
    "    real_values = yf.download(stock_name, end='2024-06-11')\n",
    "    # calculate AIC and BIC\n",
    "    aic = model.aic()\n",
    "    bic = model.bic()\n",
    "    print(f\"AIC: {aic}\")\n",
    "    print(f\"BIC: {bic}\")\n",
    "\n",
    "    # calculate RMSE and MSE\n",
    "    subtract = (real_values.loc['2024-06-01':'2024-06-11', \"Close\"] - df_result.loc['2024-06-01':'2024-06-11',\"Prediction\"])\n",
    "    mse = (subtract ** 2).mean()\n",
    "    rmse = np.sqrt(mse)\n",
    "    print(f\"MSE: {mse}\")\n",
    "    print(f\"RMSE: {rmse}\")\n",
    "\n",
    "    # calculate R-squared\n",
    "    # actual values - mean of actual values\n",
    "    ss_total = ((real_values.loc['2024-06-01':'2024-06-11', \"Close\"] - (real_values.loc['2024-06-01':'2024-06-11', \"Close\"]).mean()) ** 2).sum()\n",
    "    # residual sum of squares\n",
    "    ss_residual = ((real_values.loc['2024-06-01':'2024-06-11', \"Close\"] - df_result[\"Prediction\"]) ** 2).sum()\n",
    "    r_squared = 1 - (ss_residual / ss_total)\n",
    "    print(f\"R-squared: {r_squared}\")\n",
    "\n",
    "    # calculate p-value\n",
    "    import statsmodels.api as sm\n",
    "    X = sm.add_constant(df_result[\"Prediction\"])\n",
    "    y = real_values.loc['2024-06-01':'2024-06-11', \"Close\"]\n",
    "    print(X)\n",
    "    print(y)\n",
    "\n",
    "    # ensure indices match\n",
    "    X = X.loc[y.index]\n",
    "    y = y.loc[X.index]\n",
    "\n",
    "    # fit OLS model (ols regression)\n",
    "    model_sm = sm.OLS(y, X).fit()\n",
    "    # extract p-value\n",
    "    p_value = model_sm.pvalues[1]  # p-value for the 'Prediction' variable\n",
    "    print(f\"P-value: {p_value}\")\n",
    "\n",
    "    "
   ]
  },
  {
   "cell_type": "code",
   "execution_count": 31,
   "metadata": {},
   "outputs": [],
   "source": [
    "def serialize_deserialize(sarima_model):\n",
    "    print(\"serialize \\n\")\n",
    "    # Serialize with Pickle and save it as pkl\n",
    "    with open('sarima_model.pkl', 'wb') as pkl:\n",
    "        pickle.dump(sarima_model, pkl)\n",
    "\n",
    "    # Desiarilize the content of the file back into a Python object\n",
    "    with open('sarima_model.pkl', 'rb') as pkl:\n",
    "        loaded_model = pickle.load(pkl)\n",
    "\n",
    "    return loaded_model"
   ]
  },
  {
   "cell_type": "code",
   "execution_count": 17,
   "metadata": {},
   "outputs": [],
   "source": [
    "def sarima_load(stock_data, feature_scaler):\n",
    "    # remove any duplicate index\n",
    "    stock_data = stock_data.loc[~stock_data.index.duplicated(keep='first')]\n",
    "    # filter only required data\n",
    "    stock_data = stock_data[['Close']]\n",
    "    # transform current stock data\n",
    "    stock_transformed = pd.DataFrame(np.squeeze(feature_scaler.fit_transform(stock_data), axis=1), columns=[\"Close\"], index=stock_data.index)\n",
    "    # call function to fit a seasonal ARIMA model\n",
    "    sarima_model = process_model(stock_transformed)\n",
    "    # call function to serialize / deserialize SARIMA model with pickle\n",
    "    sarima_model = serialize_deserialize(sarima_model)\n",
    "    return stock_transformed, sarima_model"
   ]
  },
  {
   "cell_type": "markdown",
   "metadata": {},
   "source": [
    "### LSTM Model Functions (Additional Analysis)"
   ]
  },
  {
   "cell_type": "code",
   "execution_count": 29,
   "metadata": {},
   "outputs": [],
   "source": [
    "# LSTM functions\n",
    "\n",
    "def features_targets(data, feature_length):\n",
    "    # feature length is the number of time steps in the input sequence\n",
    "    # targets are the values the model is trying to forecast\n",
    "    time_step_list, close_label_list = [], []\n",
    "    \n",
    "    # iterate through (length of sequential data) to (length of seq data - feature length)\n",
    "    for i in range(len(data) - feature_length):\n",
    "        # this will get the vals leading up to the target\n",
    "        time_steps = data[i : i + feature_length]\n",
    "        time_step_list.append(time_steps)\n",
    "        # this will get the target val at this point\n",
    "        labels = data[i + feature_length]\n",
    "        close_label_list.append(labels)\n",
    "\n",
    "    # reshape lists to be suitable for network algo\n",
    "    time_step_list = np.array(time_step_list).reshape(len(time_step_list), feature_length, 1)\n",
    "    close_label_list = np.array(close_label_list).reshape(len(close_label_list), 1)\n",
    "\n",
    "    return time_step_list, close_label_list"
   ]
  },
  {
   "cell_type": "code",
   "execution_count": 26,
   "metadata": {},
   "outputs": [],
   "source": [
    "def create_model(X, Y, df, data, train_test_slice, scaler):\n",
    "    # training set: set to train the machine learning model\n",
    "    # testing set: set used to test model after model has been trained\n",
    "    # train set is 70% of data, test set is the rest (30%)\n",
    "    X_train, X_test = X[:-train_test_slice], X[-train_test_slice:]\n",
    "    Y_train, Y_test = Y[:-train_test_slice], Y[-train_test_slice:]\n",
    "\n",
    "    # initialize empty model where nodes have input and output with Keras\n",
    "    model = Sequential()\n",
    "    # create a bidirectional LSTM: \n",
    "    # - 100 cells\n",
    "    # - return output for input\n",
    "    # - reduce overfitting w current dropout\n",
    "    # - specify # of steps for target\n",
    "    model.add(Bidirectional(LSTM(100, return_sequences=True, recurrent_dropout=0.1, input_shape=(X_train.shape[1], 1))))\n",
    "    # provide additional processing with undirectional layer\n",
    "    model.add(LSTM(50, recurrent_dropout=0.1))\n",
    "    # add dropout and dense layers\n",
    "    # randomly sets 20% of inputs to 0 to prevent overfitting\n",
    "    model.add(Dropout(0.2))\n",
    "    # create a connected layer with 25 output units\n",
    "    model.add(Dense(20, activation='elu'))\n",
    "    model.add(Dropout(0.2))\n",
    "    # create a connected layer with 10 output units\n",
    "    model.add(Dense(10))\n",
    "    # create a connected layer with 1 output unit\n",
    "    model.add(Dense(1))\n",
    "\n",
    "    # optimize model using stochastic gradient descent to train model\n",
    "    # SGD \n",
    "    optimize = tf.keras.optimizers.SGD(learning_rate = 0.002)\n",
    "    # compile model\n",
    "    model.compile(loss='mean_squared_error', optimizer=optimize)\n",
    "    # save model weights validation loss improves\n",
    "    weights = ModelCheckpoint(\"best_weights.h5\", monitor='val_loss', save_best_only=True, save_weights_only=True)\n",
    "    # adjust learning rate when needed\n",
    "    reduce_lr = ReduceLROnPlateau(monitor='val_loss', factor=0.25, patience=4, min_lr=0.00001, verbose=1)\n",
    "\n",
    "    # one epoch completes when the entire training dataset is processed once by the model\n",
    "    model.fit(X_train, Y_train, epochs=12, batch_size=1, verbose=1, shuffle=False, validation_data=(X_test, Y_test), callbacks=[reduce_lr, weights])\n",
    "    actual = scaler.inverse_transform(Y_test)\n",
    "    predictions = model.predict(X_test)\n",
    "    predictions = scaler.inverse_transform(predictions)\n",
    "    actual = np.squeeze(actual, axis=1)\n",
    "    predictions = np.squeeze(predictions, axis=1)\n",
    "\n",
    "    #reassign index before it goes into model\n",
    "    test_df = pd.DataFrame({'Actual': actual, 'Predicted': predictions.flatten()})\n",
    "    print(test_df)\n",
    "    #return model, loss, predict, predict_inv, Y_test, scaler\n",
    "\n",
    "    '''\n",
    "    # Plotting test set\n",
    "    graph.plot(df.index[-train_test_slice:], predictions, label=\"Predicted\")\n",
    "    graph.plot(df.index[-train_test_slice:], actual, label=\"Actual\")\n",
    "    graph.xlabel('Date')\n",
    "    graph.ylabel('Stock Price')\n",
    "    graph.legend()\n",
    "    graph.savefig('predicted_stock_prices_lstm3_test.png')\n",
    "    graph.show()\n",
    "    '''\n",
    "    return model, X_train, X_test, Y_train, Y_test"
   ]
  },
  {
   "cell_type": "code",
   "execution_count": 24,
   "metadata": {},
   "outputs": [],
   "source": [
    "def predict_lstm(model, df, future_date, scaler, feature_length=20):\n",
    "    # iterate through today's date until future date\n",
    "    for i in range((datetime.strptime(future_date, '%Y-%m-%d') - df.index[-1]).days):\n",
    "        # specify close values\n",
    "        feature_column = df['Close'].values\n",
    "        # pick out last 20 days\n",
    "        time_steps = feature_column[-feature_length:]\n",
    "        # reshape array\n",
    "        time_steps = time_steps.reshape(feature_length, 1)\n",
    "        # scale array\n",
    "        time_steps = scaler.transform(time_steps)\n",
    "        prediction = model.predict(time_steps.reshape(1, feature_length, 1))\n",
    "        prediction = scaler.inverse_transform(prediction)\n",
    "        # concatenate results with og dataframe\n",
    "        df_forecast = pd.DataFrame(prediction, index=[df.index[-1] + timedelta(days=1)], columns=['Close'])\n",
    "        df = pd.concat([df, df_forecast])\n",
    "    return df"
   ]
  },
  {
   "cell_type": "code",
   "execution_count": 39,
   "metadata": {},
   "outputs": [],
   "source": [
    "def create_plot(test, stock_name):\n",
    "    print(\"create plot \\n\")\n",
    "    # Plot\n",
    "    plt.figure(figsize=(15,7))\n",
    "    plt.plot(test[\"Actual\"][-120:], color='#1f76b4')\n",
    "    plt.plot(test[\"Prediction\"], color='darkgreen')\n",
    "    plt.fill_between(test.index,\n",
    "                test[\"Low\"],\n",
    "                test[\"High\"],\n",
    "                color='k', alpha=.15)\n",
    "\n",
    "    plt.title(f\"SARIMA - Forecast of {stock_name} Stock Price\")\n",
    "    plt.show()"
   ]
  },
  {
   "cell_type": "markdown",
   "metadata": {},
   "source": [
    "## Step 1: SARIMA Model for AAPL Stock\n",
    "\n",
    "\n",
    "(EXAMPLE) Predict stock share price for AAPL stock with historical time range 01-01-2023 to 05-31-2024:"
   ]
  },
  {
   "cell_type": "code",
   "execution_count": 40,
   "metadata": {},
   "outputs": [
    {
     "name": "stdout",
     "output_type": "stream",
     "text": [
      "[*********************100%%**********************]  1 of 1 completed\n",
      "process model \n",
      "\n",
      "serialize \n",
      "\n",
      "forecast \n",
      "\n"
     ]
    },
    {
     "name": "stderr",
     "output_type": "stream",
     "text": [
      "/Users/juliawilliams/Library/Python/3.9/lib/python/site-packages/statsmodels/tsa/base/tsa_model.py:836: ValueWarning: No supported index is available. Prediction results will be given with an integer index beginning at `start`.\n",
      "  return get_prediction_index(\n",
      "/Users/juliawilliams/Library/Python/3.9/lib/python/site-packages/statsmodels/tsa/base/tsa_model.py:836: FutureWarning: No supported index is available. In the next version, calling this method in a model without a supported index will result in an exception.\n",
      "  return get_prediction_index(\n"
     ]
    },
    {
     "name": "stdout",
     "output_type": "stream",
     "text": [
      "[*********************100%%**********************]  1 of 1 completed\n",
      "AIC: -39.68430980737587\n",
      "BIC: -34.21512648742997\n",
      "MSE: 60.45110377667456\n",
      "RMSE: 7.775030789435792\n",
      "R-squared: -38.28541592410691\n",
      "            const  Prediction\n",
      "2024-06-01    1.0  191.937346\n",
      "2024-06-02    1.0  187.026548\n",
      "2024-06-03    1.0  188.743530\n",
      "2024-06-04    1.0  195.614622\n",
      "2024-06-05    1.0  207.353867\n",
      "2024-06-06    1.0  204.622368\n",
      "2024-06-07    1.0  202.807375\n",
      "2024-06-08    1.0  204.541151\n",
      "2024-06-09    1.0  204.761190\n",
      "2024-06-10    1.0  201.082296\n",
      "2024-06-11    1.0  203.708085\n",
      "Date\n",
      "2024-06-03    194.029999\n",
      "2024-06-04    194.350006\n",
      "2024-06-05    195.869995\n",
      "2024-06-06    194.479996\n",
      "2024-06-07    196.889999\n",
      "2024-06-10    193.119995\n",
      "Name: Close, dtype: float64\n",
      "P-value: 0.36214927551675186\n",
      "create plot \n",
      "\n"
     ]
    },
    {
     "name": "stderr",
     "output_type": "stream",
     "text": [
      "/var/folders/rt/v95zdjfs4ds4mcrrtdx2tfnw0000gn/T/ipykernel_58231/163540072.py:43: FutureWarning: Series.__getitem__ treating keys as positions is deprecated. In a future version, integer keys will always be treated as labels (consistent with DataFrame behavior). To access a value by position, use `ser.iloc[pos]`\n",
      "  p_value = model_sm.pvalues[1]  # p-value for the 'Prediction' variable\n"
     ]
    },
    {
     "data": {
      "image/png": "[encoded data removed]",
      "text/plain": [
       "<Figure size 1500x700 with 1 Axes>"
      ]
     },
     "metadata": {},
     "output_type": "display_data"
    }
   ],
   "source": [
    "import yfinance as yf\n",
    "stock_select_str = input(\"Enter stock ticker: \")\n",
    "# initial load run\n",
    "stock_data = yf.download(stock_select_str, start = '2024-04-01', end = '2024-05-31', interval = '1d')\n",
    "# scale data\n",
    "feature_scaler = MinMaxScaler()\n",
    "# run SARIMA functions for initial load\n",
    "initial_transformed, initial_model = sarima_load(stock_data, feature_scaler)\n",
    "#print(\"initial load returned\")\n",
    "# forecast initial load\n",
    "initial_df_pred_sarima = sarima_forecast(initial_model, initial_transformed, '2024-06-11', feature_scaler)\n",
    "print_metrics(initial_df_pred_sarima.tail(11), initial_model, stock_select_str)\n",
    "#print(\"IMPORTANT\\n\")\n",
    "#print(initial_df_pred_sarima.tail(11))\n",
    "#print(initial_df_pred_sarima)\n",
    "plot = create_plot(initial_df_pred_sarima, stock_select_str)\n",
    "#print(initial_df_pred_sarima[\"Actual\"])\n",
    "#graph.plot(plot, label = \"total predict\")\n",
    "#graph.plot(actual, label = \"total actual\")\n",
    "#graph.xlabel('Date')\n",
    "#graph.ylabel('Stock Price')\n",
    "#graph.legend()\n",
    "#graph.savefig('predicted_stock_prices_lstm_total.png')\n",
    "#graph.savefig('test1.png')\n",
    "#graph.show()\n"
   ]
  },
  {
   "cell_type": "markdown",
   "metadata": {},
   "source": [
    "### SARIMA model plot diagnostics plot"
   ]
  },
  {
   "cell_type": "markdown",
   "metadata": {},
   "source": [
    "### SARIMA plot"
   ]
  },
  {
   "cell_type": "markdown",
   "metadata": {},
   "source": [
    "## Step 2: LSTM\n",
    "*why?*  \n",
    "\n",
    "LSTM MODEL:"
   ]
  },
  {
   "cell_type": "code",
   "execution_count": null,
   "metadata": {},
   "outputs": [],
   "source": [
    "#apple_data = yf.download(\"AAPL\", start = \"2020-01-01\", interval = '1d')\n",
    "apple_df_test = apple_data.reset_index()\n",
    "apple_df = apple_df_test.copy()"
   ]
  },
  {
   "cell_type": "code",
   "execution_count": null,
   "metadata": {},
   "outputs": [],
   "source": [
    "scaler = MinMaxScaler()\n",
    "data_transformed = pd.DataFrame(\n",
    "    np.squeeze(\n",
    "        scaler.fit_transform(\n",
    "            apple_df[[\"Close\"]])), columns=[\"Close\"], index=apple_df.index)"
   ]
  },
  {
   "cell_type": "code",
   "execution_count": null,
   "metadata": {},
   "outputs": [],
   "source": [
    "time_step_vals, target_vals = features_targets(data_transformed[\"Close\"].values, 20)"
   ]
  },
  {
   "cell_type": "code",
   "execution_count": null,
   "metadata": {},
   "outputs": [],
   "source": [
    "train_vals_cutoff = apple_df.loc[apple_df['Date'] >= '2022-01-01']\n",
    "slice = train_vals_cutoff.shape[0]\n"
   ]
  },
  {
   "cell_type": "code",
   "execution_count": null,
   "metadata": {},
   "outputs": [],
   "source": [
    "model, X_train, X_test, Y_train, Y_test = create_model(\n",
    "        time_step_vals, target_vals, apple_df, data_transformed[\"Close\"].values, slice, scaler)"
   ]
  },
  {
   "cell_type": "code",
   "execution_count": null,
   "metadata": {},
   "outputs": [],
   "source": [
    "total_x = np.concatenate((X_train, X_test), axis = 0)\n",
    "total_y = np.concatenate((Y_train, Y_test), axis = 0)\n",
    "final_predict = model.predict(total_x)\n",
    "final_predict = scaler.inverse_transform(final_predict)\n",
    "actual = scaler.inverse_transform(total_y)\n",
    "final_predict = np.squeeze(final_predict, axis = 1)\n",
    "actual = np.squeeze(actual, axis = 1)"
   ]
  },
  {
   "cell_type": "markdown",
   "metadata": {},
   "source": [
    "### LSTM plot"
   ]
  },
  {
   "cell_type": "code",
   "execution_count": null,
   "metadata": {},
   "outputs": [],
   "source": [
    "graph.plot(final_predict, label = \"total predict\")\n",
    "graph.plot(actual, label = \"total actual\")\n",
    "graph.xlabel('Date')\n",
    "graph.ylabel('Stock Price')\n",
    "graph.legend()\n",
    "graph.savefig('test.png')\n",
    "graph.show()"
   ]
  },
  {
   "cell_type": "code",
   "execution_count": null,
   "metadata": {},
   "outputs": [],
   "source": [
    "model.predict(data_transformed[-21:-1].values.reshape(1,20,1))\n",
    "data = pd.DataFrame(apple_data)\n",
    "test = predict_lstm(model, data, '2024-02-01', scaler)"
   ]
  },
  {
   "cell_type": "code",
   "execution_count": null,
   "metadata": {},
   "outputs": [],
   "source": [
    "test.tail()"
   ]
  },
  {
   "cell_type": "markdown",
   "metadata": {},
   "source": [
    "# Q: is this where the combo assessment goes?"
   ]
  },
  {
   "cell_type": "markdown",
   "metadata": {},
   "source": [
    "# Q: Why does SARIMA only have 1 function, but LSTM has several?"
   ]
  },
  {
   "cell_type": "markdown",
   "metadata": {},
   "source": [
    "# Q: do you want to output plots as pngs?"
   ]
  },
  {
   "cell_type": "markdown",
   "metadata": {},
   "source": [
    "## Write to file"
   ]
  },
  {
   "cell_type": "code",
   "execution_count": null,
   "metadata": {},
   "outputs": [],
   "source": [
    "\n",
    "# specify google cloud project information\n",
    "dataset_id = 'predicted_prices'\n",
    "table_id = 'SARIMA and LTSM Predicted Prices'\n",
    "table_path = f\"{project_id}.{dataset_id}.{table_id}\"\n",
    "\n",
    "# specify load reqs\n",
    "load_info = bigquery.LoadJobConfig(write_disposition=\"WRITE_TRUNCATE\")\n",
    "# enter combined data load_data = client.load_table_from_dataframe(combined data, table_path, job_config=load_info)\n",
    "load_data.result()"
   ]
  },
  {
   "cell_type": "markdown",
   "metadata": {},
   "source": [
    "## Summary\n",
    "** a bit more detail about why a client would need this and what value it would bring to their work **"
   ]
  }
 ],
 "metadata": {
  "kernelspec": {
   "display_name": "Python 3",
   "language": "python",
   "name": "python3"
  },
  "language_info": {
   "codemirror_mode": {
    "name": "ipython",
    "version": 3
   },
   "file_extension": ".py",
   "mimetype": "text/x-python",
   "name": "python",
   "nbconvert_exporter": "python",
   "pygments_lexer": "ipython3",
   "version": "3.9.6"
  }
 },
 "nbformat": 4,
 "nbformat_minor": 2
}
