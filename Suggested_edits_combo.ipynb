{
 "cells": [
  {
   "cell_type": "markdown",
   "metadata": {},
   "source": [
    "## Description\n",
    "\n",
    "**Is the SARIMA model useful for stock prediction? If so, when is it useful?**\n",
    "\n",
    "This GitHub project utilized the yfinance library to import historical stock data for Apple Inc. (AAPL), NVIDIA (NVDA), and Tesla (TSLA). These stocks were chosen due to their varying behaviors. Historically, the APPL stock is safe, and NVDA and TSLA are more volatile. By leveraging this data, SARIMA models were developed for stock price prediction for stocks with differences in behavior:\n",
    " \n",
    " **SARIMA Model: Seasonal Autoregressive Integrated Moving Average (SARIMA) model, a time series forecasting method, is implemented to capture the underlying patterns and trends in the stock price data.**\n",
    "\n",
    " The Seasonal Autoregressive Integrated Moving Average (SARIMA) model provides a robust framework for predicting stock prices. SARIMA's ability to capture seasonal patterns and cyclic behavior inherent in sequential data, along with its foundation in statistical time series analysis principles, lends credibility to our predictions. The model's interpretable parameters allow for a deeper understanding of the underlying dynamics driving stock price movements. However, it's important to note SARIMA's limitation in capturing external factors such as news events or sudden market shocks, which may impact stock prices but are not directly incorporated into the model. Despite this consideration, SARIMA remains a valuable tool for predicting stock prices based on historical patterns and internal data dynamics.  \n",
    "\n",
    "\n",
    "Two additional kinds of models were created for the AAPL stock for further analysis:\n",
    "\n",
    "1. **LSTM Model**: Long Short-Term Memory (LSTM) neural network model is utilized for its ability to effectively learn from sequential data and capture complex patterns in the stock price dynamics.\n",
    "2. **Combined LSTM and SARIMA Model**: A novel approach combining the strengths of both LSTM and SARIMA models is proposed. This hybrid model aims to enhance prediction accuracy by leveraging the complementary capabilities of each model.\n",
    "\n",
    "## Objective\n",
    "The objective of this project is to discover if it is possible to implement a robust SARIMA model to enable accurate prediction of a client's company stock price, leveraging historical data and market trends. The primary aim was to use the predictive insights to formulate strategic investment decisions aimed at maximizing shareholder profit and optimizing portfolio performance. First, it was determined how much historical data was necessary to train the machine learning models for the most accurate predictions. This was done by using metrics for comparison (see section below). Second, it was concluded if this tool was accurate enough for real-world use by analyzing the amount of money gained/lost.\n",
    "\n",
    "For AAPL, NVDA, and TSLA: Download historical data for the following time ranges and predict stock price for 06-01-2024 to 06-11-2024:\n",
    "\n",
    "Historical Data Time Ranges:\n",
    "1. 01-01-2004 to 5-31-2024 \n",
    "2. 01-01-2010 to 5-31-2024\n",
    "3. 01-01-2013 to 5-31-2024\n",
    "4. 01-01-2017 to 5-31-2024\n",
    "5. 01-01-2019 to 5-31-2024\n",
    "6. 01-01-2021 to 5-31-2024\n",
    "7. 01-01-2023 to 5-31-2024\n",
    "\n",
    "## Metrics Used for Comparison\n",
    "In order to determine which time range of historical data was best for each stock, the following metrics were used for comparison:\n",
    "1. p-value: The p-value measures the probability that the observed results (or something more extreme) could have occurred under the null hypothesis.\n",
    "2. R-squared value: The R-squared value, or coefficient of determination, represents the proportion of variance in the dependent variable that is predictable from the independent variable(s)\n",
    "3. Root Mean Squared Error (RMSE):  RMSE is a measure of the average magnitude of the errors between predicted values and actual values. It is the square root of the average of the squared differences  between prediction and actual observation.\n",
    "4. Mean Squared Error (MSE): MSE is the average of the squares of the errors, which are the differences between the actual values and the predicted values.\n",
    "5. Akaike Information Criterion (AIC): AIC is a measure used for model selection that balances model fit and complexity. It estimates the relative quality of statistical models for a given set of data.\n",
    "6. Bayesian Information Criterion (BIC): BIC is another criterion for model selection that also balances model fit and complexity, similar to AIC, but with a stronger penalty for models with more parameters.\n",
    "\n",
    "\n",
    "## Summary Findings\n",
    "\n",
    "It was determined which time range was best for each stock.\n",
    "\n",
    "For TSLA, the model with historical data from 01-01-2013 to 05-31-2023 was the best. This model had the least variance between actual and predicted data, the best r-squared value (0.64), and considerably low AIC and BIC values (-16386.14, -16350.39). \n",
    "(2013)\n",
    "\n",
    "For NVDA, the model with historical data from 01-01-2015 to 05-31-2023 and 01-01-2017 to 05-31-2023 were best. The 2015 model had the lowest variance between actual and predicted data with considerably lower AIC and BIC values (-16739.57, -16699.22); whereas the 2017 model had the best r-squared value (0.52). The 2010 model had the best RMSE and the 2004 model had the best p-value.\n",
    "(2015/2017)\n",
    "\n",
    "For AAPL, "
   ]
  },
  {
   "cell_type": "markdown",
   "metadata": {},
   "source": [
    "*how*\n",
    "## Methodology"
   ]
  },
  {
   "cell_type": "code",
   "execution_count": 46,
   "metadata": {},
   "outputs": [
    {
     "data": {
      "text/plain": [
       "'\\n%pip install yfinance\\n%pip install stockstats\\n%pip install matplotlib\\n%pip install numpy\\n%pip install pandas\\n%pip install pytz\\n%pip install statistics\\n%pip install os\\n%pip install pyarrow\\n%pip install pandas_gbq\\n%pip install statsmodels\\n%pip install tensorflow\\n%pip install prophet\\n%pip install plotly\\n%pip install statsmodels\\n%pip install scikit-learn\\n%pip install pmdarima\\n%pip install prophet\\n'"
      ]
     },
     "execution_count": 46,
     "metadata": {},
     "output_type": "execute_result"
    }
   ],
   "source": [
    "# install necessary packages on local machine\n",
    "%pip install yfinance\n",
    "%pip install stockstats\n",
    "%pip install matplotlib\n",
    "%pip install numpy\n",
    "%pip install pandas\n",
    "%pip install pytz\n",
    "%pip install statistics\n",
    "%pip install os\n",
    "%pip install pyarrow\n",
    "%pip install pandas_gbq\n",
    "%pip install statsmodels\n",
    "%pip install tensorflow\n",
    "%pip install prophet\n",
    "%pip install plotly\n",
    "%pip install statsmodels\n",
    "%pip install scikit-learn\n",
    "%pip install pmdarima\n",
    "%pip install prophet"
   ]
  },
  {
   "cell_type": "code",
   "execution_count": 47,
   "metadata": {},
   "outputs": [
    {
     "data": {
      "text/plain": [
       "'\\nimport yfinance as yf\\nfrom stockstats import StockDataFrame as ss\\nimport matplotlib as mp\\nimport numpy as np\\nimport pandas as pd\\nimport pytz\\nimport warnings\\nimport time\\nimport random\\nimport statistics\\nimport pydoc\\nimport os\\nimport pyarrow\\nimport statsmodels.api as sm\\nimport tensorflow as tf\\nfrom tensorflow.keras.models import Sequential\\nfrom tensorflow.keras.layers import LSTM, Bidirectional, Dense, Dropout\\nfrom tensorflow.keras.callbacks import ReduceLROnPlateau, ModelCheckpoint\\nfrom sklearn.preprocessing import MinMaxScaler\\nimport sqlite3\\nimport pickle\\nfrom sklearn.metrics import mean_squared_error, r2_score\\nimport pmdarima as pm\\nfrom sklearn.preprocessing import MinMaxScaler\\nimport matplotlib.pyplot as plt\\nimport pickle as pkl\\nfrom datetime import datetime\\nfrom datetime import timedelta\\nfrom datetime import date\\nfrom prophet import Prophet\\nimport matplotlib.pyplot as graph\\n'"
      ]
     },
     "execution_count": 47,
     "metadata": {},
     "output_type": "execute_result"
    }
   ],
   "source": [
    "import yfinance as yf\n",
    "from stockstats import StockDataFrame as ss\n",
    "import matplotlib as mp\n",
    "import numpy as np\n",
    "import pandas as pd\n",
    "import pytz\n",
    "import warnings\n",
    "import time\n",
    "import random\n",
    "import statistics\n",
    "import pydoc\n",
    "import os\n",
    "import pyarrow\n",
    "import statsmodels.api as sm\n",
    "import tensorflow as tf\n",
    "from tensorflow.keras.models import Sequential\n",
    "from tensorflow.keras.layers import LSTM, Bidirectional, Dense, Dropout\n",
    "from tensorflow.keras.callbacks import ReduceLROnPlateau, ModelCheckpoint\n",
    "from sklearn.preprocessing import MinMaxScaler\n",
    "import sqlite3\n",
    "import pickle\n",
    "from sklearn.metrics import mean_squared_error, r2_score\n",
    "import pmdarima as pm\n",
    "from sklearn.preprocessing import MinMaxScaler\n",
    "import matplotlib.pyplot as plt\n",
    "import pickle as pkl\n",
    "from datetime import datetime\n",
    "from datetime import timedelta\n",
    "from datetime import date\n",
    "from prophet import Prophet\n",
    "import matplotlib.pyplot as graph"
   ]
  },
  {
   "cell_type": "markdown",
   "metadata": {},
   "source": [
    "### Download Data for Selected Stock and Time Range (e.g. NVDA)"
   ]
  },
  {
   "cell_type": "code",
   "execution_count": 52,
   "metadata": {},
   "outputs": [
    {
     "name": "stdout",
     "output_type": "stream",
     "text": [
      "[*********************100%%**********************]  1 of 1 completed\n"
     ]
    }
   ],
   "source": [
    "# ask user for stock ticker and print data\n",
    "stock_select_str = input(\"Enter stock ticker: \")\n",
    "# initial load run\n",
    "stock_data = yf.download(stock_select_str, start = '2024-04-01', end = '2024-05-31', interval = '1d')"
   ]
  },
  {
   "cell_type": "markdown",
   "metadata": {},
   "source": [
    "### Print Portion of Downloaded Historical Data and Indicators"
   ]
  },
  {
   "cell_type": "code",
   "execution_count": 53,
   "metadata": {},
   "outputs": [
    {
     "name": "stdout",
     "output_type": "stream",
     "text": [
      "                 open       high        low      close  adj close     volume  \\\n",
      "Date                                                                           \n",
      "2024-04-01  90.299004  92.224998  89.204002  90.362999  90.355576  452441000   \n",
      "2024-04-02  88.447998  90.094002  87.620003  89.452003  89.444656  433064000   \n",
      "2024-04-03  88.484001  90.374001  88.400002  88.963997  88.956688  370067000   \n",
      "2024-04-04  90.405998  90.634003  85.879997  85.904999  85.897942  434965000   \n",
      "2024-04-05  86.865997  88.481003  85.926003  88.008003  88.000778  399678000   \n",
      "\n",
      "            stochrsi      macd  mfi  \n",
      "Date                                 \n",
      "2024-04-01       NaN  0.000000  0.5  \n",
      "2024-04-02       NaN -0.020439  0.5  \n",
      "2024-04-03       NaN -0.041176  0.5  \n",
      "2024-04-04       NaN -0.160043  0.5  \n",
      "2024-04-05     100.0 -0.137581  0.5  \n"
     ]
    }
   ],
   "source": [
    "stock_df = ss.retype(stock_data)\n",
    "stock_data[['stochrsi', 'macd', 'mfi']] = stock_df[['stochrsi', 'macd', 'mfi']]\n",
    "print(stock_data.head())"
   ]
  },
  {
   "cell_type": "markdown",
   "metadata": {},
   "source": [
    "### Connect to Google BigQuery Service"
   ]
  },
  {
   "cell_type": "markdown",
   "metadata": {},
   "source": []
  },
  {
   "cell_type": "markdown",
   "metadata": {},
   "source": []
  },
  {
   "cell_type": "code",
   "execution_count": 8,
   "metadata": {},
   "outputs": [
    {
     "data": {
      "text/plain": [
       "'\\nSCOPES = [\\n    \\'https://www.googleapis.com/auth/cloud-platform\\',\\n    \\'https://www.googleapis.com/auth/drive\\',\\n]\\n\\n# Import google cloud service account and bigquery\\nfrom google.oauth2 import service_account\\nfrom google.cloud import bigquery\\n\\n# Specify google cloud project information\\ncredentials = service_account.Credentials.from_service_account_file(\\n    \\'...\\')\\nproject_id = \\'...\\'\\nclient = bigquery.Client(project=project_id, credentials=credentials)\\ndataset_id = \\'...\\'\\ntable_id = \\'...\\'\\ntable_path = f\"{project_id}.{dataset_id}.{table_id}\"\\n\\n# Specify load reqs\\nload_info = bigquery.LoadJobConfig(write_disposition=\"WRITE_TRUNCATE\")\\nload_data = client.load_table_from_dataframe(stock_data, table_path, job_config=load_info)\\nload_data.result()\\n'"
      ]
     },
     "execution_count": 8,
     "metadata": {},
     "output_type": "execute_result"
    }
   ],
   "source": [
    "SCOPES = [\n",
    "    'https://www.googleapis.com/auth/cloud-platform',\n",
    "    'https://www.googleapis.com/auth/drive',\n",
    "]\n",
    "\n",
    "# Import google cloud service account and bigquery\n",
    "from google.oauth2 import service_account\n",
    "from google.cloud import bigquery\n",
    "\n",
    "# Specify google cloud project information\n",
    "credentials = service_account.Credentials.from_service_account_file(\n",
    "    '...')\n",
    "project_id = '...'\n",
    "client = bigquery.Client(project=project_id, credentials=credentials)\n",
    "dataset_id = '...'\n",
    "table_id = '...'\n",
    "table_path = f\"{project_id}.{dataset_id}.{table_id}\"\n",
    "\n",
    "# Specify load reqs\n",
    "load_info = bigquery.LoadJobConfig(write_disposition=\"WRITE_TRUNCATE\")\n",
    "load_data = client.load_table_from_dataframe(stock_data, table_path, job_config=load_info)\n",
    "load_data.result()"
   ]
  },
  {
   "cell_type": "markdown",
   "metadata": {},
   "source": [
    "## Functions\n"
   ]
  },
  {
   "cell_type": "markdown",
   "metadata": {},
   "source": [
    "### SARIMA Model Functions"
   ]
  },
  {
   "cell_type": "code",
   "execution_count": 54,
   "metadata": {},
   "outputs": [],
   "source": [
    "from datetime import datetime\n",
    "import pandas as pd\n",
    "def sarima_forecast(model, df, forecast_date, Feature_Scaler):\n",
    "    print(\"forecast \\n\")\n",
    "    # Forecast\n",
    "    n_periods = (datetime.strptime(forecast_date, '%Y-%m-%d') - df.index[-1]).days\n",
    "    fitted, confint = model.predict(n_periods=n_periods, return_conf_int=True)\n",
    "    index_of_fc = pd.date_range(df.index[-1] + pd.DateOffset(days=1), periods = n_periods, freq='D')\n",
    "\n",
    "    # Make series for plotting purpose\n",
    "    fitted_series = pd.Series(fitted.values, index=index_of_fc)\n",
    "    lower_series = pd.Series(confint[:, 0], index=index_of_fc)\n",
    "    upper_series = pd.Series(confint[:, 1], index=index_of_fc)\n",
    "\n",
    "    #Concatenate the original DataFrame with forecasted values and confidence intervals\n",
    "    df_result = pd.concat([df, fitted_series, lower_series, upper_series], axis=1)\n",
    "    df_result.columns = [\"Actual\", \"Prediction\", \"Low\", \"High\"]\n",
    "\n",
    "    #Inverse transform the scaled values to their original scale\n",
    "    for column in df_result.columns:\n",
    "      df_result[column] = Feature_Scaler.inverse_transform(df_result[column].values.reshape(-1,1))\n",
    "\n",
    "    return df_result"
   ]
  },
  {
   "cell_type": "markdown",
   "metadata": {},
   "source": [
    "The process_model function takes a dataframe of scaled historical data and utilizes the auto_arima function (part of the pmdarima package) to process/create the SARIMA model."
   ]
  },
  {
   "cell_type": "code",
   "execution_count": 55,
   "metadata": {},
   "outputs": [],
   "source": [
    "def process_model(stock_transformed):\n",
    "    print(\"process model \\n\")\n",
    "    sarima_model = pm.auto_arima(stock_transformed[\"Close\"], start_p=1, start_q=1,\n",
    "                         test='adf',\n",
    "                         max_p=3, max_q=3,\n",
    "                         m=12, #12 is the frequency of the cycle (yearly)\n",
    "                         start_P=0,\n",
    "                         seasonal=True, #set to seasonal\n",
    "                         d=None,\n",
    "                         D=1, #order of the seasonal differencing\n",
    "                         trace=False,\n",
    "                         error_action='ignore',\n",
    "                         suppress_warnings=True,\n",
    "                         stepwise=True)\n",
    "    \n",
    "    return sarima_model"
   ]
  },
  {
   "cell_type": "markdown",
   "metadata": {},
   "source": [
    "The print_metrics function calculates the metrics used for comparison (AIC/BIC, p-value, R-squared, RMSE/MSE)"
   ]
  },
  {
   "cell_type": "code",
   "execution_count": 71,
   "metadata": {},
   "outputs": [],
   "source": [
    "import yfinance as yf\n",
    "import numpy as np\n",
    "\n",
    "def print_metrics(df_result, model, stock_name):\n",
    "    stock_ticker = yf.Ticker(stock_name)\n",
    "    # import actual closing prices into real_values dataframe\n",
    "    real_values = yf.download(stock_name, end='2024-06-11')\n",
    "    # calculate AIC and BIC\n",
    "    aic = model.aic()\n",
    "    bic = model.bic()\n",
    "    print(f\"AIC: {aic}\")\n",
    "    print(f\"BIC: {bic}\")\n",
    "\n",
    "    # Ensure indices match\n",
    "    #df_result = df_result.loc[real_values.index]\n",
    "    #df_result.dropna()\n",
    "    #real_values.dropna()\n",
    "    df_result = df_result.reindex(real_values.index)\n",
    "\n",
    "\n",
    "    # calculate RMSE and MSE\n",
    "    subtract = (real_values.loc['2024-06-01':'2024-06-11', \"Close\"] - df_result.loc['2024-06-01':'2024-06-11',\"Prediction\"])\n",
    "    mse = (subtract ** 2).mean()\n",
    "    rmse = np.sqrt(mse)\n",
    "    print(f\"MSE: {mse}\")\n",
    "    print(f\"RMSE: {rmse}\")\n",
    "\n",
    "    # calculate R-squared\n",
    "    # actual values - mean of actual values\n",
    "    ss_total = ((real_values.loc['2024-06-01':'2024-06-11', \"Close\"] - (real_values.loc['2024-06-01':'2024-06-11', \"Close\"]).mean()) ** 2).sum()\n",
    "    # residual sum of squares\n",
    "    ss_residual = ((real_values.loc['2024-06-01':'2024-06-11', \"Close\"] - df_result[\"Prediction\"]) ** 2).sum()\n",
    "    r_squared = 1 - (ss_residual / ss_total)\n",
    "    print(f\"R-squared: {r_squared}\")\n",
    "\n",
    "    # calculate p-value\n",
    "    import statsmodels.api as sm\n",
    "    X = sm.add_constant(df_result[\"Prediction\"])\n",
    "    y = real_values.loc['2024-06-01':'2024-06-11', \"Close\"]\n",
    "    print(X)\n",
    "    print(y)\n",
    "\n",
    "    # ensure indices match\n",
    "    X = X.loc[y.index]\n",
    "    y = y.loc[X.index]\n",
    "\n",
    "    # fit OLS model (ols regression)\n",
    "    model_sm = sm.OLS(y, X).fit()\n",
    "    # extract p-value\n",
    "    p_value = model_sm.pvalues[1]  # p-value for the 'Prediction' variable\n",
    "    print(f\"P-value: {p_value}\")\n",
    "\n",
    "    "
   ]
  },
  {
   "cell_type": "code",
   "execution_count": 57,
   "metadata": {},
   "outputs": [],
   "source": [
    "def serialize_deserialize(sarima_model):\n",
    "    print(\"serialize \\n\")\n",
    "    # Serialize with Pickle and save it as pkl\n",
    "    with open('sarima_model.pkl', 'wb') as pkl:\n",
    "        pickle.dump(sarima_model, pkl)\n",
    "\n",
    "    # Desiarilize the content of the file back into a Python object\n",
    "    with open('sarima_model.pkl', 'rb') as pkl:\n",
    "        loaded_model = pickle.load(pkl)\n",
    "\n",
    "    return loaded_model"
   ]
  },
  {
   "cell_type": "code",
   "execution_count": 58,
   "metadata": {},
   "outputs": [],
   "source": [
    "def sarima_load(stock_data, feature_scaler):\n",
    "    # remove any duplicate index\n",
    "    stock_data = stock_data.loc[~stock_data.index.duplicated(keep='first')]\n",
    "    # filter only required data\n",
    "    stock_data = stock_data[['Close']]\n",
    "    # transform current stock data\n",
    "    stock_transformed = pd.DataFrame(np.squeeze(feature_scaler.fit_transform(stock_data), axis=1), columns=[\"Close\"], index=stock_data.index)\n",
    "    # call function to fit a seasonal ARIMA model\n",
    "    sarima_model = process_model(stock_transformed)\n",
    "    # call function to serialize / deserialize SARIMA model with pickle\n",
    "    sarima_model = serialize_deserialize(sarima_model)\n",
    "    return stock_transformed, sarima_model"
   ]
  },
  {
   "cell_type": "markdown",
   "metadata": {},
   "source": [
    "### LSTM Model Functions (Additional Analysis)"
   ]
  },
  {
   "cell_type": "code",
   "execution_count": 59,
   "metadata": {},
   "outputs": [],
   "source": [
    "# LSTM functions\n",
    "\n",
    "def features_targets(data, feature_length):\n",
    "    # feature length is the number of time steps in the input sequence\n",
    "    # targets are the values the model is trying to forecast\n",
    "    time_step_list, close_label_list = [], []\n",
    "    \n",
    "    # iterate through (length of sequential data) to (length of seq data - feature length)\n",
    "    for i in range(len(data) - feature_length):\n",
    "        # this will get the vals leading up to the target\n",
    "        time_steps = data[i : i + feature_length]\n",
    "        time_step_list.append(time_steps)\n",
    "        # this will get the target val at this point\n",
    "        labels = data[i + feature_length]\n",
    "        close_label_list.append(labels)\n",
    "\n",
    "    # reshape lists to be suitable for network algo\n",
    "    time_step_list = np.array(time_step_list).reshape(len(time_step_list), feature_length, 1)\n",
    "    close_label_list = np.array(close_label_list).reshape(len(close_label_list), 1)\n",
    "\n",
    "    return time_step_list, close_label_list"
   ]
  },
  {
   "cell_type": "code",
   "execution_count": 60,
   "metadata": {},
   "outputs": [],
   "source": [
    "def create_model(X, Y, df, data, train_test_slice, scaler):\n",
    "    # training set: set to train the machine learning model\n",
    "    # testing set: set used to test model after model has been trained\n",
    "    # train set is 70% of data, test set is the rest (30%)\n",
    "    X_train, X_test = X[:-train_test_slice], X[-train_test_slice:]\n",
    "    Y_train, Y_test = Y[:-train_test_slice], Y[-train_test_slice:]\n",
    "\n",
    "    # initialize empty model where nodes have input and output with Keras\n",
    "    model = Sequential()\n",
    "    # create a bidirectional LSTM: \n",
    "    # - 100 cells\n",
    "    # - return output for input\n",
    "    # - reduce overfitting w current dropout\n",
    "    # - specify # of steps for target\n",
    "    model.add(Bidirectional(LSTM(100, return_sequences=True, recurrent_dropout=0.1, input_shape=(X_train.shape[1], 1))))\n",
    "    # provide additional processing with undirectional layer\n",
    "    model.add(LSTM(50, recurrent_dropout=0.1))\n",
    "    # add dropout and dense layers\n",
    "    # randomly sets 20% of inputs to 0 to prevent overfitting\n",
    "    model.add(Dropout(0.2))\n",
    "    # create a connected layer with 25 output units\n",
    "    model.add(Dense(20, activation='elu'))\n",
    "    model.add(Dropout(0.2))\n",
    "    # create a connected layer with 10 output units\n",
    "    model.add(Dense(10))\n",
    "    # create a connected layer with 1 output unit\n",
    "    model.add(Dense(1))\n",
    "\n",
    "    # optimize model using stochastic gradient descent to train model\n",
    "    # SGD \n",
    "    optimize = tf.keras.optimizers.SGD(learning_rate = 0.002)\n",
    "    # compile model\n",
    "    model.compile(loss='mean_squared_error', optimizer=optimize)\n",
    "    # save model weights validation loss improves\n",
    "    weights = ModelCheckpoint(\"best_weights.h5\", monitor='val_loss', save_best_only=True, save_weights_only=True)\n",
    "    # adjust learning rate when needed\n",
    "    reduce_lr = ReduceLROnPlateau(monitor='val_loss', factor=0.25, patience=4, min_lr=0.00001, verbose=1)\n",
    "\n",
    "    # one epoch completes when the entire training dataset is processed once by the model\n",
    "    model.fit(X_train, Y_train, epochs=12, batch_size=1, verbose=1, shuffle=False, validation_data=(X_test, Y_test), callbacks=[reduce_lr, weights])\n",
    "    actual = scaler.inverse_transform(Y_test)\n",
    "    predictions = model.predict(X_test)\n",
    "    predictions = scaler.inverse_transform(predictions)\n",
    "    actual = np.squeeze(actual, axis=1)\n",
    "    predictions = np.squeeze(predictions, axis=1)\n",
    "\n",
    "    #reassign index before it goes into model\n",
    "    test_df = pd.DataFrame({'Actual': actual, 'Predicted': predictions.flatten()})\n",
    "    print(test_df)\n",
    "    #return model, loss, predict, predict_inv, Y_test, scaler\n",
    "\n",
    "    '''\n",
    "    # Plotting test set\n",
    "    graph.plot(df.index[-train_test_slice:], predictions, label=\"Predicted\")\n",
    "    graph.plot(df.index[-train_test_slice:], actual, label=\"Actual\")\n",
    "    graph.xlabel('Date')\n",
    "    graph.ylabel('Stock Price')\n",
    "    graph.legend()\n",
    "    graph.savefig('predicted_stock_prices_lstm3_test.png')\n",
    "    graph.show()\n",
    "    '''\n",
    "    return model, X_train, X_test, Y_train, Y_test"
   ]
  },
  {
   "cell_type": "code",
   "execution_count": 61,
   "metadata": {},
   "outputs": [],
   "source": [
    "def predict_lstm(model, df, future_date, scaler, feature_length=20):\n",
    "    # iterate through today's date until future date\n",
    "    for i in range((datetime.strptime(future_date, '%Y-%m-%d') - df.index[-1]).days):\n",
    "        # specify close values\n",
    "        feature_column = df['Close'].values\n",
    "        # pick out last 20 days\n",
    "        time_steps = feature_column[-feature_length:]\n",
    "        # reshape array\n",
    "        time_steps = time_steps.reshape(feature_length, 1)\n",
    "        # scale array\n",
    "        time_steps = scaler.transform(time_steps)\n",
    "        prediction = model.predict(time_steps.reshape(1, feature_length, 1))\n",
    "        prediction = scaler.inverse_transform(prediction)\n",
    "        # concatenate results with og dataframe\n",
    "        df_forecast = pd.DataFrame(prediction, index=[df.index[-1] + timedelta(days=1)], columns=['Close'])\n",
    "        df = pd.concat([df, df_forecast])\n",
    "    return df"
   ]
  },
  {
   "cell_type": "code",
   "execution_count": 62,
   "metadata": {},
   "outputs": [],
   "source": [
    "def create_plot(test, stock_name):\n",
    "    # plot\n",
    "    plt.figure(figsize=(15,7))\n",
    "    plt.plot(test[\"Actual\"][-120:], color='#1f76b4')\n",
    "    plt.plot(test[\"Prediction\"], color='darkgreen')\n",
    "    plt.fill_between(test.index,\n",
    "                test[\"Low\"],\n",
    "                test[\"High\"],\n",
    "                color='k', alpha=.15)\n",
    "\n",
    "    plt.title(f\"SARIMA - Forecast of {stock_name} Stock Price\")\n",
    "    plt.show()"
   ]
  },
  {
   "cell_type": "markdown",
   "metadata": {},
   "source": [
    "## SARIMA Model for TSLA Stock\n",
    "\n",
    "\n",
    "(EXAMPLE) Predict stock share price for AAPL stock with historical time range 01-01-2013 to 05-31-2024:"
   ]
  },
  {
   "cell_type": "code",
   "execution_count": 74,
   "metadata": {},
   "outputs": [
    {
     "name": "stdout",
     "output_type": "stream",
     "text": [
      "[*********************100%%**********************]  1 of 1 completed\n",
      "process model \n",
      "\n",
      "serialize \n",
      "\n",
      "forecast \n",
      "\n"
     ]
    },
    {
     "name": "stderr",
     "output_type": "stream",
     "text": [
      "/Users/juliawilliams/Library/Python/3.9/lib/python/site-packages/statsmodels/tsa/base/tsa_model.py:836: ValueWarning: No supported index is available. Prediction results will be given with an integer index beginning at `start`.\n",
      "  return get_prediction_index(\n",
      "/Users/juliawilliams/Library/Python/3.9/lib/python/site-packages/statsmodels/tsa/base/tsa_model.py:836: FutureWarning: No supported index is available. In the next version, calling this method in a model without a supported index will result in an exception.\n",
      "  return get_prediction_index(\n"
     ]
    },
    {
     "name": "stdout",
     "output_type": "stream",
     "text": [
      "[*********************100%%**********************]  1 of 1 completed\n",
      "AIC: -21142.27121288247\n",
      "BIC: -21088.644020748146\n",
      "MSE: 63.13784863930403\n",
      "RMSE: 7.9459328363197255\n",
      "R-squared: -6.951988040762273\n",
      "            const  Prediction\n",
      "Date                         \n",
      "1999-01-22    1.0         NaN\n",
      "1999-01-25    1.0         NaN\n",
      "1999-01-26    1.0         NaN\n",
      "1999-01-27    1.0         NaN\n",
      "1999-01-28    1.0         NaN\n",
      "...           ...         ...\n",
      "2024-06-04    1.0  112.464485\n",
      "2024-06-05    1.0  112.072995\n",
      "2024-06-06    1.0  111.681595\n",
      "2024-06-07    1.0  111.344134\n",
      "2024-06-10    1.0  113.707829\n",
      "\n",
      "[6387 rows x 2 columns]\n",
      "Date\n",
      "2024-06-03    115.000000\n",
      "2024-06-04    116.436996\n",
      "2024-06-05    122.440002\n",
      "2024-06-06    120.998001\n",
      "2024-06-07    120.888000\n",
      "2024-06-10    121.790001\n",
      "Name: Close, dtype: float64\n",
      "P-value: 0.6131132666530215\n",
      "create plot \n",
      "\n"
     ]
    },
    {
     "name": "stderr",
     "output_type": "stream",
     "text": [
      "/var/folders/rt/v95zdjfs4ds4mcrrtdx2tfnw0000gn/T/ipykernel_58231/244965614.py:50: FutureWarning: Series.__getitem__ treating keys as positions is deprecated. In a future version, integer keys will always be treated as labels (consistent with DataFrame behavior). To access a value by position, use `ser.iloc[pos]`\n",
      "  p_value = model_sm.pvalues[1]  # p-value for the 'Prediction' variable\n"
     ]
    },
    {
     "data": {
      "image/png": "[encoded data removed]",
      "text/plain": [
       "<Figure size 1500x700 with 1 Axes>"
      ]
     },
     "metadata": {},
     "output_type": "display_data"
    }
   ],
   "source": [
    "import yfinance as yf\n",
    "stock_select_str1 = input(\"Enter stock ticker: \")\n",
    "                       \n",
    "# initial load run\n",
    "stock_data = yf.download(stock_select_str, start = '2013-01-01', end = '2024-05-31', interval = '1d')\n",
    "# scale data\n",
    "feature_scaler = MinMaxScaler()\n",
    "# run SARIMA functions for initial load\n",
    "initial_transformed, initial_model = sarima_load(stock_data, feature_scaler)\n",
    "initial_df_pred_sarima = sarima_forecast(initial_model, initial_transformed, '2024-06-11', feature_scaler)\n",
    "print_metrics(initial_df_pred_sarima.tail(11), initial_model, stock_select_str)\n",
    "plot = create_plot(initial_df_pred_sarima, stock_select_str)\n",
    "\n"
   ]
  },
  {
   "cell_type": "markdown",
   "metadata": {},
   "source": [
    "## SARIMA Model for AAPL Stock\n",
    "\n",
    "\n",
    "(EXAMPLE) Predict stock share price for AAPL stock with historical time range 01-01-2013 to 05-31-2024:"
   ]
  },
  {
   "cell_type": "code",
   "execution_count": null,
   "metadata": {},
   "outputs": [],
   "source": [
    "import yfinance as yf\n",
    "stock_select_str1 = input(\"Enter stock ticker: \")\n",
    "                       \n",
    "# initial load run\n",
    "stock_data = yf.download(stock_select_str, start = '2013-01-01', end = '2024-05-31', interval = '1d')\n",
    "# scale data\n",
    "feature_scaler = MinMaxScaler()\n",
    "# run SARIMA functions for initial load\n",
    "initial_transformed, initial_model = sarima_load(stock_data, feature_scaler)\n",
    "initial_df_pred_sarima = sarima_forecast(initial_model, initial_transformed, '2024-06-11', feature_scaler)\n",
    "print_metrics(initial_df_pred_sarima.tail(11), initial_model, stock_select_str)\n",
    "plot = create_plot(initial_df_pred_sarima, stock_select_str)\n"
   ]
  },
  {
   "cell_type": "markdown",
   "metadata": {},
   "source": [
    "## SARIMA Model for NVDA Stock\n",
    "\n",
    "\n",
    "(EXAMPLE) Predict stock share price for AAPL stock with historical time range 01-01-2013 to 05-31-2024:"
   ]
  },
  {
   "cell_type": "code",
   "execution_count": null,
   "metadata": {},
   "outputs": [],
   "source": [
    "import yfinance as yf\n",
    "stock_select_str1 = input(\"Enter stock ticker: \")\n",
    "                       \n",
    "# initial load run\n",
    "stock_data = yf.download(stock_select_str, start = '2013-01-01', end = '2024-05-31', interval = '1d')\n",
    "# scale data\n",
    "feature_scaler = MinMaxScaler()\n",
    "# run SARIMA functions for initial load\n",
    "initial_transformed, initial_model = sarima_load(stock_data, feature_scaler)\n",
    "initial_df_pred_sarima = sarima_forecast(initial_model, initial_transformed, '2024-06-11', feature_scaler)\n",
    "print_metrics(initial_df_pred_sarima.tail(11), initial_model, stock_select_str)\n",
    "plot = create_plot(initial_df_pred_sarima, stock_select_str)"
   ]
  },
  {
   "cell_type": "markdown",
   "metadata": {},
   "source": [
    "## Actual vs Predicted Values for AAPL"
   ]
  },
  {
   "cell_type": "markdown",
   "metadata": {},
   "source": [
    "## Actual vs Predicted Values for TSLA"
   ]
  },
  {
   "cell_type": "markdown",
   "metadata": {},
   "source": [
    "### SARIMA plot"
   ]
  },
  {
   "cell_type": "markdown",
   "metadata": {},
   "source": [
    "## Step 2: LSTM\n",
    "*why?*  \n",
    "\n",
    "LSTM MODEL:"
   ]
  },
  {
   "cell_type": "code",
   "execution_count": 41,
   "metadata": {},
   "outputs": [
    {
     "name": "stdout",
     "output_type": "stream",
     "text": [
      "[*********************100%%**********************]  1 of 1 completed\n"
     ]
    }
   ],
   "source": [
    "apple_data = yf.download(\"AAPL\", start = \"2020-01-01\", interval = '1d')\n",
    "apple_df_test = apple_data.reset_index()\n",
    "apple_df = apple_df_test.copy()"
   ]
  },
  {
   "cell_type": "code",
   "execution_count": 42,
   "metadata": {},
   "outputs": [],
   "source": [
    "scaler = MinMaxScaler()\n",
    "data_transformed = pd.DataFrame(\n",
    "    np.squeeze(\n",
    "        scaler.fit_transform(\n",
    "            apple_df[[\"Close\"]])), columns=[\"Close\"], index=apple_df.index)"
   ]
  },
  {
   "cell_type": "code",
   "execution_count": 43,
   "metadata": {},
   "outputs": [],
   "source": [
    "time_step_vals, target_vals = features_targets(data_transformed[\"Close\"].values, 20)"
   ]
  },
  {
   "cell_type": "code",
   "execution_count": 44,
   "metadata": {},
   "outputs": [],
   "source": [
    "train_vals_cutoff = apple_df.loc[apple_df['Date'] >= '2022-01-01']\n",
    "slice = train_vals_cutoff.shape[0]\n"
   ]
  },
  {
   "cell_type": "code",
   "execution_count": 45,
   "metadata": {},
   "outputs": [
    {
     "name": "stderr",
     "output_type": "stream",
     "text": [
      "WARNING:absl:At this time, the v2.11+ optimizer `tf.keras.optimizers.SGD` runs slowly on M1/M2 Macs, please use the legacy Keras optimizer instead, located at `tf.keras.optimizers.legacy.SGD`.\n"
     ]
    },
    {
     "name": "stdout",
     "output_type": "stream",
     "text": [
      "Epoch 1/12\n",
      "485/485 [==============================] - 11s 20ms/step - loss: 0.0062 - val_loss: 0.0161 - lr: 0.0020\n",
      "Epoch 2/12\n",
      "485/485 [==============================] - 9s 19ms/step - loss: 0.0111 - val_loss: 0.0146 - lr: 0.0020\n",
      "Epoch 3/12\n",
      "485/485 [==============================] - 9s 18ms/step - loss: 0.0101 - val_loss: 0.0121 - lr: 0.0020\n",
      "Epoch 4/12\n",
      "485/485 [==============================] - 9s 18ms/step - loss: 0.0092 - val_loss: 0.0111 - lr: 0.0020\n",
      "Epoch 5/12\n",
      "485/485 [==============================] - 8s 17ms/step - loss: 0.0081 - val_loss: 0.0095 - lr: 0.0020\n",
      "Epoch 6/12\n",
      "485/485 [==============================] - 8s 18ms/step - loss: 0.0069 - val_loss: 0.0088 - lr: 0.0020\n",
      "Epoch 7/12\n",
      "485/485 [==============================] - 8s 17ms/step - loss: 0.0061 - val_loss: 0.0076 - lr: 0.0020\n",
      "Epoch 8/12\n",
      "485/485 [==============================] - 8s 17ms/step - loss: 0.0052 - val_loss: 0.0067 - lr: 0.0020\n",
      "Epoch 9/12\n",
      "485/485 [==============================] - 8s 17ms/step - loss: 0.0053 - val_loss: 0.0057 - lr: 0.0020\n",
      "Epoch 10/12\n",
      "485/485 [==============================] - 10s 20ms/step - loss: 0.0043 - val_loss: 0.0051 - lr: 0.0020\n",
      "Epoch 11/12\n",
      "485/485 [==============================] - 10s 20ms/step - loss: 0.0041 - val_loss: 0.0045 - lr: 0.0020\n",
      "Epoch 12/12\n",
      "485/485 [==============================] - 9s 18ms/step - loss: 0.0035 - val_loss: 0.0040 - lr: 0.0020\n",
      "21/21 [==============================] - 1s 6ms/step\n",
      "         Actual   Predicted\n",
      "0    182.009995  173.255264\n",
      "1    179.699997  173.645081\n",
      "2    174.919998  173.934372\n",
      "3    172.000000  173.981308\n",
      "4    172.169998  173.828247\n",
      "..          ...         ...\n",
      "658  226.050003  196.137405\n",
      "659  225.889999  196.554581\n",
      "660  226.509995  196.991425\n",
      "661  226.399994  197.441620\n",
      "662  225.190002  197.902679\n",
      "\n",
      "[663 rows x 2 columns]\n"
     ]
    }
   ],
   "source": [
    "model, X_train, X_test, Y_train, Y_test = create_model(\n",
    "        time_step_vals, target_vals, apple_df, data_transformed[\"Close\"].values, slice, scaler)"
   ]
  },
  {
   "cell_type": "code",
   "execution_count": 48,
   "metadata": {},
   "outputs": [
    {
     "name": "stdout",
     "output_type": "stream",
     "text": [
      "36/36 [==============================] - 0s 6ms/step\n"
     ]
    }
   ],
   "source": [
    "total_x = np.concatenate((X_train, X_test), axis = 0)\n",
    "total_y = np.concatenate((Y_train, Y_test), axis = 0)\n",
    "final_predict = model.predict(total_x)\n",
    "final_predict = scaler.inverse_transform(final_predict)\n",
    "actual = scaler.inverse_transform(total_y)\n",
    "final_predict = np.squeeze(final_predict, axis = 1)\n",
    "actual = np.squeeze(actual, axis = 1)"
   ]
  },
  {
   "cell_type": "markdown",
   "metadata": {},
   "source": [
    "### LSTM plot"
   ]
  },
  {
   "cell_type": "code",
   "execution_count": 49,
   "metadata": {},
   "outputs": [
    {
     "data": {
      "image/png": "[encoded data removed]",
      "text/plain": [
       "<Figure size 640x480 with 1 Axes>"
      ]
     },
     "metadata": {},
     "output_type": "display_data"
    }
   ],
   "source": [
    "graph.plot(final_predict, label = \"total predict\")\n",
    "graph.plot(actual, label = \"total actual\")\n",
    "graph.xlabel('Date')\n",
    "graph.ylabel('Stock Price')\n",
    "graph.legend()\n",
    "graph.savefig('test.png')\n",
    "graph.show()"
   ]
  },
  {
   "cell_type": "code",
   "execution_count": 50,
   "metadata": {},
   "outputs": [
    {
     "name": "stdout",
     "output_type": "stream",
     "text": [
      "1/1 [==============================] - 0s 14ms/step\n"
     ]
    }
   ],
   "source": [
    "model.predict(data_transformed[-21:-1].values.reshape(1,20,1))\n",
    "data = pd.DataFrame(apple_data)\n",
    "test = predict_lstm(model, data, '2024-02-01', scaler)"
   ]
  },
  {
   "cell_type": "code",
   "execution_count": 51,
   "metadata": {},
   "outputs": [
    {
     "data": {
      "text/html": [
       "<div>\n",
       "<style scoped>\n",
       "    .dataframe tbody tr th:only-of-type {\n",
       "        vertical-align: middle;\n",
       "    }\n",
       "\n",
       "    .dataframe tbody tr th {\n",
       "        vertical-align: top;\n",
       "    }\n",
       "\n",
       "    .dataframe thead th {\n",
       "        text-align: right;\n",
       "    }\n",
       "</style>\n",
       "<table border=\"1\" class=\"dataframe\">\n",
       "  <thead>\n",
       "    <tr style=\"text-align: right;\">\n",
       "      <th></th>\n",
       "      <th>Open</th>\n",
       "      <th>High</th>\n",
       "      <th>Low</th>\n",
       "      <th>Close</th>\n",
       "      <th>Adj Close</th>\n",
       "      <th>Volume</th>\n",
       "    </tr>\n",
       "    <tr>\n",
       "      <th>Date</th>\n",
       "      <th></th>\n",
       "      <th></th>\n",
       "      <th></th>\n",
       "      <th></th>\n",
       "      <th></th>\n",
       "      <th></th>\n",
       "    </tr>\n",
       "  </thead>\n",
       "  <tbody>\n",
       "    <tr>\n",
       "      <th>2024-08-16</th>\n",
       "      <td>223.919998</td>\n",
       "      <td>226.830002</td>\n",
       "      <td>223.649994</td>\n",
       "      <td>226.050003</td>\n",
       "      <td>226.050003</td>\n",
       "      <td>44340200</td>\n",
       "    </tr>\n",
       "    <tr>\n",
       "      <th>2024-08-19</th>\n",
       "      <td>225.720001</td>\n",
       "      <td>225.990005</td>\n",
       "      <td>223.039993</td>\n",
       "      <td>225.889999</td>\n",
       "      <td>225.889999</td>\n",
       "      <td>40687800</td>\n",
       "    </tr>\n",
       "    <tr>\n",
       "      <th>2024-08-20</th>\n",
       "      <td>225.770004</td>\n",
       "      <td>227.169998</td>\n",
       "      <td>225.449997</td>\n",
       "      <td>226.509995</td>\n",
       "      <td>226.509995</td>\n",
       "      <td>30299000</td>\n",
       "    </tr>\n",
       "    <tr>\n",
       "      <th>2024-08-21</th>\n",
       "      <td>226.520004</td>\n",
       "      <td>227.979996</td>\n",
       "      <td>225.050003</td>\n",
       "      <td>226.399994</td>\n",
       "      <td>226.399994</td>\n",
       "      <td>34729100</td>\n",
       "    </tr>\n",
       "    <tr>\n",
       "      <th>2024-08-22</th>\n",
       "      <td>227.600006</td>\n",
       "      <td>228.339996</td>\n",
       "      <td>224.920105</td>\n",
       "      <td>225.190002</td>\n",
       "      <td>225.190002</td>\n",
       "      <td>18135958</td>\n",
       "    </tr>\n",
       "  </tbody>\n",
       "</table>\n",
       "</div>"
      ],
      "text/plain": [
       "                  Open        High         Low       Close   Adj Close  \\\n",
       "Date                                                                     \n",
       "2024-08-16  223.919998  226.830002  223.649994  226.050003  226.050003   \n",
       "2024-08-19  225.720001  225.990005  223.039993  225.889999  225.889999   \n",
       "2024-08-20  225.770004  227.169998  225.449997  226.509995  226.509995   \n",
       "2024-08-21  226.520004  227.979996  225.050003  226.399994  226.399994   \n",
       "2024-08-22  227.600006  228.339996  224.920105  225.190002  225.190002   \n",
       "\n",
       "              Volume  \n",
       "Date                  \n",
       "2024-08-16  44340200  \n",
       "2024-08-19  40687800  \n",
       "2024-08-20  30299000  \n",
       "2024-08-21  34729100  \n",
       "2024-08-22  18135958  "
      ]
     },
     "execution_count": 51,
     "metadata": {},
     "output_type": "execute_result"
    }
   ],
   "source": [
    "test.tail()"
   ]
  },
  {
   "cell_type": "markdown",
   "metadata": {},
   "source": [
    "# Q: is this where the combo assessment goes?"
   ]
  },
  {
   "cell_type": "markdown",
   "metadata": {},
   "source": [
    "# Q: Why does SARIMA only have 1 function, but LSTM has several?"
   ]
  },
  {
   "cell_type": "markdown",
   "metadata": {},
   "source": [
    "# Q: do you want to output plots as pngs?"
   ]
  },
  {
   "cell_type": "markdown",
   "metadata": {},
   "source": [
    "## Write to file"
   ]
  },
  {
   "cell_type": "code",
   "execution_count": null,
   "metadata": {},
   "outputs": [],
   "source": [
    "\n",
    "# specify google cloud project information\n",
    "dataset_id = 'predicted_prices'\n",
    "table_id = 'SARIMA and LTSM Predicted Prices'\n",
    "table_path = f\"{project_id}.{dataset_id}.{table_id}\"\n",
    "\n",
    "# specify load reqs\n",
    "load_info = bigquery.LoadJobConfig(write_disposition=\"WRITE_TRUNCATE\")\n",
    "# enter combined data load_data = client.load_table_from_dataframe(combined data, table_path, job_config=load_info)\n",
    "load_data.result()"
   ]
  },
  {
   "cell_type": "markdown",
   "metadata": {},
   "source": [
    "## Summary\n",
    "** a bit more detail about why a client would need this and what value it would bring to their work **"
   ]
  }
 ],
 "metadata": {
  "kernelspec": {
   "display_name": "Python 3",
   "language": "python",
   "name": "python3"
  },
  "language_info": {
   "codemirror_mode": {
    "name": "ipython",
    "version": 3
   },
   "file_extension": ".py",
   "mimetype": "text/x-python",
   "name": "python",
   "nbconvert_exporter": "python",
   "pygments_lexer": "ipython3",
   "version": "3.9.6"
  }
 },
 "nbformat": 4,
 "nbformat_minor": 2
}
